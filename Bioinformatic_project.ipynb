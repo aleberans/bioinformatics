{
  "nbformat": 4,
  "nbformat_minor": 0,
  "metadata": {
    "colab": {
      "name": "Bioinformatic_project.ipynb",
      "provenance": [],
      "collapsed_sections": [],
      "authorship_tag": "ABX9TyNdvroPYtdwEFQWigsehkgB",
      "include_colab_link": true
    },
    "kernelspec": {
      "name": "python3",
      "display_name": "Python 3"
    },
    "language_info": {
      "name": "python"
    }
  },
  "cells": [
    {
      "cell_type": "markdown",
      "metadata": {
        "id": "view-in-github",
        "colab_type": "text"
      },
      "source": [
        "<a href=\"https://colab.research.google.com/github/samuvale95/bioinformatics/blob/samuele/Bioinformatic_project.ipynb\" target=\"_parent\"><img src=\"https://colab.research.google.com/assets/colab-badge.svg\" alt=\"Open In Colab\"/></a>"
      ]
    },
    {
      "cell_type": "markdown",
      "source": [
        "#Installing requirements"
      ],
      "metadata": {
        "id": "nI9rcgSk3_2a"
      }
    },
    {
      "cell_type": "code",
      "execution_count": null,
      "metadata": {
        "id": "hD4eeO3I3tEt"
      },
      "outputs": [],
      "source": [
        "!pip install scikit-learn\n",
        "!pip install barplots\n",
        "!pip install plot_keras_history\n",
        "!pip install epigenomic_dataset>=1.1.7\n",
        "!pip install ucsc_genomes_downloader>=1.1.22\n",
        "!pip install keras_bed_sequence>=1.1.5\n",
        "!pip install ray\n",
        "!pip install seaborn\n",
        "!pip install minepy\n",
        "!pip install boruta\n",
        "!pip install prince\n",
        "!pip install cmake\n",
        "!pip install multicoretsne\n",
        "!pip install silence_tensorflow>=1.1.1"
      ]
    }
  ]
}
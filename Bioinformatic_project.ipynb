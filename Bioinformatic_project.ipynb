{
  "cells": [
    {
      "cell_type": "markdown",
      "metadata": {
        "id": "view-in-github",
        "colab_type": "text"
      },
      "source": [
        "<a href=\"https://colab.research.google.com/github/ndrep/bioinformatics/blob/main/Bioinformatic_project.ipynb\" target=\"_parent\"><img src=\"https://colab.research.google.com/assets/colab-badge.svg\" alt=\"Open In Colab\"/></a>"
      ]
    },
    {
      "cell_type": "markdown",
      "source": [
        "# Mount drive"
      ],
      "metadata": {
        "id": "2A2YUWSkhPp_"
      }
    },
    {
      "cell_type": "code",
      "source": [
        "from google.colab import drive\n",
        "\n",
        "drive.mount(\"/drive/\")"
      ],
      "metadata": {
        "colab": {
          "base_uri": "https://localhost:8080/"
        },
        "id": "8LXk9FzehWGN",
        "outputId": "77de2e22-ea71-4394-f6d3-12af7f32be37"
      },
      "execution_count": 1,
      "outputs": [
        {
          "output_type": "stream",
          "name": "stdout",
          "text": [
            "Mounted at /drive/\n"
          ]
        }
      ]
    },
    {
      "cell_type": "markdown",
      "metadata": {
        "id": "nI9rcgSk3_2a"
      },
      "source": [
        "#Installing requirements"
      ]
    },
    {
      "cell_type": "code",
      "execution_count": 2,
      "metadata": {
        "colab": {
          "base_uri": "https://localhost:8080/"
        },
        "id": "hD4eeO3I3tEt",
        "outputId": "98fcd708-f62a-45e8-9016-4046bb7a957f"
      },
      "outputs": [
        {
          "output_type": "stream",
          "name": "stdout",
          "text": [
            "\u001b[?25l\r\u001b[K     |███▎                            | 10 kB 9.5 MB/s eta 0:00:01\r\u001b[K     |██████▋                         | 20 kB 5.8 MB/s eta 0:00:01\r\u001b[K     |██████████                      | 30 kB 4.6 MB/s eta 0:00:01\r\u001b[K     |█████████████▎                  | 40 kB 1.8 MB/s eta 0:00:01\r\u001b[K     |████████████████▋               | 51 kB 1.9 MB/s eta 0:00:01\r\u001b[K     |████████████████████            | 61 kB 2.3 MB/s eta 0:00:01\r\u001b[K     |███████████████████████▎        | 71 kB 2.4 MB/s eta 0:00:01\r\u001b[K     |██████████████████████████▋     | 81 kB 2.7 MB/s eta 0:00:01\r\u001b[K     |██████████████████████████████  | 92 kB 2.9 MB/s eta 0:00:01\r\u001b[K     |████████████████████████████████| 98 kB 1.9 MB/s \n",
            "\u001b[?25h  Building wheel for cache-decorator (setup.py) ... \u001b[?25l\u001b[?25hdone\n",
            "  Building wheel for compress-json (setup.py) ... \u001b[?25l\u001b[?25hdone\n",
            "  Building wheel for dict-hash (setup.py) ... \u001b[?25l\u001b[?25hdone\n",
            "  Building wheel for deflate-dict (setup.py) ... \u001b[?25l\u001b[?25hdone\n",
            "\u001b[33mWARNING: cache-decorator 2.0.8 does not provide the extra 'compress_json'\u001b[0m\n",
            "\u001b[K     |████████████████████████████████| 57.6 MB 1.2 MB/s \n",
            "\u001b[K     |████████████████████████████████| 495 kB 49.7 MB/s \n",
            "\u001b[K     |████████████████████████████████| 56 kB 3.8 MB/s \n",
            "\u001b[K     |████████████████████████████████| 119 kB 51.8 MB/s \n",
            "\u001b[?25h  Building wheel for minepy (setup.py) ... \u001b[?25l\u001b[?25hdone\n",
            "Looking in links: https://tsnecuda.isx.ai/tsnecuda_stable.html\n",
            "Collecting tsnecuda==3.0.0+cu110\n",
            "  Downloading https://tsnecuda.isx.ai/dist/tsnecuda-3.0.0%2Bcu110-py3-none-any.whl (55.4 MB)\n",
            "\u001b[K     |████████████████████████████████| 55.4 MB 1.3 MB/s \n",
            "\u001b[?25hInstalling collected packages: tsnecuda\n",
            "Successfully installed tsnecuda-3.0.0+cu110\n",
            "\u001b[K     |████████████████████████████████| 4.7 MB 2.0 MB/s \n",
            "\u001b[K     |████████████████████████████████| 4.0 MB 37.2 MB/s \n",
            "\u001b[31mERROR: pip's dependency resolver does not currently take into account all the packages that are installed. This behaviour is the source of the following dependency conflicts.\n",
            "tsnecuda 3.0.0+cu110 requires faiss==1.6.5, but you have faiss 1.5.3 which is incompatible.\u001b[0m\n",
            "\u001b[?25hCollecting extra_keras_metrics\n",
            "  Downloading extra_keras_metrics-2.0.5.tar.gz (8.5 kB)\n",
            "Requirement already satisfied: decorator in /usr/local/lib/python3.7/dist-packages (from extra_keras_metrics) (4.4.2)\n",
            "Building wheels for collected packages: extra-keras-metrics\n",
            "  Building wheel for extra-keras-metrics (setup.py) ... \u001b[?25l\u001b[?25hdone\n",
            "  Created wheel for extra-keras-metrics: filename=extra_keras_metrics-2.0.5-py3-none-any.whl size=14204 sha256=3ed2fbc4ddef4bec5d20517b1f813d67278317726f08adbdd3e28553abaa1eae\n",
            "  Stored in directory: /root/.cache/pip/wheels/63/4e/93/db952d2851565bce46c84fc138a87c25119540133b5a2fda31\n",
            "Successfully built extra-keras-metrics\n",
            "Installing collected packages: extra-keras-metrics\n",
            "Successfully installed extra-keras-metrics-2.0.5\n",
            "Collecting keras-tuner\n",
            "  Downloading keras_tuner-1.1.0-py3-none-any.whl (98 kB)\n",
            "\u001b[K     |████████████████████████████████| 98 kB 2.1 MB/s \n",
            "\u001b[?25hRequirement already satisfied: requests in /usr/local/lib/python3.7/dist-packages (from keras-tuner) (2.23.0)\n",
            "Requirement already satisfied: tensorboard in /usr/local/lib/python3.7/dist-packages (from keras-tuner) (2.7.0)\n",
            "Collecting kt-legacy\n",
            "  Downloading kt_legacy-1.0.4-py3-none-any.whl (9.6 kB)\n",
            "Requirement already satisfied: packaging in /usr/local/lib/python3.7/dist-packages (from keras-tuner) (21.3)\n",
            "Requirement already satisfied: scipy in /usr/local/lib/python3.7/dist-packages (from keras-tuner) (1.4.1)\n",
            "Requirement already satisfied: numpy in /usr/local/lib/python3.7/dist-packages (from keras-tuner) (1.19.5)\n",
            "Requirement already satisfied: ipython in /usr/local/lib/python3.7/dist-packages (from keras-tuner) (5.5.0)\n",
            "Requirement already satisfied: decorator in /usr/local/lib/python3.7/dist-packages (from ipython->keras-tuner) (4.4.2)\n",
            "Requirement already satisfied: setuptools>=18.5 in /usr/local/lib/python3.7/dist-packages (from ipython->keras-tuner) (57.4.0)\n",
            "Requirement already satisfied: pickleshare in /usr/local/lib/python3.7/dist-packages (from ipython->keras-tuner) (0.7.5)\n",
            "Requirement already satisfied: simplegeneric>0.8 in /usr/local/lib/python3.7/dist-packages (from ipython->keras-tuner) (0.8.1)\n",
            "Requirement already satisfied: pygments in /usr/local/lib/python3.7/dist-packages (from ipython->keras-tuner) (2.6.1)\n",
            "Requirement already satisfied: traitlets>=4.2 in /usr/local/lib/python3.7/dist-packages (from ipython->keras-tuner) (5.1.1)\n",
            "Requirement already satisfied: pexpect in /usr/local/lib/python3.7/dist-packages (from ipython->keras-tuner) (4.8.0)\n",
            "Requirement already satisfied: prompt-toolkit<2.0.0,>=1.0.4 in /usr/local/lib/python3.7/dist-packages (from ipython->keras-tuner) (1.0.18)\n",
            "Requirement already satisfied: six>=1.9.0 in /usr/local/lib/python3.7/dist-packages (from prompt-toolkit<2.0.0,>=1.0.4->ipython->keras-tuner) (1.15.0)\n",
            "Requirement already satisfied: wcwidth in /usr/local/lib/python3.7/dist-packages (from prompt-toolkit<2.0.0,>=1.0.4->ipython->keras-tuner) (0.2.5)\n",
            "Requirement already satisfied: pyparsing!=3.0.5,>=2.0.2 in /usr/local/lib/python3.7/dist-packages (from packaging->keras-tuner) (3.0.6)\n",
            "Requirement already satisfied: ptyprocess>=0.5 in /usr/local/lib/python3.7/dist-packages (from pexpect->ipython->keras-tuner) (0.7.0)\n",
            "Requirement already satisfied: certifi>=2017.4.17 in /usr/local/lib/python3.7/dist-packages (from requests->keras-tuner) (2021.10.8)\n",
            "Requirement already satisfied: chardet<4,>=3.0.2 in /usr/local/lib/python3.7/dist-packages (from requests->keras-tuner) (3.0.4)\n",
            "Requirement already satisfied: idna<3,>=2.5 in /usr/local/lib/python3.7/dist-packages (from requests->keras-tuner) (2.10)\n",
            "Requirement already satisfied: urllib3!=1.25.0,!=1.25.1,<1.26,>=1.21.1 in /usr/local/lib/python3.7/dist-packages (from requests->keras-tuner) (1.24.3)\n",
            "Requirement already satisfied: google-auth<3,>=1.6.3 in /usr/local/lib/python3.7/dist-packages (from tensorboard->keras-tuner) (1.35.0)\n",
            "Requirement already satisfied: wheel>=0.26 in /usr/local/lib/python3.7/dist-packages (from tensorboard->keras-tuner) (0.37.0)\n",
            "Requirement already satisfied: werkzeug>=0.11.15 in /usr/local/lib/python3.7/dist-packages (from tensorboard->keras-tuner) (1.0.1)\n",
            "Requirement already satisfied: tensorboard-plugin-wit>=1.6.0 in /usr/local/lib/python3.7/dist-packages (from tensorboard->keras-tuner) (1.8.0)\n",
            "Requirement already satisfied: markdown>=2.6.8 in /usr/local/lib/python3.7/dist-packages (from tensorboard->keras-tuner) (3.3.6)\n",
            "Requirement already satisfied: absl-py>=0.4 in /usr/local/lib/python3.7/dist-packages (from tensorboard->keras-tuner) (0.12.0)\n",
            "Requirement already satisfied: grpcio>=1.24.3 in /usr/local/lib/python3.7/dist-packages (from tensorboard->keras-tuner) (1.42.0)\n",
            "Requirement already satisfied: tensorboard-data-server<0.7.0,>=0.6.0 in /usr/local/lib/python3.7/dist-packages (from tensorboard->keras-tuner) (0.6.1)\n",
            "Requirement already satisfied: google-auth-oauthlib<0.5,>=0.4.1 in /usr/local/lib/python3.7/dist-packages (from tensorboard->keras-tuner) (0.4.6)\n",
            "Requirement already satisfied: protobuf>=3.6.0 in /usr/local/lib/python3.7/dist-packages (from tensorboard->keras-tuner) (3.17.3)\n",
            "Requirement already satisfied: pyasn1-modules>=0.2.1 in /usr/local/lib/python3.7/dist-packages (from google-auth<3,>=1.6.3->tensorboard->keras-tuner) (0.2.8)\n",
            "Requirement already satisfied: rsa<5,>=3.1.4 in /usr/local/lib/python3.7/dist-packages (from google-auth<3,>=1.6.3->tensorboard->keras-tuner) (4.8)\n",
            "Requirement already satisfied: cachetools<5.0,>=2.0.0 in /usr/local/lib/python3.7/dist-packages (from google-auth<3,>=1.6.3->tensorboard->keras-tuner) (4.2.4)\n",
            "Requirement already satisfied: requests-oauthlib>=0.7.0 in /usr/local/lib/python3.7/dist-packages (from google-auth-oauthlib<0.5,>=0.4.1->tensorboard->keras-tuner) (1.3.0)\n",
            "Requirement already satisfied: importlib-metadata>=4.4 in /usr/local/lib/python3.7/dist-packages (from markdown>=2.6.8->tensorboard->keras-tuner) (4.8.2)\n",
            "Requirement already satisfied: zipp>=0.5 in /usr/local/lib/python3.7/dist-packages (from importlib-metadata>=4.4->markdown>=2.6.8->tensorboard->keras-tuner) (3.6.0)\n",
            "Requirement already satisfied: typing-extensions>=3.6.4 in /usr/local/lib/python3.7/dist-packages (from importlib-metadata>=4.4->markdown>=2.6.8->tensorboard->keras-tuner) (3.10.0.2)\n",
            "Requirement already satisfied: pyasn1<0.5.0,>=0.4.6 in /usr/local/lib/python3.7/dist-packages (from pyasn1-modules>=0.2.1->google-auth<3,>=1.6.3->tensorboard->keras-tuner) (0.4.8)\n",
            "Requirement already satisfied: oauthlib>=3.0.0 in /usr/local/lib/python3.7/dist-packages (from requests-oauthlib>=0.7.0->google-auth-oauthlib<0.5,>=0.4.1->tensorboard->keras-tuner) (3.1.1)\n",
            "Installing collected packages: kt-legacy, keras-tuner\n",
            "Successfully installed keras-tuner-1.1.0 kt-legacy-1.0.4\n"
          ]
        }
      ],
      "source": [
        "!pip install -q \"cache_decorator[all]\"==2.0.8 humanize scikit-learn\n",
        "!pip install -q barplots plot_keras_history epigenomic_dataset>=1.1.7\n",
        "!pip install -q ucsc_genomes_downloader>=1.1.22 keras_bed_sequence>=1.1.5\n",
        "!pip install -q keras_mixed_sequence ray seaborn minepy boruta prince cmake\n",
        "!pip install -q multicoretsne silence_tensorflow>=1.1.1\n",
        "!pip install tsnecuda==3.0.0+cu110 -f https://tsnecuda.isx.ai/tsnecuda_stable.html --no-dependencies\n",
        "!pip install -q faiss tbb\n",
        "!pip install extra_keras_metrics\n",
        "!pip install -U keras-tuner"
      ]
    },
    {
      "cell_type": "markdown",
      "metadata": {
        "id": "mU3_opE0cigA"
      },
      "source": [
        "#Import packages"
      ]
    },
    {
      "cell_type": "code",
      "execution_count": 3,
      "metadata": {
        "id": "x5jwvr5xcnGp"
      },
      "outputs": [],
      "source": [
        "from typing import Dict, List, Tuple, Optional\n",
        "from cache_decorator import Cache\n",
        "import numpy as np\n",
        "import pandas as pd\n",
        "from tqdm.auto import tqdm\n",
        "from matplotlib.axes import Axes\n",
        "from matplotlib.figure import Figure\n",
        "from matplotlib.colors import ListedColormap, LogNorm\n",
        "from multiprocessing import cpu_count, Pool\n",
        "import matplotlib.pyplot as plt\n",
        "from epigenomic_dataset.utils import get_cell_lines\n",
        "from typing import Tuple\n",
        "from tensorflow.keras.layers import Input, Dense, Dropout, BatchNormalization, ReLU, Concatenate, Layer\n",
        "from tensorflow.keras.layers import Conv1D, MaxPool1D, GlobalAveragePooling1D, GlobalMaxPool1D, Flatten\n",
        "from tensorflow.keras import regularizers\n",
        "from tensorflow.keras.models import Model\n",
        "from extra_keras_metrics import get_complete_binary_metrics\n",
        "from tsnecuda import TSNE\n",
        "from keras_mixed_sequence import MixedSequence, VectorSequence\n",
        "from keras_bed_sequence import BedSequence\n",
        "from keras_tuner import BayesianOptimization, Hyperband\n",
        "import keras_tuner as kt\n",
        "import tensorflow.keras\n",
        "import tensorflow as tf\n",
        "import keras"
      ]
    },
    {
      "cell_type": "markdown",
      "metadata": {
        "id": "CyKgpvUiZaJd"
      },
      "source": [
        "# Import Epigenomic Data"
      ]
    },
    {
      "cell_type": "code",
      "execution_count": 4,
      "metadata": {
        "id": "zAn2T4TyahfB"
      },
      "outputs": [],
      "source": [
        "#modificare in base alla propria cell_line\n",
        "#cell_line='MCF-7'\n",
        "#cell_line='K562'\n",
        "cell_line='A549'"
      ]
    },
    {
      "cell_type": "code",
      "execution_count": 5,
      "metadata": {
        "id": "kqoKg8DtZXFp",
        "colab": {
          "base_uri": "https://localhost:8080/",
          "height": 1000,
          "referenced_widgets": [
            "b5ad4c6f450f4a54a8cf61fbe3a57387",
            "f54ef932b2b64cda9003c2438e084422",
            "2229803da73a4828a56c42af22dca43f",
            "304edf93660342d7a3b3d947c1753699",
            "81b49084a9f747d5bfcd4fc5d4c112d8",
            "484adaec400b46089577b18692219b9b",
            "1bd30508295943949e87605606a3d096",
            "26b78345b0e0410db3182621e9aeff6a",
            "404d83d2c9e54a369ed0d646a369cec2",
            "049c0f37759844e5b4ddf68ecfd44015",
            "aa331ec03cd14aeca71935f7ef1979ea",
            "425ee5eaf4ec4a87a3cc42bbddd3095d",
            "142ff68a27e944f7966c84794c48ba0d",
            "b205c4f2792e4395ae526e3b143fa013",
            "69f6c12572114c4f9e01d430e983a98d",
            "271d82a7c22c4eee9af1bbe5cc11c4e4",
            "53035987890a44ad86956971ec99d26d",
            "485ee625448a4545a8c1868ceb070488",
            "4d26ef0d20be438d8aa344f0e609acc3",
            "e9802da5c7b54987bdf0cf132b4e1f87",
            "9b881b7a8b3547ae8b347c282f0f14dd",
            "c9a72c88feb94342abbff3e4dd65f96d",
            "03c4c4310734437498b9c44e451c004e",
            "30082188a9a54b12874514553b4cf21a",
            "6c5e5280b52944fe865a252fac0a64a0",
            "86ebdecd24ed4a069c74a6e79e1ce7f5",
            "27e1ef26026249ca830de72b329c79a3",
            "c25749cb0c0f4ce19f30b5b6981c22ee",
            "ca39b8b0082f4969895ba009d52627d0",
            "c07fffb4b0f24cd5847092f2803f09d7",
            "463814839b1b468e9bb79584d3793c1f",
            "246afaef3837463d8f98d8155149fd8a",
            "697fa07a765e409cb5ae47df3fa10b2e",
            "d4eb27b4822f4564a58145280c5c976a",
            "548f5d85a54e457486eb0d3fee983e2c",
            "1b60440ac1ce4cb8a2528fbffd64ab97",
            "feee33fd6caf4167a27b60d94ee97bfb",
            "5957551cdc504f1b9fb93c3cb777ed53",
            "8a527dd30f3146e08ff7eb0593e56af9",
            "aecad40b479e42118cbc6b9783a8fc2e",
            "41b35afb86aa4c1abc4e30ad1c86171a",
            "c50ee09184324cdba4a5c0822679fa2d",
            "1315bdffaf324cabbe50022fede62849",
            "a84ade18f96a4d689b60b8bb768787ca"
          ]
        },
        "outputId": "3134a1b5-32e3-4105-b654-1c9f7cbf3bd4"
      },
      "outputs": [
        {
          "output_type": "display_data",
          "data": {
            "application/vnd.jupyter.widget-view+json": {
              "model_id": "b5ad4c6f450f4a54a8cf61fbe3a57387",
              "version_minor": 0,
              "version_major": 2
            },
            "text/plain": [
              "Downloading to datasets/fantom/...oters/A549.csv.xz:   0%|          | 0.00/8.53M [00:00<?, ?iB/s]"
            ]
          },
          "metadata": {}
        },
        {
          "output_type": "display_data",
          "data": {
            "application/vnd.jupyter.widget-view+json": {
              "model_id": "425ee5eaf4ec4a87a3cc42bbddd3095d",
              "version_minor": 0,
              "version_major": 2
            },
            "text/plain": [
              "Downloading to datasets/fantom/.../promoters.bed.xz:   0%|          | 0.00/1.22M [00:00<?, ?iB/s]"
            ]
          },
          "metadata": {}
        },
        {
          "output_type": "display_data",
          "data": {
            "application/vnd.jupyter.widget-view+json": {
              "model_id": "03c4c4310734437498b9c44e451c004e",
              "version_minor": 0,
              "version_major": 2
            },
            "text/plain": [
              "Downloading to datasets/fantom/...ncers/A549.csv.xz:   0%|          | 0.00/5.14M [00:00<?, ?iB/s]"
            ]
          },
          "metadata": {}
        },
        {
          "output_type": "display_data",
          "data": {
            "application/vnd.jupyter.widget-view+json": {
              "model_id": "d4eb27b4822f4564a58145280c5c976a",
              "version_minor": 0,
              "version_major": 2
            },
            "text/plain": [
              "Downloading to datasets/fantom/.../enhancers.bed.xz:   0%|          | 0.00/460k [00:00<?, ?iB/s]"
            ]
          },
          "metadata": {}
        }
      ],
      "source": [
        "from epigenomic_dataset import active_promoters_vs_inactive_promoters, active_enhancers_vs_inactive_enhancers\n",
        "\n",
        "X_AP_vs_IP, y_AP_vs_IP= active_promoters_vs_inactive_promoters(cell_line=cell_line, binarize=True)\n",
        "X_AE_vs_IE, y_AE_vs_IE=active_enhancers_vs_inactive_enhancers(cell_line=cell_line, binarize=True, min_active_tpm_value=0, max_inactive_tpm_value=0)\n",
        "\n",
        "samples = {\n",
        "    'promoter':X_AP_vs_IP,\n",
        "    'enhancer':X_AE_vs_IE\n",
        "}\n",
        "\n",
        "labels = {\n",
        "    'promoter':y_AP_vs_IP, \n",
        "    'enhancer':y_AE_vs_IE\n",
        "}"
      ]
    },
    {
      "cell_type": "code",
      "execution_count": 6,
      "metadata": {
        "colab": {
          "base_uri": "https://localhost:8080/",
          "height": 519
        },
        "id": "MDSLafPIEs9v",
        "outputId": "d050c7b1-aec3-4f66-f24b-7a44987551ad"
      },
      "outputs": [
        {
          "output_type": "execute_result",
          "data": {
            "text/html": [
              "\n",
              "  <div id=\"df-9fdae382-f529-458d-a07e-518fb3812ca3\">\n",
              "    <div class=\"colab-df-container\">\n",
              "      <div>\n",
              "<style scoped>\n",
              "    .dataframe tbody tr th:only-of-type {\n",
              "        vertical-align: middle;\n",
              "    }\n",
              "\n",
              "    .dataframe tbody tr th {\n",
              "        vertical-align: top;\n",
              "    }\n",
              "\n",
              "    .dataframe thead th {\n",
              "        text-align: right;\n",
              "    }\n",
              "</style>\n",
              "<table border=\"1\" class=\"dataframe\">\n",
              "  <thead>\n",
              "    <tr style=\"text-align: right;\">\n",
              "      <th></th>\n",
              "      <th></th>\n",
              "      <th></th>\n",
              "      <th></th>\n",
              "      <th>A549</th>\n",
              "    </tr>\n",
              "    <tr>\n",
              "      <th>chrom</th>\n",
              "      <th>chromStart</th>\n",
              "      <th>chromEnd</th>\n",
              "      <th>strand</th>\n",
              "      <th></th>\n",
              "    </tr>\n",
              "  </thead>\n",
              "  <tbody>\n",
              "    <tr>\n",
              "      <th rowspan=\"5\" valign=\"top\">chr1</th>\n",
              "      <th>628964</th>\n",
              "      <th>629220</th>\n",
              "      <th>+</th>\n",
              "      <td>False</td>\n",
              "    </tr>\n",
              "    <tr>\n",
              "      <th>629013</th>\n",
              "      <th>629269</th>\n",
              "      <th>+</th>\n",
              "      <td>False</td>\n",
              "    </tr>\n",
              "    <tr>\n",
              "      <th>629642</th>\n",
              "      <th>629898</th>\n",
              "      <th>+</th>\n",
              "      <td>False</td>\n",
              "    </tr>\n",
              "    <tr>\n",
              "      <th>629847</th>\n",
              "      <th>630103</th>\n",
              "      <th>+</th>\n",
              "      <td>False</td>\n",
              "    </tr>\n",
              "    <tr>\n",
              "      <th>629905</th>\n",
              "      <th>630161</th>\n",
              "      <th>+</th>\n",
              "      <td>True</td>\n",
              "    </tr>\n",
              "    <tr>\n",
              "      <th>...</th>\n",
              "      <th>...</th>\n",
              "      <th>...</th>\n",
              "      <th>...</th>\n",
              "      <td>...</td>\n",
              "    </tr>\n",
              "    <tr>\n",
              "      <th rowspan=\"2\" valign=\"top\">chrX</th>\n",
              "      <th>154441877</th>\n",
              "      <th>154442133</th>\n",
              "      <th>+</th>\n",
              "      <td>False</td>\n",
              "    </tr>\n",
              "    <tr>\n",
              "      <th>154584927</th>\n",
              "      <th>154585183</th>\n",
              "      <th>+</th>\n",
              "      <td>False</td>\n",
              "    </tr>\n",
              "    <tr>\n",
              "      <th rowspan=\"3\" valign=\"top\">chrY</th>\n",
              "      <th>1452882</th>\n",
              "      <th>1453138</th>\n",
              "      <th>-</th>\n",
              "      <td>False</td>\n",
              "    </tr>\n",
              "    <tr>\n",
              "      <th>2500959</th>\n",
              "      <th>2501215</th>\n",
              "      <th>-</th>\n",
              "      <td>False</td>\n",
              "    </tr>\n",
              "    <tr>\n",
              "      <th>14055973</th>\n",
              "      <th>14056229</th>\n",
              "      <th>+</th>\n",
              "      <td>False</td>\n",
              "    </tr>\n",
              "  </tbody>\n",
              "</table>\n",
              "<p>99881 rows × 1 columns</p>\n",
              "</div>\n",
              "      <button class=\"colab-df-convert\" onclick=\"convertToInteractive('df-9fdae382-f529-458d-a07e-518fb3812ca3')\"\n",
              "              title=\"Convert this dataframe to an interactive table.\"\n",
              "              style=\"display:none;\">\n",
              "        \n",
              "  <svg xmlns=\"http://www.w3.org/2000/svg\" height=\"24px\"viewBox=\"0 0 24 24\"\n",
              "       width=\"24px\">\n",
              "    <path d=\"M0 0h24v24H0V0z\" fill=\"none\"/>\n",
              "    <path d=\"M18.56 5.44l.94 2.06.94-2.06 2.06-.94-2.06-.94-.94-2.06-.94 2.06-2.06.94zm-11 1L8.5 8.5l.94-2.06 2.06-.94-2.06-.94L8.5 2.5l-.94 2.06-2.06.94zm10 10l.94 2.06.94-2.06 2.06-.94-2.06-.94-.94-2.06-.94 2.06-2.06.94z\"/><path d=\"M17.41 7.96l-1.37-1.37c-.4-.4-.92-.59-1.43-.59-.52 0-1.04.2-1.43.59L10.3 9.45l-7.72 7.72c-.78.78-.78 2.05 0 2.83L4 21.41c.39.39.9.59 1.41.59.51 0 1.02-.2 1.41-.59l7.78-7.78 2.81-2.81c.8-.78.8-2.07 0-2.86zM5.41 20L4 18.59l7.72-7.72 1.47 1.35L5.41 20z\"/>\n",
              "  </svg>\n",
              "      </button>\n",
              "      \n",
              "  <style>\n",
              "    .colab-df-container {\n",
              "      display:flex;\n",
              "      flex-wrap:wrap;\n",
              "      gap: 12px;\n",
              "    }\n",
              "\n",
              "    .colab-df-convert {\n",
              "      background-color: #E8F0FE;\n",
              "      border: none;\n",
              "      border-radius: 50%;\n",
              "      cursor: pointer;\n",
              "      display: none;\n",
              "      fill: #1967D2;\n",
              "      height: 32px;\n",
              "      padding: 0 0 0 0;\n",
              "      width: 32px;\n",
              "    }\n",
              "\n",
              "    .colab-df-convert:hover {\n",
              "      background-color: #E2EBFA;\n",
              "      box-shadow: 0px 1px 2px rgba(60, 64, 67, 0.3), 0px 1px 3px 1px rgba(60, 64, 67, 0.15);\n",
              "      fill: #174EA6;\n",
              "    }\n",
              "\n",
              "    [theme=dark] .colab-df-convert {\n",
              "      background-color: #3B4455;\n",
              "      fill: #D2E3FC;\n",
              "    }\n",
              "\n",
              "    [theme=dark] .colab-df-convert:hover {\n",
              "      background-color: #434B5C;\n",
              "      box-shadow: 0px 1px 3px 1px rgba(0, 0, 0, 0.15);\n",
              "      filter: drop-shadow(0px 1px 2px rgba(0, 0, 0, 0.3));\n",
              "      fill: #FFFFFF;\n",
              "    }\n",
              "  </style>\n",
              "\n",
              "      <script>\n",
              "        const buttonEl =\n",
              "          document.querySelector('#df-9fdae382-f529-458d-a07e-518fb3812ca3 button.colab-df-convert');\n",
              "        buttonEl.style.display =\n",
              "          google.colab.kernel.accessAllowed ? 'block' : 'none';\n",
              "\n",
              "        async function convertToInteractive(key) {\n",
              "          const element = document.querySelector('#df-9fdae382-f529-458d-a07e-518fb3812ca3');\n",
              "          const dataTable =\n",
              "            await google.colab.kernel.invokeFunction('convertToInteractive',\n",
              "                                                     [key], {});\n",
              "          if (!dataTable) return;\n",
              "\n",
              "          const docLinkHtml = 'Like what you see? Visit the ' +\n",
              "            '<a target=\"_blank\" href=https://colab.research.google.com/notebooks/data_table.ipynb>data table notebook</a>'\n",
              "            + ' to learn more about interactive tables.';\n",
              "          element.innerHTML = '';\n",
              "          dataTable['output_type'] = 'display_data';\n",
              "          await google.colab.output.renderOutput(dataTable, element);\n",
              "          const docLink = document.createElement('div');\n",
              "          docLink.innerHTML = docLinkHtml;\n",
              "          element.appendChild(docLink);\n",
              "        }\n",
              "      </script>\n",
              "    </div>\n",
              "  </div>\n",
              "  "
            ],
            "text/plain": [
              "                                    A549\n",
              "chrom chromStart chromEnd  strand       \n",
              "chr1  628964     629220    +       False\n",
              "      629013     629269    +       False\n",
              "      629642     629898    +       False\n",
              "      629847     630103    +       False\n",
              "      629905     630161    +        True\n",
              "...                                  ...\n",
              "chrX  154441877  154442133 +       False\n",
              "      154584927  154585183 +       False\n",
              "chrY  1452882    1453138   -       False\n",
              "      2500959    2501215   -       False\n",
              "      14055973   14056229  +       False\n",
              "\n",
              "[99881 rows x 1 columns]"
            ]
          },
          "metadata": {},
          "execution_count": 6
        }
      ],
      "source": [
        "labels['promoter']"
      ]
    },
    {
      "cell_type": "markdown",
      "metadata": {
        "id": "Q-3KxLT5Qjti"
      },
      "source": [
        "# Data Cleaning"
      ]
    },
    {
      "cell_type": "markdown",
      "metadata": {
        "id": "coDnT4b7y96Y"
      },
      "source": [
        "Evaluation of ratio between samples and features."
      ]
    },
    {
      "cell_type": "code",
      "execution_count": 7,
      "metadata": {
        "colab": {
          "base_uri": "https://localhost:8080/"
        },
        "id": "H8nN8bClbkvB",
        "outputId": "5529edac-48ea-4ebf-fee4-6cef7f1b28bb"
      },
      "outputs": [
        {
          "output_type": "execute_result",
          "data": {
            "text/plain": [
              "2080.8541666666665"
            ]
          },
          "metadata": {},
          "execution_count": 7
        }
      ],
      "source": [
        "samples['promoter'].shape[0] / samples['promoter'].shape[1]"
      ]
    },
    {
      "cell_type": "code",
      "execution_count": 8,
      "metadata": {
        "colab": {
          "base_uri": "https://localhost:8080/"
        },
        "id": "UkKDp41Q1lwa",
        "outputId": "7c49775c-221f-428f-96f9-529f46adc08a"
      },
      "outputs": [
        {
          "output_type": "execute_result",
          "data": {
            "text/plain": [
              "1318.4375"
            ]
          },
          "metadata": {},
          "execution_count": 8
        }
      ],
      "source": [
        "samples['enhancer'].shape[0] / samples['enhancer'].shape[1]"
      ]
    },
    {
      "cell_type": "markdown",
      "metadata": {
        "id": "_1FUMijqzqcY"
      },
      "source": [
        "### Nan Imputation\n",
        "\n",
        "X dataset have 182 nan values and it could be imputed with KNNImputer"
      ]
    },
    {
      "cell_type": "code",
      "execution_count": 9,
      "metadata": {
        "colab": {
          "base_uri": "https://localhost:8080/"
        },
        "id": "IxJswPHhbEGR",
        "outputId": "6c9bfdd0-3316-4e99-ca85-2e1d373076ea"
      },
      "outputs": [
        {
          "output_type": "execute_result",
          "data": {
            "text/plain": [
              "372"
            ]
          },
          "metadata": {},
          "execution_count": 9
        }
      ],
      "source": [
        "samples['promoter'].isna().sum().sum()"
      ]
    },
    {
      "cell_type": "code",
      "execution_count": 10,
      "metadata": {
        "colab": {
          "base_uri": "https://localhost:8080/"
        },
        "id": "D854gToGbRFW",
        "outputId": "0c96bbcb-5288-4731-c2b1-0a09e55cce47"
      },
      "outputs": [
        {
          "output_type": "execute_result",
          "data": {
            "text/plain": [
              "0"
            ]
          },
          "metadata": {},
          "execution_count": 10
        }
      ],
      "source": [
        "labels['promoter'].isna().sum().sum()"
      ]
    },
    {
      "cell_type": "code",
      "execution_count": 11,
      "metadata": {
        "colab": {
          "base_uri": "https://localhost:8080/"
        },
        "id": "pzn5AWiv14lT",
        "outputId": "e1401a6d-bde1-40a7-ee1d-3caf00abc693"
      },
      "outputs": [
        {
          "output_type": "execute_result",
          "data": {
            "text/plain": [
              "32"
            ]
          },
          "metadata": {},
          "execution_count": 11
        }
      ],
      "source": [
        "samples['enhancer'].isna().sum().sum()"
      ]
    },
    {
      "cell_type": "code",
      "execution_count": 12,
      "metadata": {
        "colab": {
          "base_uri": "https://localhost:8080/"
        },
        "id": "E_qZFl2t143V",
        "outputId": "a7e690ae-a3d5-4eb6-a111-53633a099177"
      },
      "outputs": [
        {
          "output_type": "execute_result",
          "data": {
            "text/plain": [
              "0"
            ]
          },
          "metadata": {},
          "execution_count": 12
        }
      ],
      "source": [
        "labels['enhancer'].isna().sum().sum()"
      ]
    },
    {
      "cell_type": "code",
      "execution_count": 13,
      "metadata": {
        "id": "_JmMaaEtb2aR"
      },
      "outputs": [],
      "source": [
        "from sklearn.impute import KNNImputer\n",
        "\n",
        "def knn_imputation(df:pd.DataFrame, neighbours:int=5, weights:str='uniform')->pd.DataFrame:\n",
        "    \"\"\"Return provided dataframe with NaN imputed using knn.\n",
        "    \n",
        "    Parameters\n",
        "    --------------------\n",
        "    df:pd.DataFrame,\n",
        "        The dataframe to impute.\n",
        "    neighbours:int=5,\n",
        "        The number of neighbours to consider.\n",
        "    weights:str='uniform',\n",
        "        Weight function used in prediction.\n",
        "        \n",
        "    Returns\n",
        "    --------------------\n",
        "    The dataframe with the NaN values imputed.\n",
        "    \"\"\"\n",
        "    return pd.DataFrame(\n",
        "        KNNImputer(n_neighbors=neighbours, weights=weights).fit_transform(df.values),\n",
        "        columns=df.columns,\n",
        "        index=df.index\n",
        "    )"
      ]
    },
    {
      "cell_type": "code",
      "execution_count": 14,
      "metadata": {
        "id": "CLBQq6xvcRFC"
      },
      "outputs": [],
      "source": [
        "for region in samples.items():\n",
        "  samples[region[0]] = knn_imputation(samples[region[0]])"
      ]
    },
    {
      "cell_type": "code",
      "execution_count": 15,
      "metadata": {
        "colab": {
          "base_uri": "https://localhost:8080/"
        },
        "id": "QrvNsgmUc2St",
        "outputId": "c08e0911-6115-4dc3-f82f-f1f1430e5c85"
      },
      "outputs": [
        {
          "output_type": "stream",
          "name": "stdout",
          "text": [
            "Nan values in promoter is 0\n",
            "Nan values in enhancer is 0\n"
          ]
        }
      ],
      "source": [
        "for region in samples.items():\n",
        "  print('Nan values in {} is {}'.format(region[0], samples[region[0]].isna().sum().sum()))"
      ]
    },
    {
      "cell_type": "markdown",
      "metadata": {
        "id": "b0lgt75I2WI_"
      },
      "source": [
        "### Drop Constant features"
      ]
    },
    {
      "cell_type": "code",
      "execution_count": 16,
      "metadata": {
        "id": "TUWhU71zc6Gh"
      },
      "outputs": [],
      "source": [
        "def drop_constant_features(df:pd.DataFrame)->pd.DataFrame:\n",
        "    \"\"\"Return DataFrame without constant features.\"\"\"\n",
        "    return df.loc[:, (df != df.iloc[0]).any()]"
      ]
    },
    {
      "cell_type": "code",
      "execution_count": 17,
      "metadata": {
        "id": "HMD9HOQ8eH4T"
      },
      "outputs": [],
      "source": [
        "dropped_promoter = drop_constant_features(samples['promoter'])\n",
        "dropped_enhancer = drop_constant_features(samples['enhancer'])"
      ]
    },
    {
      "cell_type": "markdown",
      "metadata": {
        "id": "y1oflxuyetbc"
      },
      "source": [
        "Check if some features hes been drop"
      ]
    },
    {
      "cell_type": "code",
      "execution_count": 18,
      "metadata": {
        "colab": {
          "base_uri": "https://localhost:8080/"
        },
        "id": "yQv54JTLeK1d",
        "outputId": "a90281b1-6208-4bb4-ec5a-4d139f7a2eed"
      },
      "outputs": [
        {
          "output_type": "execute_result",
          "data": {
            "text/plain": [
              "False"
            ]
          },
          "metadata": {},
          "execution_count": 18
        }
      ],
      "source": [
        "dropped_promoter.shape != samples['promoter'].shape"
      ]
    },
    {
      "cell_type": "code",
      "execution_count": 19,
      "metadata": {
        "colab": {
          "base_uri": "https://localhost:8080/"
        },
        "id": "MRrT4CjI3Ydi",
        "outputId": "212297f2-6ad5-4bcd-9984-670bf4788f0a"
      },
      "outputs": [
        {
          "output_type": "execute_result",
          "data": {
            "text/plain": [
              "False"
            ]
          },
          "metadata": {},
          "execution_count": 19
        }
      ],
      "source": [
        "dropped_enhancer.shape != samples['enhancer'].shape"
      ]
    },
    {
      "cell_type": "code",
      "execution_count": 20,
      "metadata": {
        "id": "cshEzUZu3ddA"
      },
      "outputs": [],
      "source": [
        "samples['promoter'] = dropped_promoter\n",
        "samples['enhancer'] = dropped_enhancer"
      ]
    },
    {
      "cell_type": "markdown",
      "metadata": {
        "id": "kW7hptlW3qAw"
      },
      "source": [
        "### Data Scaling"
      ]
    },
    {
      "cell_type": "code",
      "execution_count": 21,
      "metadata": {
        "id": "KTzT8gIoeMnX"
      },
      "outputs": [],
      "source": [
        "from sklearn.preprocessing import RobustScaler\n",
        "\n",
        "def robust_zscoring(df:pd.DataFrame)->pd.DataFrame:\n",
        "    \"\"\"Return given dataframe scaled using robust z-scoring.\"\"\"\n",
        "    return pd.DataFrame(\n",
        "        RobustScaler().fit_transform(df.values),\n",
        "        columns=df.columns,\n",
        "        index=df.index\n",
        "    )"
      ]
    },
    {
      "cell_type": "code",
      "execution_count": 22,
      "metadata": {
        "id": "knrzImzrhfyG"
      },
      "outputs": [],
      "source": [
        "samples['promoter'] = robust_zscoring(samples['promoter'])\n",
        "samples['enhancer'] = robust_zscoring(samples['enhancer'])"
      ]
    },
    {
      "cell_type": "markdown",
      "metadata": {
        "id": "aYY2KROqYCXK"
      },
      "source": [
        "### Class Balance"
      ]
    },
    {
      "cell_type": "code",
      "execution_count": 23,
      "metadata": {
        "colab": {
          "base_uri": "https://localhost:8080/",
          "height": 72
        },
        "id": "-7lXf8vu5RdI",
        "outputId": "9f07de0e-e66e-4eab-c4a1-06cf24dbafe9"
      },
      "outputs": [
        {
          "output_type": "display_data",
          "data": {
            "image/png": "[encoded data removed]",
            "text/plain": [
              "<Figure size 432x288 with 1 Axes>"
            ]
          },
          "metadata": {
            "needs_background": "light"
          }
        },
        {
          "output_type": "display_data",
          "data": {
            "image/png": "[encoded data removed]",
            "text/plain": [
              "<Figure size 432x288 with 1 Axes>"
            ]
          },
          "metadata": {
            "needs_background": "light"
          }
        }
      ],
      "source": [
        "for (region, y) in labels.items():\n",
        "  y.astype(int).plot.hist(title=f\"Labels distribution [hist] in {region}\")\n",
        "\n"
      ]
    },
    {
      "cell_type": "code",
      "execution_count": 24,
      "metadata": {
        "colab": {
          "base_uri": "https://localhost:8080/"
        },
        "id": "eK36Dc-AVomr",
        "outputId": "d86c7cbe-1ffe-4eed-cc56-c9cdbf5a456b"
      },
      "outputs": [
        {
          "output_type": "stream",
          "name": "stdout",
          "text": [
            "active promoter are 25.63015697323405% respect to total class\n",
            "active enhancer are 6.036996079219866% respect to total class\n"
          ]
        }
      ],
      "source": [
        "for (region, y) in labels.items():\n",
        "  print(\"active {} are {}% respect to total class\".format(region, (y['A549'][y['A549']==True].count()*100) / y['A549'][y['A549']==False].count()))"
      ]
    },
    {
      "cell_type": "markdown",
      "metadata": {
        "id": "P2t3Mndh4qEM"
      },
      "source": [
        "The classes, overall enhancer class, are very unbalance, but we don't will balance the classes like write in [Bayesian optimization improves tissue-specific prediction of active regulatory regions with deep neural networks](https://gvalentinib.ariel.ctu.unimi.it/v5/frm3/Download.aspx?toolName=contenuti&attachmentid=1037727) paper."
      ]
    },
    {
      "cell_type": "markdown",
      "metadata": {
        "id": "mU-2DHtZ9WYU"
      },
      "source": [
        "# Features Correlation & Features Selection"
      ]
    },
    {
      "cell_type": "code",
      "execution_count": null,
      "metadata": {
        "id": "n-UsQQRtCL8k"
      },
      "outputs": [],
      "source": [
        "p_value_threshold = 0.01\n",
        "correlation_threshold = 0.05"
      ]
    },
    {
      "cell_type": "code",
      "execution_count": null,
      "metadata": {
        "id": "ZsBoL8ZI9sbQ"
      },
      "outputs": [],
      "source": [
        "not_correlated_features = {'promoter':set(), 'enhancer':set()}"
      ]
    },
    {
      "cell_type": "markdown",
      "metadata": {
        "id": "6GgUVNag9jwh"
      },
      "source": [
        "### Linear correlation with Pearson index\n"
      ]
    },
    {
      "cell_type": "code",
      "execution_count": null,
      "metadata": {
        "colab": {
          "base_uri": "https://localhost:8080/",
          "height": 601,
          "referenced_widgets": [
            "4e0620aabd184d1fbb7ac5650314f085",
            "ec8a718ad6b142998eec2e55ec8bd857",
            "95f18af15bff4db392299b27f88bec5a",
            "5629eec88d6b4b2cab1d2094ac187c04",
            "13f1a19ab4314596b607a4229a0435e2",
            "ecdccd04d52e4d3c9ccdd1268970ed80",
            "dfb3d1f9e21148c997b0f5ee062cf229",
            "bd26e96ba9a54ad0817efc6235df4dd1",
            "7dedd22257c449369a7b3ef9019e36c5",
            "b7b2e0917f4a4e579a371f9ed34e2673",
            "e5d43dda2ced4469a06e2c4c75068c0f",
            "e6fccf70832f4d41b49c5d0a688a25de",
            "789ceed418b3460c9ddec822d3f483e5",
            "8ce150633fda4746bbff4bdf884f7f18",
            "0f7bff4b09dc4ec4878c0e93b3341cf2",
            "810b637b79754200a71f4a416824c636",
            "b9c21b3de06f435eaafba3b0aaa47c62",
            "dd76ed44803f4bea82cb91f5690e96b9",
            "3e3b6c8c076540b4a08b1235d56e3157",
            "8d8c4946214046639aa4fdd56ad0a346",
            "29ac5cc4f42c4f5183a758266c4f56ca",
            "23b7f389dd784c46ada31af434d7fb33"
          ]
        },
        "id": "sog327IW-DpL",
        "outputId": "61f75b67-4a33-414c-df4e-eb37c4016784"
      },
      "outputs": [
        {
          "output_type": "display_data",
          "data": {
            "application/vnd.jupyter.widget-view+json": {
              "model_id": "4e0620aabd184d1fbb7ac5650314f085",
              "version_minor": 0,
              "version_major": 2
            },
            "text/plain": [
              "Running Pearson test:   0%|          | 0/48 [00:00<?, ?it/s]"
            ]
          },
          "metadata": {}
        },
        {
          "output_type": "stream",
          "name": "stdout",
          "text": [
            "In promoter the feature EHMT2 does not correlate in a statistically significant manner with the output. p-value:0.6607639996659921 -- correlation:-0.0013886359156064544\n",
            "In promoter the feature FOSB does not correlate in a statistically significant manner with the output. p-value:0.9177470343200469 -- correlation:0.000326773556940994\n",
            "In promoter the feature RNF2 does not correlate in a statistically significant manner with the output. p-value:0.9661644733045671 -- correlation:-0.00013422304928378294\n"
          ]
        },
        {
          "output_type": "display_data",
          "data": {
            "application/vnd.jupyter.widget-view+json": {
              "model_id": "e6fccf70832f4d41b49c5d0a688a25de",
              "version_minor": 0,
              "version_major": 2
            },
            "text/plain": [
              "Running Pearson test:   0%|          | 0/48 [00:00<?, ?it/s]"
            ]
          },
          "metadata": {}
        },
        {
          "output_type": "stream",
          "name": "stdout",
          "text": [
            "In enhancer the feature ZC3H11A does not correlate in a statistically significant manner with the output. p-value:0.039427698262771455 -- correlation:0.008187547698984091\n",
            "In enhancer the feature CBX2 does not correlate in a statistically significant manner with the output. p-value:0.33286027104303706 -- correlation:-0.003849437882064245\n"
          ]
        }
      ],
      "source": [
        "from scipy.stats import pearsonr\n",
        "\n",
        "for (X,y) in zip(samples.items(), labels.items()):\n",
        "  for feature in tqdm(X[1].columns, desc=f\"Running Pearson test\", dynamic_ncols=True, leave=False):\n",
        "    correlation, p_value = pearsonr(X[1][feature].values.flatten(), y[1].values.flatten())\n",
        "    if p_value > p_value_threshold:\n",
        "      print(f\"In {X[0]} the feature {feature} does not correlate in a statistically significant manner with the output. p-value:{p_value} -- correlation:{correlation}\")\n",
        "      not_correlated_features[X[0]].add(feature)"
      ]
    },
    {
      "cell_type": "markdown",
      "metadata": {
        "id": "4NpXSYDfB6n1"
      },
      "source": [
        "### Linear correlation with Spearman index"
      ]
    },
    {
      "cell_type": "code",
      "execution_count": null,
      "metadata": {
        "colab": {
          "base_uri": "https://localhost:8080/",
          "height": 564,
          "referenced_widgets": [
            "5a39decef9de42eca0122c229658cf7e",
            "5af9ac522a584b759adaf44beabc5f43",
            "4bce3509b4a84fa5938eaf7e5da62734",
            "e7677be00a3147fb80d9296599e36bea",
            "dd0472da71a2465fa98086998c3edb0a",
            "2d877d36e88e423b85ca70956f83f81c",
            "da9c50a4d6614dc7a7025d772aad9357",
            "d7460e6bf1d64847ab72fec13fc5e008",
            "2eba3bf680384c0fa3a570a1e9559122",
            "0c343b01778240e188443aca18c657e2",
            "f06561aff1bd4e7b89f5382682f0e198",
            "c5fb3faff4c942d8b0509b191019a74e",
            "99c0a2a0103a4ec2a58febbb5b5462b3",
            "2980a88d1236458c94b72dcc85cc4e03",
            "d89462f33f0a45ffb60f0b79498eb682",
            "27b05d4290c0464aa47cd0a23b5c59a3",
            "798b9fc1f4ca44888e759f179c88a792",
            "d4d14e8b25614733af8ba591d9b5ac11",
            "c9f97bcd345f44b68fe8d2c2049b6dd1",
            "4f64862a815542b3a6d79879a5ce683c",
            "e560df7176d64b69aac56e04230327e2",
            "88b71853fbe64cefadb834202337d42c"
          ]
        },
        "id": "KP2fWvBQrntR",
        "outputId": "f0a0b3e0-49f8-4044-90a3-06372e48900b"
      },
      "outputs": [
        {
          "output_type": "display_data",
          "data": {
            "application/vnd.jupyter.widget-view+json": {
              "model_id": "5a39decef9de42eca0122c229658cf7e",
              "version_minor": 0,
              "version_major": 2
            },
            "text/plain": [
              "Running Pearson test:   0%|          | 0/48 [00:00<?, ?it/s]"
            ]
          },
          "metadata": {}
        },
        {
          "output_type": "stream",
          "name": "stdout",
          "text": [
            "In promoter the feature ZFP36 does not correlate in a statistically significant manner with the output. p-value:0.1043890666226243 -- correlation:0.005138431133429463\n"
          ]
        },
        {
          "output_type": "display_data",
          "data": {
            "application/vnd.jupyter.widget-view+json": {
              "model_id": "c5fb3faff4c942d8b0509b191019a74e",
              "version_minor": 0,
              "version_major": 2
            },
            "text/plain": [
              "Running Pearson test:   0%|          | 0/48 [00:00<?, ?it/s]"
            ]
          },
          "metadata": {}
        },
        {
          "output_type": "stream",
          "name": "stdout",
          "text": [
            "In enhancer the feature CBX2 does not correlate in a statistically significant manner with the output. p-value:0.7640592944823815 -- correlation:-0.0011931716306596745\n",
            "In enhancer the feature KDM5A does not correlate in a statistically significant manner with the output. p-value:0.3410897699898755 -- correlation:-0.003784426428309876\n"
          ]
        }
      ],
      "source": [
        "from scipy.stats import spearmanr\n",
        "\n",
        "for (X,y) in zip(samples.items(), labels.items()):\n",
        "  for feature in tqdm(X[1].columns, desc=f\"Running Pearson test\", dynamic_ncols=True, leave=False):\n",
        "    correlation, p_value = spearmanr(X[1][feature].values.flatten(), y[1].values.flatten())\n",
        "    if p_value > p_value_threshold:\n",
        "      print(f\"In {X[0]} the feature {feature} does not correlate in a statistically significant manner with the output. p-value:{p_value} -- correlation:{correlation}\")\n",
        "      not_correlated_features[X[0]].add(feature)"
      ]
    },
    {
      "cell_type": "code",
      "execution_count": null,
      "metadata": {
        "colab": {
          "base_uri": "https://localhost:8080/"
        },
        "id": "rdmUqbP46JoP",
        "outputId": "d393a5df-fcd4-4ace-c383-b57b4cf88b91"
      },
      "outputs": [
        {
          "output_type": "execute_result",
          "data": {
            "text/plain": [
              "{'enhancer': {'CBX2', 'KDM5A', 'ZC3H11A'},\n",
              " 'promoter': {'EHMT2', 'FOSB', 'RNF2', 'ZFP36'}}"
            ]
          },
          "metadata": {},
          "execution_count": 28
        }
      ],
      "source": [
        "not_correlated_features"
      ]
    },
    {
      "cell_type": "markdown",
      "metadata": {
        "id": "eR_CJ2x5NpbN"
      },
      "source": [
        "### Not linear correlation with MIC"
      ]
    },
    {
      "cell_type": "code",
      "execution_count": null,
      "metadata": {
        "id": "yC5PbHFl4GoO"
      },
      "outputs": [],
      "source": [
        "from minepy import MINE\n",
        "import os\n",
        "import json\n",
        "\n",
        "if os.path.exists('/drive/MyDrive/bioinformatics/not_linear_correlation_json.json'):\n",
        "  with open('/drive/MyDrive/bioinformatics/not_linear_correlation_json.json', 'r') as fp:\n",
        "      not_linear_correlation = json.load(fp)\n",
        "else:\n",
        "  not_linear_correlation = {'promoter':set(), 'enhancer':set()}\n",
        "  for (X,y) in zip(samples.items(), labels.items()):\n",
        "    for items in not_correlated_features.items():\n",
        "      for feature in tqdm(items[1], desc=f\"Running MINE test\", dynamic_ncols=True, leave=False):\n",
        "          mine = MINE()\n",
        "          mine.compute_score(X[1][feature].ravel(), y[1].values.ravel())\n",
        "          score = mine.mic()\n",
        "          if score < correlation_threshold:\n",
        "              print(f\"In {X[0]} the feature {feature} does not correlate in a statistically significant manner with the output.\")\n",
        "              not_linear_correlation[items[0]].add(feature)\n",
        "  \n",
        "  for region in not_linear_correlation.items():\n",
        "    not_linear_correlation[region[0]] = list(region[1])\n",
        "\n",
        "  json_object = json.dumps(not_linear_correlation, indent = 4)\n",
        "  with open('/drive/MyDrive/not_linear_correlation_json.json', 'w') as writefile:\n",
        "    writefile.write(json_object)"
      ]
    },
    {
      "cell_type": "markdown",
      "metadata": {
        "id": "Dm4JEullNzop"
      },
      "source": [
        "### Drop features not correlated with output"
      ]
    },
    {
      "cell_type": "code",
      "execution_count": null,
      "metadata": {
        "colab": {
          "base_uri": "https://localhost:8080/"
        },
        "id": "EEDNjtmsNbjl",
        "outputId": "57929910-d1f4-497a-8cf7-c8f514198a29"
      },
      "outputs": [
        {
          "output_type": "stream",
          "name": "stdout",
          "text": [
            "(99881, 48)\n",
            "(63285, 48)\n"
          ]
        }
      ],
      "source": [
        "for region in samples.items():\n",
        "  print(region[1].shape)"
      ]
    },
    {
      "cell_type": "code",
      "execution_count": null,
      "metadata": {
        "id": "-ZD-5wVkJtty"
      },
      "outputs": [],
      "source": [
        "for region in samples.items():\n",
        "  region[1].drop(list(not_linear_correlation[region[0]]), axis=1, inplace=True)"
      ]
    },
    {
      "cell_type": "code",
      "execution_count": null,
      "metadata": {
        "colab": {
          "base_uri": "https://localhost:8080/"
        },
        "id": "EhOS9T3cNPKO",
        "outputId": "0168a7b3-7d03-45d8-d9c0-03762c644d53"
      },
      "outputs": [
        {
          "output_type": "stream",
          "name": "stdout",
          "text": [
            "(99881, 44)\n",
            "(63285, 42)\n"
          ]
        }
      ],
      "source": [
        "for region in samples.items():\n",
        "  print(region[1].shape)"
      ]
    },
    {
      "cell_type": "markdown",
      "metadata": {
        "id": "LchcLgGvNmp3"
      },
      "source": [
        "### Correlation with features"
      ]
    },
    {
      "cell_type": "code",
      "execution_count": null,
      "metadata": {
        "colab": {
          "base_uri": "https://localhost:8080/",
          "height": 17,
          "referenced_widgets": [
            "a239475b27674e35903762655c1b1e65",
            "f3948dc9b99a4eac9ec3c78a58f177f2",
            "74082c1d30a4407097e67ea06300eece",
            "a2f28cd465cc4eb0bedb04241d6d1efa",
            "caa635435613436584f9c4a82bd19fd9",
            "2edf9f5def7d4a47bd4f96f954b34139",
            "8ac2f95e0a084acebea906cc15edec12",
            "9f30d1603a7e4b2582ed662c2da17f56",
            "b38c19d162784d68b5a20073bcd2ad4c",
            "7a13242f2c9340c39c140232d8c5a315",
            "75e837b84bde4777bfb46cce6913b923",
            "521878ce0d5045b692f92734940e5c39",
            "8d347406c3634f60951d27b72c2cf6f4",
            "ed2b2c17adc042b7a6b71e27a7b82645",
            "3a3e9936bcb748a19c611ca52b1f3c7b",
            "cc68f30528794426b1ba116444647934",
            "bf95c570c6ee4d6a9fe9621363d43077",
            "8d5667dd533f401d92c0ecd5ebf3082e",
            "86f74dccfc794c95a54b915187f4af08",
            "f480539134ad4533925fae0390f81eae",
            "474effe0b824424a9e28b8736f16106b",
            "7f4a8828221c43d68e9670cb9c6c7bee",
            "9e10e96dffe348088b9081b7a99b21fc",
            "78ecc8747ea7478480d9661698a26190",
            "95ef07b4809d43bdad67b1aa7074e925",
            "bceb5878680d48dc9a8cad2209254953",
            "131cc0ac14824c5cbc5444f98bd24e20",
            "b51b36990843441291c77cc06e9efe9f",
            "a586ddab76f842f3a19e232a0a1c22b9",
            "b93fdd9426b746c0bbf27c8a695e9277",
            "14a7fa220a5c443babf5a2fd2b4239fa",
            "bfd3afaf5bc245288cedb4d99c34dfcb",
            "784898efafaf489685205d3f362d50ab"
          ]
        },
        "id": "mRcuaSEgOeyy",
        "outputId": "3c6f872a-b834-4e8f-bcf6-ced5eb3c3722"
      },
      "outputs": [
        {
          "output_type": "display_data",
          "data": {
            "application/vnd.jupyter.widget-view+json": {
              "model_id": "a239475b27674e35903762655c1b1e65",
              "version_minor": 0,
              "version_major": 2
            },
            "text/plain": [
              "Running Spearman test:   0%|          | 0/2 [00:00<?, ?it/s]"
            ]
          },
          "metadata": {}
        },
        {
          "output_type": "display_data",
          "data": {
            "application/vnd.jupyter.widget-view+json": {
              "model_id": "521878ce0d5045b692f92734940e5c39",
              "version_minor": 0,
              "version_major": 2
            },
            "text/plain": [
              "  0%|          | 0/44 [00:00<?, ?it/s]"
            ]
          },
          "metadata": {}
        },
        {
          "output_type": "display_data",
          "data": {
            "application/vnd.jupyter.widget-view+json": {
              "model_id": "9e10e96dffe348088b9081b7a99b21fc",
              "version_minor": 0,
              "version_major": 2
            },
            "text/plain": [
              "  0%|          | 0/42 [00:00<?, ?it/s]"
            ]
          },
          "metadata": {}
        }
      ],
      "source": [
        "from scipy.stats import spearmanr\n",
        "\n",
        "@Cache(\n",
        "    cache_path=\"/drive/MyDrive/bioinformatics/spearmanr/{_hash}.json\",\n",
        "    args_to_ignore=[\"X\"]\n",
        ")\n",
        "def compute_spearmanr(\n",
        "    X:pd.DataFrame,\n",
        "    feature_left: str,\n",
        "    feature_right: str,\n",
        "    cell_line: str,\n",
        "    region: str\n",
        ") -> Dict:\n",
        "    \"\"\"Returns Spearman correlation.\n",
        "    \n",
        "    Implementative details\n",
        "    ------------------------------\n",
        "    We may need to recompute this value across\n",
        "    multiple re-runs of the jupyter notebook,\n",
        "    so since it takes a bit of time to do so we cache it.\n",
        "    \n",
        "    Parameters\n",
        "    ----------------------\n",
        "    X:pd.DataFrame,\n",
        "        The epigenomic data.\n",
        "    feature_left: str,\n",
        "        The left features to compute pearson for.\n",
        "    feature_right: str,\n",
        "        The right features to compute pearson for.\n",
        "    cell_line: str,\n",
        "        The cell line.\n",
        "    region: str,\n",
        "        The cis-regulatory region of interest.\n",
        "    \"\"\"\n",
        "    correlation, p_value = spearmanr(\n",
        "        X[feature_left].values.flatten(),\n",
        "        X[feature_right].values.flatten(),\n",
        "    )\n",
        "    return dict(\n",
        "        correlation=correlation,\n",
        "        p_value=p_value\n",
        "    )\n",
        "\n",
        "highly_correlated_future = {'promoter':[], 'enhancer':[]}\n",
        "\n",
        "for X in tqdm(samples.items(), desc=f\"Running Spearman test\", dynamic_ncols=True, leave=False):\n",
        "  for feature_left in tqdm(X[1].columns, dynamic_ncols=True, leave=False):\n",
        "      for feature_right in X[1].columns:\n",
        "          if feature_left >= feature_right:\n",
        "              continue\n",
        "          pearson_result = compute_spearmanr(\n",
        "              X[1],\n",
        "              feature_left,\n",
        "              feature_right,\n",
        "              cell_line=cell_line,\n",
        "              region=\"promoters\"\n",
        "          )\n",
        "          if pearson_result[\"p_value\"] < p_value_threshold and np.abs(pearson_result[\"correlation\"]) > 0.99:\n",
        "              correlation = pearson_result[\"correlation\"]\n",
        "              print(f\"The feature {feature_left} is highly correlated with {feature_right} ({correlation}).\")\n",
        "              highly_correlated_future.append(feature_left)\n",
        "\n",
        "              "
      ]
    },
    {
      "cell_type": "code",
      "execution_count": null,
      "metadata": {
        "id": "cPe4ZXXMi650",
        "outputId": "2884a6b1-98b8-4515-80bf-edacce4b8be0",
        "colab": {
          "base_uri": "https://localhost:8080/"
        }
      },
      "outputs": [
        {
          "output_type": "stream",
          "name": "stdout",
          "text": [
            "(99881, 44)\n",
            "(63285, 42)\n"
          ]
        }
      ],
      "source": [
        "for region in samples.items():\n",
        "  print(region[1].shape)"
      ]
    },
    {
      "cell_type": "code",
      "execution_count": null,
      "metadata": {
        "id": "rLM6WiRWinGF"
      },
      "outputs": [],
      "source": [
        "for region in samples.items():\n",
        "  region[1].drop(highly_correlated_future[region[0]], axis=1, inplace=True)"
      ]
    },
    {
      "cell_type": "code",
      "execution_count": null,
      "metadata": {
        "id": "WEFuNrXwi7ta",
        "outputId": "a29cebf7-0dc1-4fa7-b1ea-4821d6072035",
        "colab": {
          "base_uri": "https://localhost:8080/"
        }
      },
      "outputs": [
        {
          "output_type": "stream",
          "name": "stdout",
          "text": [
            "(99881, 44)\n",
            "(63285, 42)\n"
          ]
        }
      ],
      "source": [
        "for region in samples.items():\n",
        "  print(region[1].shape)"
      ]
    },
    {
      "cell_type": "markdown",
      "metadata": {
        "id": "m4zovoESOkJ2"
      },
      "source": [
        "### Features selection with boruta"
      ]
    },
    {
      "cell_type": "code",
      "execution_count": null,
      "metadata": {
        "id": "GK7OrIuq6fdX"
      },
      "outputs": [],
      "source": [
        "from sklearn.ensemble import RandomForestClassifier, RandomForestRegressor\n",
        "from boruta import BorutaPy\n",
        "from multiprocessing import cpu_count\n",
        "\n",
        "@Cache(\n",
        "    cache_path=[\n",
        "        \"/drive/MyDrive/bioinformatics/boruta/kept_features_{_hash}.json\",\n",
        "        \"/drive/MyDrive/bioinformatics/boruta/discarded_features_{_hash}.json\"\n",
        "    ],\n",
        "    args_to_ignore=[\n",
        "        \"X_train\", \"y_train\"\n",
        "    ]\n",
        ")\n",
        "def execute_boruta_feature_selection(\n",
        "    X_train: pd.DataFrame,\n",
        "    y_train: np.ndarray,\n",
        "    holdout_number: int,\n",
        "    regression: bool,\n",
        "    task_name: str,\n",
        "    max_iter: int = 100\n",
        "):\n",
        "    \"\"\"Returns tuple with list of kept features and list of discared features.\n",
        "    \n",
        "    Parameters\n",
        "    --------------------------\n",
        "    X_train: pd.DataFrame,\n",
        "        The data reserved for the input of the training of the Boruta model.\n",
        "    y_train: np.ndarray,\n",
        "        The data reserved for the output of the training of the Boruta model.\n",
        "    holdout_number: int,\n",
        "        The current holdout number.\n",
        "    regression: bool,\n",
        "        Whether the task is a binary classification one (False) or a regression one (True).\n",
        "    task_name: str,\n",
        "        The name of the task.\n",
        "    max_iter: int = 100,\n",
        "        Number of iterations to run Boruta for.\n",
        "    \"\"\"\n",
        "    # According to the requested task we build either a random forest regressor\n",
        "    # or a random forest classifier.\n",
        "    if regression:\n",
        "        model = RandomForestRegressor(n_jobs=cpu_count(), max_depth=5)\n",
        "    else:\n",
        "        model = RandomForestClassifier(n_jobs=cpu_count(), class_weight='balanced_subsample', max_depth=5)\n",
        "    \n",
        "    # Create the Boruta model\n",
        "    boruta_selector = BorutaPy(\n",
        "        # Defining the model that Boruta should use.\n",
        "        model,\n",
        "        # We leave the number of estimators to be decided by Boruta\n",
        "        n_estimators='auto',\n",
        "        verbose=False,\n",
        "        alpha=0.05, # p_value\n",
        "        # In practice one would run at least 100-200 times,\n",
        "        # until all tentative features are exausted.\n",
        "        max_iter=max_iter, \n",
        "        random_state=42,\n",
        "    )\n",
        "    # Fit the Boruta model\n",
        "    boruta_selector.fit(X_train.values, y_train)\n",
        "    \n",
        "    # Get the kept features and discarded features\n",
        "    kept_features = list(X_train.columns[boruta_selector.support_])\n",
        "    discarded_features = list(X_train.columns[~boruta_selector.support_])\n",
        "    \n",
        "    # Filter out the unused featured.\n",
        "    return kept_features, discarded_features"
      ]
    },
    {
      "cell_type": "markdown",
      "metadata": {
        "id": "xmgmcSFOkv1I"
      },
      "source": [
        "# Import Sequence Data"
      ]
    },
    {
      "cell_type": "code",
      "execution_count": null,
      "metadata": {
        "colab": {
          "base_uri": "https://localhost:8080/",
          "height": 509,
          "referenced_widgets": [
            "1491bd741a3649a98a874ec17182e322",
            "8331c5e9ba0e4291a81a87df1e439996",
            "d89d80b3426a4adca393b98b3fbaf805",
            "555442a463434145915241d6c08c90d9",
            "e727ea056ac24375bf335aed4cbc47d9",
            "3200dcc01e604fbdb213525deed6a4f4",
            "a81068d2b92041578776c7f10c7f8e94",
            "974ea82610e148ccbc7612453064c497",
            "f776e0b71478427ea612c42e0a774555",
            "900c609f9f5143ec815840fbe83f806a",
            "d58061e9d5dd438cbbc82f02cd57bd29",
            "0785d83d6f4f434b82617286111031ff",
            "6240aa9a2a46421a82b49ca7ed734adf",
            "a283aae5fb5949ac93c96de605624217",
            "30308394319847bdbf2f774a161b880d",
            "38ff9c1083b14e5eb1dbf388119bf1f6",
            "1b9556ef0c92433186a444ae3353e188",
            "fca11150234945899b1156bb70a784a2",
            "d4940ccbe37e43e69a4dba1c962ce920",
            "bbe9a758037e4e2d8baa763e4bc0a011",
            "e0fccbaf79484336a06bf91f1f14a29d",
            "01214acb41044edfb7a43020e3672470"
          ]
        },
        "id": "2RabQcUrZBDo",
        "outputId": "f96ac186-1611-4b4b-e469-1f88c80607da"
      },
      "outputs": [
        {
          "output_type": "display_data",
          "data": {
            "application/vnd.jupyter.widget-view+json": {
              "model_id": "1491bd741a3649a98a874ec17182e322",
              "version_minor": 0,
              "version_major": 2
            },
            "text/plain": [
              "Downloading chromosomes for genome hg38:   0%|          | 0/25 [00:00<?, ?it/s]"
            ]
          },
          "metadata": {}
        },
        {
          "output_type": "display_data",
          "data": {
            "application/vnd.jupyter.widget-view+json": {
              "model_id": "0785d83d6f4f434b82617286111031ff",
              "version_minor": 0,
              "version_major": 2
            },
            "text/plain": [
              "Loading chromosomes for genome hg38:   0%|          | 0/25 [00:00<?, ?it/s]"
            ]
          },
          "metadata": {}
        }
      ],
      "source": [
        "from ucsc_genomes_downloader import Genome\n",
        "\n",
        "genome = Genome(\"hg38\")"
      ]
    },
    {
      "cell_type": "code",
      "execution_count": null,
      "metadata": {
        "id": "jITleEydaakJ"
      },
      "outputs": [],
      "source": [
        "def to_bed(data:pd.DataFrame)->pd.DataFrame:\n",
        "    \"\"\"Return bed coordinates from given dataset.\"\"\"\n",
        "    return data.reset_index()[data.index.names]"
      ]
    },
    {
      "cell_type": "code",
      "source": [
        "sequence = {'promoter':pd.DataFrame(\n",
        "                        np.array(BedSequence(\n",
        "                            genome,\n",
        "                            bed=to_bed(labels['promoter']),\n",
        "                            batch_size=1\n",
        "                        )).reshape(-1, 4*256),\n",
        "                        index=labels['promoter'].index\n",
        "                    )\n",
        "            , \n",
        "            'enhancer': pd.DataFrame(\n",
        "                        np.array(BedSequence(\n",
        "                            genome,\n",
        "                            bed=to_bed(labels['enhancer']),\n",
        "                            batch_size=1\n",
        "                        )).reshape(-1, 4*256),\n",
        "                        index=labels['enhancer'].index\n",
        "                    )\n",
        "          }"
      ],
      "metadata": {
        "id": "GiqGPfpboYJd",
        "colab": {
          "base_uri": "https://localhost:8080/"
        },
        "outputId": "3a059a3a-3ac0-4eb3-d55a-d7aeb655abcb"
      },
      "execution_count": null,
      "outputs": [
        {
          "output_type": "stream",
          "name": "stderr",
          "text": [
            "/usr/local/lib/python3.7/dist-packages/numba/np/ufunc/parallel.py:363: NumbaWarning: The TBB threading layer requires TBB version 2019.5 or later i.e., TBB_INTERFACE_VERSION >= 11005. Found TBB_INTERFACE_VERSION = 9107. The TBB threading layer is disabled.\n",
            "  warnings.warn(problem)\n"
          ]
        }
      ]
    },
    {
      "cell_type": "code",
      "source": [
        "sequence"
      ],
      "metadata": {
        "colab": {
          "base_uri": "https://localhost:8080/"
        },
        "id": "EHfoJMSyqfkf",
        "outputId": "5b58ad0f-31d0-4908-a5e9-8e6d8b9b5a0a"
      },
      "execution_count": null,
      "outputs": [
        {
          "output_type": "execute_result",
          "data": {
            "text/plain": [
              "{'enhancer':                                    0     1     2     ...  1021  1022  1023\n",
              " chrom chromStart chromEnd  strand                    ...                  \n",
              " chr10 100006381  100006637 .        1.0   0.0   0.0  ...   0.0   1.0   0.0\n",
              "       100008146  100008402 .        1.0   0.0   0.0  ...   0.0   0.0   0.0\n",
              "       100014418  100014674 .        0.0   0.0   0.0  ...   0.0   0.0   0.0\n",
              "       100020216  100020472 .        1.0   0.0   0.0  ...   0.0   1.0   0.0\n",
              "       100043528  100043784 .        0.0   0.0   0.0  ...   0.0   1.0   0.0\n",
              " ...                                 ...   ...   ...  ...   ...   ...   ...\n",
              " chrY  7520247    7520503   .        1.0   0.0   0.0  ...   1.0   0.0   0.0\n",
              "       7724272    7724528   .        1.0   0.0   0.0  ...   0.0   0.0   1.0\n",
              "       7770029    7770285   .        0.0   0.0   0.0  ...   0.0   0.0   1.0\n",
              "       7796295    7796551   .        1.0   0.0   0.0  ...   0.0   1.0   0.0\n",
              "       8007562    8007818   .        0.0   0.0   0.0  ...   0.0   0.0   0.0\n",
              " \n",
              " [63285 rows x 1024 columns],\n",
              " 'promoter':                                    0     1     2     ...  1021  1022  1023\n",
              " chrom chromStart chromEnd  strand                    ...                  \n",
              " chr1  628964     629220    +        0.0   0.0   0.0  ...   1.0   0.0   0.0\n",
              "       629013     629269    +        1.0   0.0   0.0  ...   0.0   0.0   0.0\n",
              "       629642     629898    +        0.0   0.0   1.0  ...   0.0   1.0   0.0\n",
              "       629847     630103    +        0.0   0.0   1.0  ...   0.0   0.0   1.0\n",
              "       629905     630161    +        0.0   1.0   0.0  ...   0.0   0.0   0.0\n",
              " ...                                 ...   ...   ...  ...   ...   ...   ...\n",
              " chrX  154441877  154442133 +        0.0   0.0   1.0  ...   0.0   0.0   1.0\n",
              "       154584927  154585183 +        0.0   1.0   0.0  ...   0.0   0.0   0.0\n",
              " chrY  1452882    1453138   -        0.0   0.0   0.0  ...   0.0   0.0   1.0\n",
              "       2500959    2501215   -        0.0   1.0   0.0  ...   1.0   0.0   0.0\n",
              "       14055973   14056229  +        0.0   0.0   1.0  ...   1.0   0.0   0.0\n",
              " \n",
              " [99881 rows x 1024 columns]}"
            ]
          },
          "metadata": {},
          "execution_count": 28
        }
      ]
    },
    {
      "cell_type": "markdown",
      "metadata": {
        "id": "fuk5tzG4eKDp"
      },
      "source": [
        "# Data visualization with t-SNE or PCA "
      ]
    },
    {
      "cell_type": "code",
      "source": [
        "tasks = {\n",
        "    \"x\":[\n",
        "        *[\n",
        "            val.values\n",
        "            for val in samples.values()\n",
        "        ]\n",
        "    ],\n",
        "    \"y\":[\n",
        "        *[\n",
        "            val.values.ravel()\n",
        "            for val in labels.values()\n",
        "        ]\n",
        "    ],\n",
        "    \"titles\":[\n",
        "        \"Epigenomes promoters\",\n",
        "        \"Epigenomes enhancers\"\n",
        "    ]\n",
        "}\n",
        "\n",
        "tasks\n",
        "\n",
        "\n",
        "xs = tasks[\"x\"]\n",
        "ys = tasks[\"y\"]\n",
        "titles = tasks[\"titles\"]\n",
        "\n",
        "assert len(xs) == len(ys) == len(titles)\n",
        "\n",
        "for x, y in zip(xs, ys):\n",
        "    assert x.shape[0] == y.shape[0]"
      ],
      "metadata": {
        "id": "jR91VmfkwHfg"
      },
      "execution_count": null,
      "outputs": []
    },
    {
      "cell_type": "code",
      "source": [
        "tasks_seq = {\n",
        "    \"x\":[\n",
        "        *[\n",
        "            val.values\n",
        "            for val in sequence.values()\n",
        "        ]\n",
        "    ],\n",
        "    \"y\":[\n",
        "        *[\n",
        "            val.values.ravel()\n",
        "            for val in labels.values()\n",
        "        ]\n",
        "    ],\n",
        "    \"titles\":[\n",
        "        \"Sequence promoters\",\n",
        "        \"Sequence enhancers\"\n",
        "    ]\n",
        "}\n",
        "\n",
        "tasks_seq\n",
        "\n",
        "\n",
        "xss = tasks_seq[\"x\"]\n",
        "yss = tasks_seq[\"y\"]\n",
        "titless = tasks_seq[\"titles\"]\n",
        "\n",
        "assert len(xss) == len(yss) == len(titless)\n",
        "\n",
        "for x, y in zip(xss, yss):\n",
        "    assert x.shape[0] == y.shape[0]"
      ],
      "metadata": {
        "id": "xvOg6n3swK5s"
      },
      "execution_count": null,
      "outputs": []
    },
    {
      "cell_type": "markdown",
      "metadata": {
        "id": "tNcMAqX5mKXc"
      },
      "source": [
        "### PCA decomposition"
      ]
    },
    {
      "cell_type": "code",
      "execution_count": null,
      "metadata": {
        "id": "cBkzP5QdilMC"
      },
      "outputs": [],
      "source": [
        "from sklearn.decomposition import PCA\n",
        "\n",
        "def pca(x:np.ndarray)->np.ndarray:\n",
        "    return PCA(n_components=2, random_state=42).fit_transform(x)"
      ]
    },
    {
      "cell_type": "code",
      "source": [
        "fig, axes = plt.subplots(nrows=1, ncols=2, figsize=(20, 10))\n",
        "\n",
        "for x, y, title, axis in tqdm(zip(xs, ys, titles, axes.flatten()), desc=\"Computing PCAs\", total=len(xs)):\n",
        "    axis.scatter(*pca(x).T, s=1, c=['#ff0000' if i else '#0000ff' for i in y])\n",
        "    axis.xaxis.set_visible(False)\n",
        "    axis.yaxis.set_visible(False)\n",
        "    axis.set_title(f\"PCA decomposition - {title}\")\n",
        "plt.show()"
      ],
      "metadata": {
        "colab": {
          "base_uri": "https://localhost:8080/",
          "height": 618,
          "referenced_widgets": [
            "e16c3a6a5a4f4177a1a2541cd8cd6391",
            "2f8f33023fc74736a4d6ca700b453ac4",
            "b189e1d71d214efa8816cb81cc779ae8",
            "40482d37fa784484a372a0e8673c71b3",
            "6478e4fd901d4f0eb78389703969a5a5",
            "12cc1f4030484a71afc08500e0a6c279",
            "69a1cb830cd04cadbbc5395bfb1b704d",
            "e2244839bb4547b4906e149d7ff4fcaa",
            "f88a0853667f4305a5794245dfbb7138",
            "3c3bdb1cd7034823af157dbebf1039f2",
            "f7a1e5185f7d491b8900b98402e583c2"
          ]
        },
        "id": "MzOjBOJjwU4J",
        "outputId": "66d736aa-9100-409f-9ab3-4ef703224df0"
      },
      "execution_count": null,
      "outputs": [
        {
          "output_type": "display_data",
          "data": {
            "application/vnd.jupyter.widget-view+json": {
              "model_id": "e16c3a6a5a4f4177a1a2541cd8cd6391",
              "version_minor": 0,
              "version_major": 2
            },
            "text/plain": [
              "Computing PCAs:   0%|          | 0/2 [00:00<?, ?it/s]"
            ]
          },
          "metadata": {}
        },
        {
          "output_type": "display_data",
          "data": {
            "image/png": "[encoded data removed]",
            "text/plain": [
              "<Figure size 1440x720 with 2 Axes>"
            ]
          },
          "metadata": {
            "needs_background": "light"
          }
        }
      ]
    },
    {
      "cell_type": "code",
      "source": [
        "fig, axes = plt.subplots(nrows=1, ncols=2, figsize=(20, 10))\n",
        "\n",
        "for x, y, title, axis in tqdm(zip(xss, yss, titless, axes.flatten()), desc=\"Computing PCAs\", total=len(xss)):\n",
        "    axis.scatter(*pca(x).T, s=1, c=['#ff0000' if i else '#0000ff' for i in y])\n",
        "    axis.xaxis.set_visible(False)\n",
        "    axis.yaxis.set_visible(False)\n",
        "    axis.set_title(f\"PCA decomposition - {title}\")\n",
        "plt.show()"
      ],
      "metadata": {
        "colab": {
          "base_uri": "https://localhost:8080/",
          "height": 618,
          "referenced_widgets": [
            "791a3bf875654d718b73d72bc919e86d",
            "316dee0f66ba4c6ab09f7bcd2677ce5c",
            "e16cb71b430945e7a206b0113e19b249",
            "fbc73a264a76434bb517e29a896cd90c",
            "899d4c4405d14a2d808d3624504bf05c",
            "5a3961917651408ab3318f48f241ba23",
            "ec7adb880bf1461ba8ff2d58d8e6ce34",
            "9f071f259fb6413db1dce694ca0f7708",
            "6491237fbfac47449b9a09691dd5baa7",
            "3e138d73bdd9480895308befa28c91cf",
            "8930757f8799426481e19530b484cfe3"
          ]
        },
        "id": "zPryVRwZwXR0",
        "outputId": "14193fee-bf2a-46c4-bfaf-90e659deed7e"
      },
      "execution_count": null,
      "outputs": [
        {
          "output_type": "display_data",
          "data": {
            "application/vnd.jupyter.widget-view+json": {
              "model_id": "791a3bf875654d718b73d72bc919e86d",
              "version_minor": 0,
              "version_major": 2
            },
            "text/plain": [
              "Computing PCAs:   0%|          | 0/2 [00:00<?, ?it/s]"
            ]
          },
          "metadata": {}
        },
        {
          "output_type": "display_data",
          "data": {
            "image/png": "[encoded data removed]",
            "text/plain": [
              "<Figure size 1440x720 with 2 Axes>"
            ]
          },
          "metadata": {
            "needs_background": "light"
          }
        }
      ]
    },
    {
      "cell_type": "markdown",
      "metadata": {
        "id": "iJ3fy7NwmPAK"
      },
      "source": [
        "### t-SNE decomposition"
      ]
    },
    {
      "cell_type": "code",
      "source": [
        "import gc\n",
        "import tsnecuda\n",
        "from tsnecuda import TSNE\n",
        "import multiprocessing\n",
        "from multiprocessing import Process, Queue\n",
        "\n",
        "def tsne(X:np.ndarray)->np.ndarray:\n",
        "    return TSNE(\n",
        "            # Better performance may be achieved with cosine distance,\n",
        "            # but currently TSNECUDA does not support other metrics.\n",
        "            # Expecially for the sequence data, cosine distances may be foundamental\n",
        "            # to get a semantically significant decomposition.\n",
        "            perplexity= 30,\n",
        "            n_iter = 1000,\n",
        "            verbose=True,\n",
        "        ).fit_transform(X)"
      ],
      "metadata": {
        "id": "NIcIXbUc9wpq"
      },
      "execution_count": null,
      "outputs": []
    },
    {
      "cell_type": "code",
      "source": [
        "fig, axes = plt.subplots(nrows=1, ncols=2, figsize=(20, 10))\n",
        "\n",
        "for x, y, title, axis in tqdm(zip(xs, ys, titles, axes.flatten()), desc=\"Computing t-SNE\", total=len(xs)):\n",
        "    axis.scatter(*tsne(x).T, s=1, c=['#ff0000' if i else '#0000ff' for i in y])\n",
        "    axis.xaxis.set_visible(False)\n",
        "    axis.yaxis.set_visible(False)\n",
        "    axis.set_title(f\"t-SNE decomposition - {title}\")\n",
        "plt.show()"
      ],
      "metadata": {
        "colab": {
          "base_uri": "https://localhost:8080/",
          "height": 49,
          "referenced_widgets": [
            "eeba30a086e74963bce6cefc784ee698",
            "69e7943580b342d2965a51c8b37cc966",
            "1f756d64374346df88860fb126621076",
            "9c4c54e2421244e1b5cb504955efb348",
            "64d5e3000aa54d3faa9b4b76ef7cee18",
            "7a7a191a07004d58925cc3c30f05880a",
            "c8528ac5cff74322bc957ed401989f8f",
            "761b805be6e945cd8584a9180c345cb3",
            "aa11a3585a4c452cae1e80d262f7771b",
            "23aaeae25cbe432d893a0d4c21868c68",
            "32d98446d209404ea5a5cf6b8304896d"
          ]
        },
        "id": "BpUIDdR3hntv",
        "outputId": "62016e33-27c6-41b4-cdcf-5e1972cd66ef"
      },
      "execution_count": null,
      "outputs": [
        {
          "output_type": "display_data",
          "data": {
            "application/vnd.jupyter.widget-view+json": {
              "model_id": "eeba30a086e74963bce6cefc784ee698",
              "version_minor": 0,
              "version_major": 2
            },
            "text/plain": [
              "Computing t-SNE:   0%|          | 0/2 [00:00<?, ?it/s]"
            ]
          },
          "metadata": {}
        }
      ]
    },
    {
      "cell_type": "code",
      "source": [
        "fig, axes = plt.subplots(nrows=1, ncols=2, figsize=(20, 10))\n",
        "\n",
        "for x, y, title, axis in tqdm(zip(xss, yss, titless, axes.flatten()), desc=\"Computing t-SNE\", total=len(xss)):\n",
        "    axis.scatter(*tsne(x).T, s=1, c=['#ff0000' if i else '#0000ff' for i in y])\n",
        "    axis.xaxis.set_visible(False)\n",
        "    axis.yaxis.set_visible(False)\n",
        "    axis.set_title(f\"t-SNE decomposition - {title}\")\n",
        "plt.show()"
      ],
      "metadata": {
        "id": "o2-eWPpYsgD_"
      },
      "execution_count": null,
      "outputs": []
    },
    {
      "cell_type": "markdown",
      "source": [
        "# Classification Model"
      ],
      "metadata": {
        "id": "lmS49l77ww0I"
      }
    },
    {
      "cell_type": "markdown",
      "source": [
        "### FFNN model"
      ],
      "metadata": {
        "id": "7c7z0ZMc6JeB"
      }
    },
    {
      "cell_type": "markdown",
      "source": [
        "![Screenshot 2021-12-21 at 15.27.05.png](data:image/png;base64,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)"
      ],
      "metadata": {
        "id": "FL7-MBZqY_0f"
      }
    },
    {
      "cell_type": "code",
      "source": [
        "class MyHyperModel(kt.HyperModel):\n",
        "  \n",
        "  def __init__(self, input_shape):\n",
        "    self.input_shape = input_shape    \n",
        "\n",
        "  def build(self, hp):\n",
        "\n",
        "    hp1 = hp.Choice('hp1', [8, 16, 32])\n",
        "    hp2 = hp.Choice('hp2', [4, 8, 16])\n",
        "    hp3 = hp.Choice('hp3', [2, 4, 8])\n",
        "\n",
        "    input_epigenomic_data = Input(shape=(self.input_shape,), name=\"epigenomic_data\")\n",
        "    hidden = Dense(hp1, activation=\"relu\")(input_epigenomic_data)\n",
        "    #hidden = Dropout(rate=0.3)(hidden)\n",
        "    hidden = Dense(hp2, activation=\"relu\")(hidden)\n",
        "    #hidden = Dropout(rate=0.3)(hidden)\n",
        "    hidden = Dense(hp3, activation=\"relu\")(hidden)\n",
        "    #hidden = Dropout(rate=0.3)(hidden)\n",
        "\n",
        "    last_hidden_ffnn = hidden\n",
        "    output_ffnn = Dense(1, activation=\"sigmoid\")(last_hidden_ffnn)\n",
        "\n",
        "    ffnn = Model(\n",
        "        inputs=input_epigenomic_data,\n",
        "        outputs=output_ffnn,\n",
        "        name=\"BinaryClassificationFFNN\"\n",
        "    )\n",
        "\n",
        "    ffnn.compile(\n",
        "        optimizer=\"nadam\",\n",
        "        loss=\"binary_crossentropy\",\n",
        "        metrics=get_complete_binary_metrics()\n",
        "    )\n",
        "\n",
        "    return ffnn\n"
      ],
      "metadata": {
        "id": "EgnIrf4Yp-5m"
      },
      "execution_count": 58,
      "outputs": []
    },
    {
      "cell_type": "code",
      "source": [
        "def build_binary_classification_ffnn(\n",
        "    train_sequence: MixedSequence,\n",
        "    test_sequence: MixedSequence,\n",
        "    input_shape: int\n",
        ")->Tuple[Model, Layer, Layer]:\n",
        "    \n",
        "    tuner = BayesianOptimization(\n",
        "      MyHyperModel(input_shape),\n",
        "      objective='val_accuracy',\n",
        "      max_trials=2\n",
        "    )\n",
        "\n",
        "    tuner.search(\n",
        "      train_sequence,\n",
        "      validation_data=test_sequence,\n",
        "      epochs=100,\n",
        "      verbose=False,\n",
        "      callbacks=[\n",
        "          EarlyStopping(\n",
        "              \"loss\",\n",
        "              min_delta=0.001,\n",
        "              patience=2,\n",
        "              mode=\"min\"\n",
        "          )\n",
        "      ]\n",
        "    )\n",
        "\n",
        "    return tuner.get_best_models()[0]"
      ],
      "metadata": {
        "id": "xAj2il-MwzwG"
      },
      "execution_count": 59,
      "outputs": []
    },
    {
      "cell_type": "code",
      "source": [
        "def get_ffnn_sequence(\n",
        "    X: np.ndarray,\n",
        "    y: np.ndarray,\n",
        "    batch_size: int = 1024\n",
        ") -> MixedSequence:\n",
        "    \"\"\"Returns sequence to train a FFNN model on epigenomic data.\n",
        "    \n",
        "    Implementative details\n",
        "    -------------------------\n",
        "    This sequence can be used for either binary classification or\n",
        "    for regresssion, just change the y accordingly.\n",
        "    \n",
        "    Parameters\n",
        "    -------------------------\n",
        "    X: np.ndarray,\n",
        "        The vector from where to extract the epigenomic data.\n",
        "    y: np.ndarray,\n",
        "        The values the model should predict.\n",
        "    batch_size: int = 1024,\n",
        "        The size of the batches to generate\n",
        "    \n",
        "    Returns\n",
        "    --------------------------\n",
        "    MixedSequence object to train a FFNN.\n",
        "    \"\"\"\n",
        "    return MixedSequence(\n",
        "        x={\n",
        "            \"epigenomic_data\": VectorSequence(\n",
        "                X,\n",
        "                batch_size\n",
        "            )\n",
        "        },\n",
        "        y=VectorSequence(\n",
        "            y,\n",
        "            batch_size=batch_size\n",
        "        )\n",
        "    )"
      ],
      "metadata": {
        "id": "IvP6x5Rag91F"
      },
      "execution_count": 26,
      "outputs": []
    },
    {
      "cell_type": "markdown",
      "source": [
        "### CNN model"
      ],
      "metadata": {
        "id": "-q1PXhKW6kW3"
      }
    },
    {
      "cell_type": "markdown",
      "source": [
        "### MMNN Model"
      ],
      "metadata": {
        "id": "L34n4I2d6m8P"
      }
    },
    {
      "cell_type": "markdown",
      "source": [
        "### Model training"
      ],
      "metadata": {
        "id": "7VefOBWQ6Tbx"
      }
    },
    {
      "cell_type": "code",
      "source": [
        "from tensorflow.keras.callbacks import EarlyStopping\n",
        "\n",
        "'''@Cache(\n",
        "    cache_path=[\n",
        "        \"model_histories/{cell_line}/{task}/{model_name}/history_{_hash}.csv.xz\",\n",
        "        \"model_performance/{cell_line}/{task}/{model_name}/performance_{_hash}.csv.xz\",\n",
        "    ],\n",
        "    args_to_ignore=[\n",
        "        \"model\", \"training_sequence\", \"test_sequence\"\n",
        "    ]\n",
        ")'''\n",
        "def train_model(\n",
        "    model: Model,\n",
        "    model_name: str,\n",
        "    task: str,\n",
        "    cell_line: str,\n",
        "    train_sequence: MixedSequence,\n",
        "    test_sequence: MixedSequence,\n",
        "    holdout_number: int\n",
        ") -> Tuple[pd.DataFrame, pd.DataFrame]:\n",
        "    \"\"\"Returns training history and model evaluations.\n",
        "    \n",
        "    Parameters\n",
        "    ---------------------\n",
        "    model: Model,\n",
        "        The model to train.\n",
        "    model_name: str,\n",
        "        The model name.\n",
        "    task: str,\n",
        "        The name of the task.\n",
        "    cell_line: str,\n",
        "        Name of the considered cell line.\n",
        "    training_sequence: MixedSequence,\n",
        "        The training sequence.\n",
        "    test_sequence: MixedSequence,\n",
        "        The test sequence.\n",
        "    holdout_number: int,\n",
        "        The number of the current holdout.\n",
        "        \n",
        "    Returns\n",
        "    ----------------------\n",
        "    Tuple with training history dataframe and model evaluations dataframe.\n",
        "    \"\"\"\n",
        "    history = pd.DataFrame(model.fit(\n",
        "        train_sequence,\n",
        "        validation_data=test_sequence,\n",
        "        epochs=100,\n",
        "        verbose=False,\n",
        "        callbacks=[\n",
        "            EarlyStopping(\n",
        "                \"loss\",\n",
        "                min_delta=0.001,\n",
        "                patience=2,\n",
        "                mode=\"min\"\n",
        "            ),\n",
        "            # I have commented this because we do not need this loading bar\n",
        "            # when running the main experiment loop. When you experiment with\n",
        "            # the model structure you may want to enable this to get a feel\n",
        "            # of how the model is performing during the training.\n",
        "            #TqdmCallback(verbose=1)\n",
        "        ]\n",
        "    ).history)\n",
        "    \n",
        "    train_evaluation = dict(zip(model.metrics_names, model.evaluate(train_sequence, verbose=False)))\n",
        "    test_evaluation = dict(zip(model.metrics_names, model.evaluate(test_sequence, verbose=False)))\n",
        "    train_evaluation[\"run_type\"] = \"train\"\n",
        "    test_evaluation[\"run_type\"] = \"test\"\n",
        "    \n",
        "    for evaluation in (train_evaluation, test_evaluation):\n",
        "        evaluation[\"model_name\"] = model_name\n",
        "        evaluation[\"task\"] = task\n",
        "        evaluation[\"holdout_number\"] = holdout_number\n",
        "    \n",
        "    evaluations = pd.DataFrame([\n",
        "        train_evaluation,\n",
        "        test_evaluation\n",
        "    ])\n",
        "    \n",
        "    return history, evaluations"
      ],
      "metadata": {
        "id": "MehnJRtZfX7I"
      },
      "execution_count": 44,
      "outputs": []
    },
    {
      "cell_type": "code",
      "source": [
        "from sklearn.model_selection import StratifiedShuffleSplit, ShuffleSplit\n",
        "\n",
        "# Here for speed sake we are only doing two holdouts\n",
        "# but normally at least 10 are executed\n",
        "number_of_splits = 2\n",
        "\n",
        "holdouts_generator = StratifiedShuffleSplit(\n",
        "    n_splits=number_of_splits,\n",
        "    test_size=0.2\n",
        ")\n",
        "\n",
        "regression_holdouts_generator = ShuffleSplit(\n",
        "    n_splits=number_of_splits,\n",
        "    test_size=0.2\n",
        ")"
      ],
      "metadata": {
        "id": "P7bszcHzhoXi"
      },
      "execution_count": 28,
      "outputs": []
    },
    {
      "cell_type": "markdown",
      "source": [
        "### Model Evaluation"
      ],
      "metadata": {
        "id": "Uoo2aJZz53E8"
      }
    },
    {
      "cell_type": "markdown",
      "source": [
        "### Bayesian Optimization"
      ],
      "metadata": {
        "id": "X0tGohednstJ"
      }
    },
    {
      "cell_type": "code",
      "source": [
        "X = samples['promoter']\n",
        "y = labels['promoter']"
      ],
      "metadata": {
        "id": "bw2TsNaIsvb7"
      },
      "execution_count": 31,
      "outputs": []
    },
    {
      "cell_type": "markdown",
      "source": [
        "    model = keras.Sequential()\n",
        "\n",
        "    hp1 = hp.Choice('hp1', [8, 16, 32])\n",
        "    hp2 = hp.Choice('hp2', [4, 8, 16])\n",
        "    hp3 = hp.Choice('hp3', [2, 4, 8])\n",
        "\n",
        "    model.add(keras.layers.Dense(units=hp1, activation='relu'))\n",
        "    model.add(keras.layers.Dense(units=hp2, activation='relu'))\n",
        "    model.add(keras.layers.Dense(units=hp3, activation='relu'))\n",
        "\n",
        "    model.add(keras.layers.Dense(1, activation=\"sigmoid\"))\n",
        "\n",
        "    model.compile(\n",
        "      optimizer=\"nadam\",\n",
        "      loss=\"binary_crossentropy\",\n",
        "      metrics=get_complete_binary_metrics()\n",
        "    )\n",
        "    return model"
      ],
      "metadata": {
        "id": "KesH2Zi65szK"
      }
    },
    {
      "cell_type": "code",
      "source": [
        "from sklearn.model_selection import train_test_split\n",
        "\n",
        "X_train, X_test, y_train, y_test = train_test_split(X, y, test_size=0.2, random_state=42)"
      ],
      "metadata": {
        "id": "aDYWNSXaxY9L"
      },
      "execution_count": 34,
      "outputs": []
    },
    {
      "cell_type": "code",
      "source": [
        "from tqdm.auto import tqdm\n",
        "from epigenomic_dataset import active_enhancers_vs_inactive_enhancers, active_promoters_vs_inactive_promoters\n",
        "from epigenomic_dataset.utils import normalize_epigenomic_data\n",
        "\n",
        "# Create a list to store all the computed performance\n",
        "all_binary_classification_performance = []\n",
        "\n",
        "training_histories = {}\n",
        "\n",
        "# For each task\n",
        "for task in tqdm(((samples['promoter'],labels['promoter'], 'Promoter'),), desc=\"Tasks\"):\n",
        "\n",
        "    # We get the task data with binarized labels\n",
        "    X, y, task_name = task\n",
        "    training_histories[task_name] = []\n",
        "    # Get the number of features of this specific dataset\n",
        "    number_of_features = X.shape[1]\n",
        "    # Start the main loop, iterating through the holdouts\n",
        "    for holdout_number, (train_indices, test_indices) in tqdm(\n",
        "        enumerate(holdouts_generator.split(X, y)),\n",
        "        total=number_of_splits,\n",
        "        leave=False,\n",
        "        desc=\"Computing holdouts\"\n",
        "    ):\n",
        "        # Get the training and test data\n",
        "        train_X, test_X = X.iloc[train_indices], X.iloc[test_indices]\n",
        "        train_y, test_y = y.iloc[train_indices], y.iloc[test_indices]\n",
        "        \n",
        "        # Flatten the output values\n",
        "        train_y = train_y.values.flatten()\n",
        "        test_y = test_y.values.flatten()\n",
        "        \n",
        "        train_sequence = get_ffnn_sequence(train_X.values, train_y)\n",
        "        test_sequence = get_ffnn_sequence(test_X.values, test_y)\n",
        "        ffnn = build_binary_classification_ffnn(train_sequence, test_sequence, number_of_features)\n",
        "        \n",
        "        # execute_boruta_feature_selection(...)\n",
        "        \n",
        "        # We compute the model performance\n",
        "        history, performance = train_model(\n",
        "            ffnn,\n",
        "            ffnn.name,\n",
        "            task_name,\n",
        "            cell_line,\n",
        "            train_sequence,\n",
        "            test_sequence,\n",
        "            holdout_number\n",
        "        )\n",
        "        training_histories[task_name].append(history)\n",
        "        all_binary_classification_performance.append(performance)\n",
        "        \n",
        "# We convert the computed performance list into a DataFrame\n",
        "all_binary_classification_performance = pd.concat(all_binary_classification_performance)"
      ],
      "metadata": {
        "id": "bC9E3y39jeI4",
        "outputId": "e400f9b8-4f23-4446-de5e-9e24584fac04",
        "colab": {
          "base_uri": "https://localhost:8080/",
          "height": 1000,
          "referenced_widgets": [
            "87db3c5dc8ce4781a256f466bc02138a",
            "65f12a3ab29f48c0bc00dd0097f068df",
            "081210ac912f4077b0a2515e482c3088",
            "8712b15c000d46d3a566770e5409928f",
            "59232a04121f45d6a6ac726ee7dd341a",
            "75772844062e4ef3b88a678d4ebd08a4",
            "897de96d898246fd858da886cae53934",
            "3ebbc7b502c44b50832b073a69962d4f",
            "5ffd4e6bb3824523bbd72f80caec8828",
            "372a119297f54ade99aba9811280413f",
            "10c59c9984b74256bc2839cb9dccc238",
            "0804f003d0e64b7eb389d10a7728efd8",
            "1d6e67cb0e5a4d6cac9409c429a5bfde",
            "a711a64a595649a4b64ed88c2a5992db",
            "9ad016e395b74ab889df6c0a0ac72b16",
            "2f110f92bec54a4bae884929dc01338a",
            "d49f4f7435d74ec3bdd2a7508b1cd0e2",
            "107f54e4f1854ed397917a52bc9e4fad",
            "0bb9c507a84b4c4bb66cb9e932ade079",
            "25f7d1c0fd3b43dd9e8cedce290241f7",
            "5b107849411941bd8e046fd04f37a705",
            "0e8bbdb7d4d34296b18cfd195bda64c6"
          ]
        }
      },
      "execution_count": 61,
      "outputs": [
        {
          "output_type": "display_data",
          "data": {
            "application/vnd.jupyter.widget-view+json": {
              "model_id": "87db3c5dc8ce4781a256f466bc02138a",
              "version_minor": 0,
              "version_major": 2
            },
            "text/plain": [
              "Tasks:   0%|          | 0/1 [00:00<?, ?it/s]"
            ]
          },
          "metadata": {}
        },
        {
          "output_type": "display_data",
          "data": {
            "application/vnd.jupyter.widget-view+json": {
              "model_id": "0804f003d0e64b7eb389d10a7728efd8",
              "version_minor": 0,
              "version_major": 2
            },
            "text/plain": [
              "Computing holdouts:   0%|          | 0/2 [00:00<?, ?it/s]"
            ]
          },
          "metadata": {}
        },
        {
          "output_type": "stream",
          "name": "stdout",
          "text": [
            "WARN:tensorflow:Unresolved object in checkpoint: (root).optimizer.iter\n",
            "WARN:tensorflow:Unresolved object in checkpoint: (root).optimizer.beta_1\n",
            "WARN:tensorflow:Unresolved object in checkpoint: (root).optimizer.beta_2\n",
            "WARN:tensorflow:Unresolved object in checkpoint: (root).optimizer.decay\n",
            "WARN:tensorflow:Unresolved object in checkpoint: (root).optimizer.learning_rate\n",
            "WARN:tensorflow:Unresolved object in checkpoint: (root).optimizer.momentum_cache\n",
            "WARN:tensorflow:A checkpoint was restored (e.g. tf.train.Checkpoint.restore or tf.keras.Model.load_weights) but not all checkpointed values were used. See above for specific issues. Use expect_partial() on the load status object, e.g. tf.train.Checkpoint.restore(...).expect_partial(), to silence these warnings, or use assert_consumed() to make the check explicit. See https://www.tensorflow.org/guide/checkpoint#loading_mechanics for details.\n"
          ]
        },
        {
          "output_type": "stream",
          "name": "stderr",
          "text": [
            "/usr/local/lib/python3.7/dist-packages/keras/engine/training.py:1841: UserWarning: Metric F1Score implements a `reset_states()` method; rename it to `reset_state()` (without the final \"s\"). The name `reset_states()` has been deprecated to improve API consistency.\n",
            "  m.reset_state()\n",
            "/usr/local/lib/python3.7/dist-packages/keras/engine/training.py:1841: UserWarning: Metric BalancedAccuracy implements a `reset_states()` method; rename it to `reset_state()` (without the final \"s\"). The name `reset_states()` has been deprecated to improve API consistency.\n",
            "  m.reset_state()\n",
            "/usr/local/lib/python3.7/dist-packages/keras/engine/training.py:1841: UserWarning: Metric Specificity implements a `reset_states()` method; rename it to `reset_state()` (without the final \"s\"). The name `reset_states()` has been deprecated to improve API consistency.\n",
            "  m.reset_state()\n",
            "/usr/local/lib/python3.7/dist-packages/keras/engine/training.py:1841: UserWarning: Metric MissRate implements a `reset_states()` method; rename it to `reset_state()` (without the final \"s\"). The name `reset_states()` has been deprecated to improve API consistency.\n",
            "  m.reset_state()\n",
            "/usr/local/lib/python3.7/dist-packages/keras/engine/training.py:1841: UserWarning: Metric FallOut implements a `reset_states()` method; rename it to `reset_state()` (without the final \"s\"). The name `reset_states()` has been deprecated to improve API consistency.\n",
            "  m.reset_state()\n",
            "/usr/local/lib/python3.7/dist-packages/keras/engine/training.py:1841: UserWarning: Metric MatthewsCorrelationCoefficient implements a `reset_states()` method; rename it to `reset_state()` (without the final \"s\"). The name `reset_states()` has been deprecated to improve API consistency.\n",
            "  m.reset_state()\n",
            "/usr/local/lib/python3.7/dist-packages/keras/engine/training.py:1841: UserWarning: Metric TruePositivesRatio implements a `reset_states()` method; rename it to `reset_state()` (without the final \"s\"). The name `reset_states()` has been deprecated to improve API consistency.\n",
            "  m.reset_state()\n",
            "/usr/local/lib/python3.7/dist-packages/keras/engine/training.py:1841: UserWarning: Metric FalsePositivesRatio implements a `reset_states()` method; rename it to `reset_state()` (without the final \"s\"). The name `reset_states()` has been deprecated to improve API consistency.\n",
            "  m.reset_state()\n",
            "/usr/local/lib/python3.7/dist-packages/keras/engine/training.py:1841: UserWarning: Metric TrueNegativesRatio implements a `reset_states()` method; rename it to `reset_state()` (without the final \"s\"). The name `reset_states()` has been deprecated to improve API consistency.\n",
            "  m.reset_state()\n",
            "/usr/local/lib/python3.7/dist-packages/keras/engine/training.py:1841: UserWarning: Metric FalseNegativesRatio implements a `reset_states()` method; rename it to `reset_state()` (without the final \"s\"). The name `reset_states()` has been deprecated to improve API consistency.\n",
            "  m.reset_state()\n",
            "/usr/local/lib/python3.7/dist-packages/keras/engine/training.py:1841: UserWarning: Metric NegativePredictiveValue implements a `reset_states()` method; rename it to `reset_state()` (without the final \"s\"). The name `reset_states()` has been deprecated to improve API consistency.\n",
            "  m.reset_state()\n",
            "/usr/local/lib/python3.7/dist-packages/keras/engine/training.py:1841: UserWarning: Metric FalseDiscoveryRate implements a `reset_states()` method; rename it to `reset_state()` (without the final \"s\"). The name `reset_states()` has been deprecated to improve API consistency.\n",
            "  m.reset_state()\n",
            "/usr/local/lib/python3.7/dist-packages/keras/engine/training.py:1841: UserWarning: Metric FalseOmissionRate implements a `reset_states()` method; rename it to `reset_state()` (without the final \"s\"). The name `reset_states()` has been deprecated to improve API consistency.\n",
            "  m.reset_state()\n",
            "/usr/local/lib/python3.7/dist-packages/keras/engine/training.py:1841: UserWarning: Metric PrevalenceThreshold implements a `reset_states()` method; rename it to `reset_state()` (without the final \"s\"). The name `reset_states()` has been deprecated to improve API consistency.\n",
            "  m.reset_state()\n",
            "/usr/local/lib/python3.7/dist-packages/keras/engine/training.py:1841: UserWarning: Metric ThreatScore implements a `reset_states()` method; rename it to `reset_state()` (without the final \"s\"). The name `reset_states()` has been deprecated to improve API consistency.\n",
            "  m.reset_state()\n",
            "/usr/local/lib/python3.7/dist-packages/keras/engine/training.py:1841: UserWarning: Metric FowlkesMallowsIndex implements a `reset_states()` method; rename it to `reset_state()` (without the final \"s\"). The name `reset_states()` has been deprecated to improve API consistency.\n",
            "  m.reset_state()\n",
            "/usr/local/lib/python3.7/dist-packages/keras/engine/training.py:1841: UserWarning: Metric Informedness implements a `reset_states()` method; rename it to `reset_state()` (without the final \"s\"). The name `reset_states()` has been deprecated to improve API consistency.\n",
            "  m.reset_state()\n",
            "/usr/local/lib/python3.7/dist-packages/keras/engine/training.py:1841: UserWarning: Metric Markedness implements a `reset_states()` method; rename it to `reset_state()` (without the final \"s\"). The name `reset_states()` has been deprecated to improve API consistency.\n",
            "  m.reset_state()\n",
            "/usr/local/lib/python3.7/dist-packages/keras/engine/training.py:1841: UserWarning: Metric PositiveLikelihoodRatio implements a `reset_states()` method; rename it to `reset_state()` (without the final \"s\"). The name `reset_states()` has been deprecated to improve API consistency.\n",
            "  m.reset_state()\n",
            "/usr/local/lib/python3.7/dist-packages/keras/engine/training.py:1841: UserWarning: Metric NegativeLikelihoodRatio implements a `reset_states()` method; rename it to `reset_state()` (without the final \"s\"). The name `reset_states()` has been deprecated to improve API consistency.\n",
            "  m.reset_state()\n",
            "/usr/local/lib/python3.7/dist-packages/keras/engine/training.py:1841: UserWarning: Metric DiagnosticOddsRatio implements a `reset_states()` method; rename it to `reset_state()` (without the final \"s\"). The name `reset_states()` has been deprecated to improve API consistency.\n",
            "  m.reset_state()\n"
          ]
        },
        {
          "output_type": "stream",
          "name": "stdout",
          "text": [
            "INFO:tensorflow:Oracle triggered exit\n",
            "INFO:tensorflow:Reloading Oracle from existing project ./untitled_project/oracle.json\n",
            "INFO:tensorflow:Reloading Tuner from ./untitled_project/tuner0.json\n",
            "INFO:tensorflow:Oracle triggered exit\n"
          ]
        }
      ]
    },
    {
      "cell_type": "code",
      "source": [
        "groups = all_binary_classification_performance[[\"AUROC\",\"AUPRC\",\"accuracy\",\"task\", \"model_name\", \"run_type\"]].groupby([\"task\", \"model_name\", \"run_type\"])\n",
        "\n",
        "for title, group in groups:\n",
        "  group.plot.bar(title=' '.join(title))"
      ],
      "metadata": {
        "colab": {
          "base_uri": "https://localhost:8080/",
          "height": 539
        },
        "id": "FveNzQyA1VZq",
        "outputId": "d6a5c703-e72c-4b75-bae3-a8c1e1d28ca6"
      },
      "execution_count": 62,
      "outputs": [
        {
          "output_type": "display_data",
          "data": {
            "image/png": "[encoded data removed]",
            "text/plain": [
              "<Figure size 432x288 with 1 Axes>"
            ]
          },
          "metadata": {
            "needs_background": "light"
          }
        },
        {
          "output_type": "display_data",
          "data": {
            "image/png": "[encoded data removed]",
            "text/plain": [
              "<Figure size 432x288 with 1 Axes>"
            ]
          },
          "metadata": {
            "needs_background": "light"
          }
        }
      ]
    },
    {
      "cell_type": "code",
      "source": [
        "all_binary_classification_performance"
      ],
      "metadata": {
        "colab": {
          "base_uri": "https://localhost:8080/",
          "height": 239
        },
        "id": "BiOqz-rT3xzd",
        "outputId": "6afcedfb-4483-4011-b984-8d94033ae2bf"
      },
      "execution_count": 63,
      "outputs": [
        {
          "output_type": "execute_result",
          "data": {
            "text/html": [
              "\n",
              "  <div id=\"df-dfca8dd9-67dc-45f5-84e1-7659b1c05f04\">\n",
              "    <div class=\"colab-df-container\">\n",
              "      <div>\n",
              "<style scoped>\n",
              "    .dataframe tbody tr th:only-of-type {\n",
              "        vertical-align: middle;\n",
              "    }\n",
              "\n",
              "    .dataframe tbody tr th {\n",
              "        vertical-align: top;\n",
              "    }\n",
              "\n",
              "    .dataframe thead th {\n",
              "        text-align: right;\n",
              "    }\n",
              "</style>\n",
              "<table border=\"1\" class=\"dataframe\">\n",
              "  <thead>\n",
              "    <tr style=\"text-align: right;\">\n",
              "      <th></th>\n",
              "      <th>loss</th>\n",
              "      <th>accuracy</th>\n",
              "      <th>recall</th>\n",
              "      <th>precision</th>\n",
              "      <th>AUROC</th>\n",
              "      <th>AUPRC</th>\n",
              "      <th>f1_score</th>\n",
              "      <th>balanced_accuracy</th>\n",
              "      <th>specificity</th>\n",
              "      <th>miss_rate</th>\n",
              "      <th>fall_out</th>\n",
              "      <th>mcc</th>\n",
              "      <th>true_positives_over_total</th>\n",
              "      <th>false_positives_over_total</th>\n",
              "      <th>true_negatives_over_total</th>\n",
              "      <th>false_negatives_over_total</th>\n",
              "      <th>negative_predictive_value</th>\n",
              "      <th>false_discovery_rate</th>\n",
              "      <th>false_omission_rate</th>\n",
              "      <th>prevalence_threshold</th>\n",
              "      <th>threat_score</th>\n",
              "      <th>fowlkes_mallows_index</th>\n",
              "      <th>informedness</th>\n",
              "      <th>markedness</th>\n",
              "      <th>positive_likelyhood_ratio</th>\n",
              "      <th>negative_likelyhood_ratio</th>\n",
              "      <th>DOR</th>\n",
              "      <th>run_type</th>\n",
              "      <th>model_name</th>\n",
              "      <th>task</th>\n",
              "      <th>holdout_number</th>\n",
              "    </tr>\n",
              "  </thead>\n",
              "  <tbody>\n",
              "    <tr>\n",
              "      <th>0</th>\n",
              "      <td>0.338683</td>\n",
              "      <td>0.823676</td>\n",
              "      <td>0.469848</td>\n",
              "      <td>0.584389</td>\n",
              "      <td>0.872467</td>\n",
              "      <td>0.572921</td>\n",
              "      <td>0.520896</td>\n",
              "      <td>0.692104</td>\n",
              "      <td>0.914359</td>\n",
              "      <td>0.530152</td>\n",
              "      <td>0.085641</td>\n",
              "      <td>0.418115</td>\n",
              "      <td>0.095853</td>\n",
              "      <td>0.068169</td>\n",
              "      <td>0.727823</td>\n",
              "      <td>0.108155</td>\n",
              "      <td>0.870625</td>\n",
              "      <td>0.415611</td>\n",
              "      <td>0.129375</td>\n",
              "      <td>0.299197</td>\n",
              "      <td>0.352170</td>\n",
              "      <td>0.692104</td>\n",
              "      <td>0.523998</td>\n",
              "      <td>0.455014</td>\n",
              "      <td>5.486275</td>\n",
              "      <td>0.579806</td>\n",
              "      <td>2.247849</td>\n",
              "      <td>train</td>\n",
              "      <td>BinaryClassificationFFNN</td>\n",
              "      <td>Promoter</td>\n",
              "      <td>0</td>\n",
              "    </tr>\n",
              "    <tr>\n",
              "      <th>1</th>\n",
              "      <td>0.343705</td>\n",
              "      <td>0.820193</td>\n",
              "      <td>0.463445</td>\n",
              "      <td>0.573467</td>\n",
              "      <td>0.868410</td>\n",
              "      <td>0.560342</td>\n",
              "      <td>0.512619</td>\n",
              "      <td>0.687543</td>\n",
              "      <td>0.911641</td>\n",
              "      <td>0.536555</td>\n",
              "      <td>0.088359</td>\n",
              "      <td>0.407343</td>\n",
              "      <td>0.094559</td>\n",
              "      <td>0.070331</td>\n",
              "      <td>0.725634</td>\n",
              "      <td>0.109476</td>\n",
              "      <td>0.868908</td>\n",
              "      <td>0.426533</td>\n",
              "      <td>0.131092</td>\n",
              "      <td>0.303933</td>\n",
              "      <td>0.344645</td>\n",
              "      <td>0.687543</td>\n",
              "      <td>0.515529</td>\n",
              "      <td>0.442375</td>\n",
              "      <td>5.244999</td>\n",
              "      <td>0.588560</td>\n",
              "      <td>2.200437</td>\n",
              "      <td>test</td>\n",
              "      <td>BinaryClassificationFFNN</td>\n",
              "      <td>Promoter</td>\n",
              "      <td>0</td>\n",
              "    </tr>\n",
              "    <tr>\n",
              "      <th>0</th>\n",
              "      <td>0.339317</td>\n",
              "      <td>0.823776</td>\n",
              "      <td>0.456904</td>\n",
              "      <td>0.587567</td>\n",
              "      <td>0.872001</td>\n",
              "      <td>0.571096</td>\n",
              "      <td>0.514063</td>\n",
              "      <td>0.687354</td>\n",
              "      <td>0.917803</td>\n",
              "      <td>0.543096</td>\n",
              "      <td>0.082197</td>\n",
              "      <td>0.413306</td>\n",
              "      <td>0.093212</td>\n",
              "      <td>0.065429</td>\n",
              "      <td>0.730564</td>\n",
              "      <td>0.110795</td>\n",
              "      <td>0.868314</td>\n",
              "      <td>0.412433</td>\n",
              "      <td>0.131686</td>\n",
              "      <td>0.297825</td>\n",
              "      <td>0.345952</td>\n",
              "      <td>0.687354</td>\n",
              "      <td>0.518133</td>\n",
              "      <td>0.455881</td>\n",
              "      <td>5.558619</td>\n",
              "      <td>0.591734</td>\n",
              "      <td>2.198501</td>\n",
              "      <td>train</td>\n",
              "      <td>BinaryClassificationFFNN</td>\n",
              "      <td>Promoter</td>\n",
              "      <td>1</td>\n",
              "    </tr>\n",
              "    <tr>\n",
              "      <th>1</th>\n",
              "      <td>0.339105</td>\n",
              "      <td>0.825900</td>\n",
              "      <td>0.454858</td>\n",
              "      <td>0.596141</td>\n",
              "      <td>0.872990</td>\n",
              "      <td>0.572503</td>\n",
              "      <td>0.516003</td>\n",
              "      <td>0.687935</td>\n",
              "      <td>0.921011</td>\n",
              "      <td>0.545142</td>\n",
              "      <td>0.078989</td>\n",
              "      <td>0.417798</td>\n",
              "      <td>0.092807</td>\n",
              "      <td>0.062872</td>\n",
              "      <td>0.733093</td>\n",
              "      <td>0.111228</td>\n",
              "      <td>0.868263</td>\n",
              "      <td>0.403859</td>\n",
              "      <td>0.131737</td>\n",
              "      <td>0.294144</td>\n",
              "      <td>0.347712</td>\n",
              "      <td>0.687935</td>\n",
              "      <td>0.520730</td>\n",
              "      <td>0.464405</td>\n",
              "      <td>5.758506</td>\n",
              "      <td>0.591895</td>\n",
              "      <td>2.204455</td>\n",
              "      <td>test</td>\n",
              "      <td>BinaryClassificationFFNN</td>\n",
              "      <td>Promoter</td>\n",
              "      <td>1</td>\n",
              "    </tr>\n",
              "  </tbody>\n",
              "</table>\n",
              "</div>\n",
              "      <button class=\"colab-df-convert\" onclick=\"convertToInteractive('df-dfca8dd9-67dc-45f5-84e1-7659b1c05f04')\"\n",
              "              title=\"Convert this dataframe to an interactive table.\"\n",
              "              style=\"display:none;\">\n",
              "        \n",
              "  <svg xmlns=\"http://www.w3.org/2000/svg\" height=\"24px\"viewBox=\"0 0 24 24\"\n",
              "       width=\"24px\">\n",
              "    <path d=\"M0 0h24v24H0V0z\" fill=\"none\"/>\n",
              "    <path d=\"M18.56 5.44l.94 2.06.94-2.06 2.06-.94-2.06-.94-.94-2.06-.94 2.06-2.06.94zm-11 1L8.5 8.5l.94-2.06 2.06-.94-2.06-.94L8.5 2.5l-.94 2.06-2.06.94zm10 10l.94 2.06.94-2.06 2.06-.94-2.06-.94-.94-2.06-.94 2.06-2.06.94z\"/><path d=\"M17.41 7.96l-1.37-1.37c-.4-.4-.92-.59-1.43-.59-.52 0-1.04.2-1.43.59L10.3 9.45l-7.72 7.72c-.78.78-.78 2.05 0 2.83L4 21.41c.39.39.9.59 1.41.59.51 0 1.02-.2 1.41-.59l7.78-7.78 2.81-2.81c.8-.78.8-2.07 0-2.86zM5.41 20L4 18.59l7.72-7.72 1.47 1.35L5.41 20z\"/>\n",
              "  </svg>\n",
              "      </button>\n",
              "      \n",
              "  <style>\n",
              "    .colab-df-container {\n",
              "      display:flex;\n",
              "      flex-wrap:wrap;\n",
              "      gap: 12px;\n",
              "    }\n",
              "\n",
              "    .colab-df-convert {\n",
              "      background-color: #E8F0FE;\n",
              "      border: none;\n",
              "      border-radius: 50%;\n",
              "      cursor: pointer;\n",
              "      display: none;\n",
              "      fill: #1967D2;\n",
              "      height: 32px;\n",
              "      padding: 0 0 0 0;\n",
              "      width: 32px;\n",
              "    }\n",
              "\n",
              "    .colab-df-convert:hover {\n",
              "      background-color: #E2EBFA;\n",
              "      box-shadow: 0px 1px 2px rgba(60, 64, 67, 0.3), 0px 1px 3px 1px rgba(60, 64, 67, 0.15);\n",
              "      fill: #174EA6;\n",
              "    }\n",
              "\n",
              "    [theme=dark] .colab-df-convert {\n",
              "      background-color: #3B4455;\n",
              "      fill: #D2E3FC;\n",
              "    }\n",
              "\n",
              "    [theme=dark] .colab-df-convert:hover {\n",
              "      background-color: #434B5C;\n",
              "      box-shadow: 0px 1px 3px 1px rgba(0, 0, 0, 0.15);\n",
              "      filter: drop-shadow(0px 1px 2px rgba(0, 0, 0, 0.3));\n",
              "      fill: #FFFFFF;\n",
              "    }\n",
              "  </style>\n",
              "\n",
              "      <script>\n",
              "        const buttonEl =\n",
              "          document.querySelector('#df-dfca8dd9-67dc-45f5-84e1-7659b1c05f04 button.colab-df-convert');\n",
              "        buttonEl.style.display =\n",
              "          google.colab.kernel.accessAllowed ? 'block' : 'none';\n",
              "\n",
              "        async function convertToInteractive(key) {\n",
              "          const element = document.querySelector('#df-dfca8dd9-67dc-45f5-84e1-7659b1c05f04');\n",
              "          const dataTable =\n",
              "            await google.colab.kernel.invokeFunction('convertToInteractive',\n",
              "                                                     [key], {});\n",
              "          if (!dataTable) return;\n",
              "\n",
              "          const docLinkHtml = 'Like what you see? Visit the ' +\n",
              "            '<a target=\"_blank\" href=https://colab.research.google.com/notebooks/data_table.ipynb>data table notebook</a>'\n",
              "            + ' to learn more about interactive tables.';\n",
              "          element.innerHTML = '';\n",
              "          dataTable['output_type'] = 'display_data';\n",
              "          await google.colab.output.renderOutput(dataTable, element);\n",
              "          const docLink = document.createElement('div');\n",
              "          docLink.innerHTML = docLinkHtml;\n",
              "          element.appendChild(docLink);\n",
              "        }\n",
              "      </script>\n",
              "    </div>\n",
              "  </div>\n",
              "  "
            ],
            "text/plain": [
              "       loss  accuracy  ...      task  holdout_number\n",
              "0  0.338683  0.823676  ...  Promoter               0\n",
              "1  0.343705  0.820193  ...  Promoter               0\n",
              "0  0.339317  0.823776  ...  Promoter               1\n",
              "1  0.339105  0.825900  ...  Promoter               1\n",
              "\n",
              "[4 rows x 31 columns]"
            ]
          },
          "metadata": {},
          "execution_count": 63
        }
      ]
    }
  ],
  "metadata": {
    "colab": {
      "collapsed_sections": [
        "mU3_opE0cigA",
        "CyKgpvUiZaJd",
        "Q-3KxLT5Qjti",
        "mU-2DHtZ9WYU",
        "6GgUVNag9jwh",
        "xmgmcSFOkv1I",
        "fuk5tzG4eKDp"
      ],
      "name": "Bioinformatic_project.ipynb",
      "provenance": [],
      "include_colab_link": true
    },
    "kernelspec": {
      "display_name": "Python 3",
      "name": "python3"
    },
    "language_info": {
      "name": "python"
    },
    "widgets": {
      "application/vnd.jupyter.widget-state+json": {
        "a239475b27674e35903762655c1b1e65": {
          "model_module": "@jupyter-widgets/controls",
          "model_name": "HBoxModel",
          "model_module_version": "1.5.0",
          "state": {
            "_view_name": "HBoxView",
            "_dom_classes": [],
            "_model_name": "HBoxModel",
            "_view_module": "@jupyter-widgets/controls",
            "_model_module_version": "1.5.0",
            "_view_count": null,
            "_view_module_version": "1.5.0",
            "box_style": "",
            "layout": "IPY_MODEL_f3948dc9b99a4eac9ec3c78a58f177f2",
            "_model_module": "@jupyter-widgets/controls",
            "children": [
              "IPY_MODEL_74082c1d30a4407097e67ea06300eece",
              "IPY_MODEL_a2f28cd465cc4eb0bedb04241d6d1efa",
              "IPY_MODEL_caa635435613436584f9c4a82bd19fd9"
            ]
          }
        },
        "f3948dc9b99a4eac9ec3c78a58f177f2": {
          "model_module": "@jupyter-widgets/base",
          "model_name": "LayoutModel",
          "model_module_version": "1.2.0",
          "state": {
            "_view_name": "LayoutView",
            "grid_template_rows": null,
            "right": null,
            "justify_content": null,
            "_view_module": "@jupyter-widgets/base",
            "overflow": null,
            "_model_module_version": "1.2.0",
            "_view_count": null,
            "flex_flow": "row wrap",
            "width": "100%",
            "min_width": null,
            "border": null,
            "align_items": null,
            "bottom": null,
            "_model_module": "@jupyter-widgets/base",
            "top": null,
            "grid_column": null,
            "overflow_y": null,
            "overflow_x": null,
            "grid_auto_flow": null,
            "grid_area": null,
            "grid_template_columns": null,
            "flex": null,
            "_model_name": "LayoutModel",
            "justify_items": null,
            "grid_row": null,
            "max_height": null,
            "align_content": null,
            "visibility": null,
            "align_self": null,
            "height": null,
            "min_height": null,
            "padding": null,
            "grid_auto_rows": null,
            "grid_gap": null,
            "max_width": null,
            "order": null,
            "_view_module_version": "1.2.0",
            "grid_template_areas": null,
            "object_position": null,
            "object_fit": null,
            "grid_auto_columns": null,
            "margin": null,
            "display": "inline-flex",
            "left": null
          }
        },
        "74082c1d30a4407097e67ea06300eece": {
          "model_module": "@jupyter-widgets/controls",
          "model_name": "HTMLModel",
          "model_module_version": "1.5.0",
          "state": {
            "_view_name": "HTMLView",
            "style": "IPY_MODEL_2edf9f5def7d4a47bd4f96f954b34139",
            "_dom_classes": [],
            "description": "",
            "_model_name": "HTMLModel",
            "placeholder": "​",
            "_view_module": "@jupyter-widgets/controls",
            "_model_module_version": "1.5.0",
            "value": "Running Spearman test: 100%",
            "_view_count": null,
            "_view_module_version": "1.5.0",
            "description_tooltip": null,
            "_model_module": "@jupyter-widgets/controls",
            "layout": "IPY_MODEL_8ac2f95e0a084acebea906cc15edec12"
          }
        },
        "a2f28cd465cc4eb0bedb04241d6d1efa": {
          "model_module": "@jupyter-widgets/controls",
          "model_name": "FloatProgressModel",
          "model_module_version": "1.5.0",
          "state": {
            "_view_name": "ProgressView",
            "style": "IPY_MODEL_9f30d1603a7e4b2582ed662c2da17f56",
            "_dom_classes": [],
            "description": "",
            "_model_name": "FloatProgressModel",
            "bar_style": "",
            "max": 2,
            "_view_module": "@jupyter-widgets/controls",
            "_model_module_version": "1.5.0",
            "value": 2,
            "_view_count": null,
            "_view_module_version": "1.5.0",
            "orientation": "horizontal",
            "min": 0,
            "description_tooltip": null,
            "_model_module": "@jupyter-widgets/controls",
            "layout": "IPY_MODEL_b38c19d162784d68b5a20073bcd2ad4c"
          }
        },
        "caa635435613436584f9c4a82bd19fd9": {
          "model_module": "@jupyter-widgets/controls",
          "model_name": "HTMLModel",
          "model_module_version": "1.5.0",
          "state": {
            "_view_name": "HTMLView",
            "style": "IPY_MODEL_7a13242f2c9340c39c140232d8c5a315",
            "_dom_classes": [],
            "description": "",
            "_model_name": "HTMLModel",
            "placeholder": "​",
            "_view_module": "@jupyter-widgets/controls",
            "_model_module_version": "1.5.0",
            "value": " 2/2 [00:15&lt;00:00,  7.84s/it]",
            "_view_count": null,
            "_view_module_version": "1.5.0",
            "description_tooltip": null,
            "_model_module": "@jupyter-widgets/controls",
            "layout": "IPY_MODEL_75e837b84bde4777bfb46cce6913b923"
          }
        },
        "2edf9f5def7d4a47bd4f96f954b34139": {
          "model_module": "@jupyter-widgets/controls",
          "model_name": "DescriptionStyleModel",
          "model_module_version": "1.5.0",
          "state": {
            "_view_name": "StyleView",
            "_model_name": "DescriptionStyleModel",
            "description_width": "",
            "_view_module": "@jupyter-widgets/base",
            "_model_module_version": "1.5.0",
            "_view_count": null,
            "_view_module_version": "1.2.0",
            "_model_module": "@jupyter-widgets/controls"
          }
        },
        "8ac2f95e0a084acebea906cc15edec12": {
          "model_module": "@jupyter-widgets/base",
          "model_name": "LayoutModel",
          "model_module_version": "1.2.0",
          "state": {
            "_view_name": "LayoutView",
            "grid_template_rows": null,
            "right": null,
            "justify_content": null,
            "_view_module": "@jupyter-widgets/base",
            "overflow": null,
            "_model_module_version": "1.2.0",
            "_view_count": null,
            "flex_flow": null,
            "width": null,
            "min_width": null,
            "border": null,
            "align_items": null,
            "bottom": null,
            "_model_module": "@jupyter-widgets/base",
            "top": null,
            "grid_column": null,
            "overflow_y": null,
            "overflow_x": null,
            "grid_auto_flow": null,
            "grid_area": null,
            "grid_template_columns": null,
            "flex": null,
            "_model_name": "LayoutModel",
            "justify_items": null,
            "grid_row": null,
            "max_height": null,
            "align_content": null,
            "visibility": null,
            "align_self": null,
            "height": null,
            "min_height": null,
            "padding": null,
            "grid_auto_rows": null,
            "grid_gap": null,
            "max_width": null,
            "order": null,
            "_view_module_version": "1.2.0",
            "grid_template_areas": null,
            "object_position": null,
            "object_fit": null,
            "grid_auto_columns": null,
            "margin": null,
            "display": null,
            "left": null
          }
        },
        "9f30d1603a7e4b2582ed662c2da17f56": {
          "model_module": "@jupyter-widgets/controls",
          "model_name": "ProgressStyleModel",
          "model_module_version": "1.5.0",
          "state": {
            "_view_name": "StyleView",
            "_model_name": "ProgressStyleModel",
            "description_width": "",
            "_view_module": "@jupyter-widgets/base",
            "_model_module_version": "1.5.0",
            "_view_count": null,
            "_view_module_version": "1.2.0",
            "bar_color": null,
            "_model_module": "@jupyter-widgets/controls"
          }
        },
        "b38c19d162784d68b5a20073bcd2ad4c": {
          "model_module": "@jupyter-widgets/base",
          "model_name": "LayoutModel",
          "model_module_version": "1.2.0",
          "state": {
            "_view_name": "LayoutView",
            "grid_template_rows": null,
            "right": null,
            "justify_content": null,
            "_view_module": "@jupyter-widgets/base",
            "overflow": null,
            "_model_module_version": "1.2.0",
            "_view_count": null,
            "flex_flow": null,
            "width": null,
            "min_width": null,
            "border": null,
            "align_items": null,
            "bottom": null,
            "_model_module": "@jupyter-widgets/base",
            "top": null,
            "grid_column": null,
            "overflow_y": null,
            "overflow_x": null,
            "grid_auto_flow": null,
            "grid_area": null,
            "grid_template_columns": null,
            "flex": "2",
            "_model_name": "LayoutModel",
            "justify_items": null,
            "grid_row": null,
            "max_height": null,
            "align_content": null,
            "visibility": null,
            "align_self": null,
            "height": null,
            "min_height": null,
            "padding": null,
            "grid_auto_rows": null,
            "grid_gap": null,
            "max_width": null,
            "order": null,
            "_view_module_version": "1.2.0",
            "grid_template_areas": null,
            "object_position": null,
            "object_fit": null,
            "grid_auto_columns": null,
            "margin": null,
            "display": null,
            "left": null
          }
        },
        "7a13242f2c9340c39c140232d8c5a315": {
          "model_module": "@jupyter-widgets/controls",
          "model_name": "DescriptionStyleModel",
          "model_module_version": "1.5.0",
          "state": {
            "_view_name": "StyleView",
            "_model_name": "DescriptionStyleModel",
            "description_width": "",
            "_view_module": "@jupyter-widgets/base",
            "_model_module_version": "1.5.0",
            "_view_count": null,
            "_view_module_version": "1.2.0",
            "_model_module": "@jupyter-widgets/controls"
          }
        },
        "75e837b84bde4777bfb46cce6913b923": {
          "model_module": "@jupyter-widgets/base",
          "model_name": "LayoutModel",
          "model_module_version": "1.2.0",
          "state": {
            "_view_name": "LayoutView",
            "grid_template_rows": null,
            "right": null,
            "justify_content": null,
            "_view_module": "@jupyter-widgets/base",
            "overflow": null,
            "_model_module_version": "1.2.0",
            "_view_count": null,
            "flex_flow": null,
            "width": null,
            "min_width": null,
            "border": null,
            "align_items": null,
            "bottom": null,
            "_model_module": "@jupyter-widgets/base",
            "top": null,
            "grid_column": null,
            "overflow_y": null,
            "overflow_x": null,
            "grid_auto_flow": null,
            "grid_area": null,
            "grid_template_columns": null,
            "flex": null,
            "_model_name": "LayoutModel",
            "justify_items": null,
            "grid_row": null,
            "max_height": null,
            "align_content": null,
            "visibility": null,
            "align_self": null,
            "height": null,
            "min_height": null,
            "padding": null,
            "grid_auto_rows": null,
            "grid_gap": null,
            "max_width": null,
            "order": null,
            "_view_module_version": "1.2.0",
            "grid_template_areas": null,
            "object_position": null,
            "object_fit": null,
            "grid_auto_columns": null,
            "margin": null,
            "display": null,
            "left": null
          }
        },
        "521878ce0d5045b692f92734940e5c39": {
          "model_module": "@jupyter-widgets/controls",
          "model_name": "HBoxModel",
          "model_module_version": "1.5.0",
          "state": {
            "_view_name": "HBoxView",
            "_dom_classes": [],
            "_model_name": "HBoxModel",
            "_view_module": "@jupyter-widgets/controls",
            "_model_module_version": "1.5.0",
            "_view_count": null,
            "_view_module_version": "1.5.0",
            "box_style": "",
            "layout": "IPY_MODEL_8d347406c3634f60951d27b72c2cf6f4",
            "_model_module": "@jupyter-widgets/controls",
            "children": [
              "IPY_MODEL_ed2b2c17adc042b7a6b71e27a7b82645",
              "IPY_MODEL_3a3e9936bcb748a19c611ca52b1f3c7b",
              "IPY_MODEL_cc68f30528794426b1ba116444647934"
            ]
          }
        },
        "8d347406c3634f60951d27b72c2cf6f4": {
          "model_module": "@jupyter-widgets/base",
          "model_name": "LayoutModel",
          "model_module_version": "1.2.0",
          "state": {
            "_view_name": "LayoutView",
            "grid_template_rows": null,
            "right": null,
            "justify_content": null,
            "_view_module": "@jupyter-widgets/base",
            "overflow": null,
            "_model_module_version": "1.2.0",
            "_view_count": null,
            "flex_flow": "row wrap",
            "width": "100%",
            "min_width": null,
            "border": null,
            "align_items": null,
            "bottom": null,
            "_model_module": "@jupyter-widgets/base",
            "top": null,
            "grid_column": null,
            "overflow_y": null,
            "overflow_x": null,
            "grid_auto_flow": null,
            "grid_area": null,
            "grid_template_columns": null,
            "flex": null,
            "_model_name": "LayoutModel",
            "justify_items": null,
            "grid_row": null,
            "max_height": null,
            "align_content": null,
            "visibility": null,
            "align_self": null,
            "height": null,
            "min_height": null,
            "padding": null,
            "grid_auto_rows": null,
            "grid_gap": null,
            "max_width": null,
            "order": null,
            "_view_module_version": "1.2.0",
            "grid_template_areas": null,
            "object_position": null,
            "object_fit": null,
            "grid_auto_columns": null,
            "margin": null,
            "display": "inline-flex",
            "left": null
          }
        },
        "ed2b2c17adc042b7a6b71e27a7b82645": {
          "model_module": "@jupyter-widgets/controls",
          "model_name": "HTMLModel",
          "model_module_version": "1.5.0",
          "state": {
            "_view_name": "HTMLView",
            "style": "IPY_MODEL_bf95c570c6ee4d6a9fe9621363d43077",
            "_dom_classes": [],
            "description": "",
            "_model_name": "HTMLModel",
            "placeholder": "​",
            "_view_module": "@jupyter-widgets/controls",
            "_model_module_version": "1.5.0",
            "value": "100%",
            "_view_count": null,
            "_view_module_version": "1.5.0",
            "description_tooltip": null,
            "_model_module": "@jupyter-widgets/controls",
            "layout": "IPY_MODEL_8d5667dd533f401d92c0ecd5ebf3082e"
          }
        },
        "3a3e9936bcb748a19c611ca52b1f3c7b": {
          "model_module": "@jupyter-widgets/controls",
          "model_name": "FloatProgressModel",
          "model_module_version": "1.5.0",
          "state": {
            "_view_name": "ProgressView",
            "style": "IPY_MODEL_86f74dccfc794c95a54b915187f4af08",
            "_dom_classes": [],
            "description": "",
            "_model_name": "FloatProgressModel",
            "bar_style": "",
            "max": 44,
            "_view_module": "@jupyter-widgets/controls",
            "_model_module_version": "1.5.0",
            "value": 44,
            "_view_count": null,
            "_view_module_version": "1.5.0",
            "orientation": "horizontal",
            "min": 0,
            "description_tooltip": null,
            "_model_module": "@jupyter-widgets/controls",
            "layout": "IPY_MODEL_f480539134ad4533925fae0390f81eae"
          }
        },
        "cc68f30528794426b1ba116444647934": {
          "model_module": "@jupyter-widgets/controls",
          "model_name": "HTMLModel",
          "model_module_version": "1.5.0",
          "state": {
            "_view_name": "HTMLView",
            "style": "IPY_MODEL_474effe0b824424a9e28b8736f16106b",
            "_dom_classes": [],
            "description": "",
            "_model_name": "HTMLModel",
            "placeholder": "​",
            "_view_module": "@jupyter-widgets/controls",
            "_model_module_version": "1.5.0",
            "value": " 44/44 [00:08&lt;00:00,  4.93it/s]",
            "_view_count": null,
            "_view_module_version": "1.5.0",
            "description_tooltip": null,
            "_model_module": "@jupyter-widgets/controls",
            "layout": "IPY_MODEL_7f4a8828221c43d68e9670cb9c6c7bee"
          }
        },
        "bf95c570c6ee4d6a9fe9621363d43077": {
          "model_module": "@jupyter-widgets/controls",
          "model_name": "DescriptionStyleModel",
          "model_module_version": "1.5.0",
          "state": {
            "_view_name": "StyleView",
            "_model_name": "DescriptionStyleModel",
            "description_width": "",
            "_view_module": "@jupyter-widgets/base",
            "_model_module_version": "1.5.0",
            "_view_count": null,
            "_view_module_version": "1.2.0",
            "_model_module": "@jupyter-widgets/controls"
          }
        },
        "8d5667dd533f401d92c0ecd5ebf3082e": {
          "model_module": "@jupyter-widgets/base",
          "model_name": "LayoutModel",
          "model_module_version": "1.2.0",
          "state": {
            "_view_name": "LayoutView",
            "grid_template_rows": null,
            "right": null,
            "justify_content": null,
            "_view_module": "@jupyter-widgets/base",
            "overflow": null,
            "_model_module_version": "1.2.0",
            "_view_count": null,
            "flex_flow": null,
            "width": null,
            "min_width": null,
            "border": null,
            "align_items": null,
            "bottom": null,
            "_model_module": "@jupyter-widgets/base",
            "top": null,
            "grid_column": null,
            "overflow_y": null,
            "overflow_x": null,
            "grid_auto_flow": null,
            "grid_area": null,
            "grid_template_columns": null,
            "flex": null,
            "_model_name": "LayoutModel",
            "justify_items": null,
            "grid_row": null,
            "max_height": null,
            "align_content": null,
            "visibility": null,
            "align_self": null,
            "height": null,
            "min_height": null,
            "padding": null,
            "grid_auto_rows": null,
            "grid_gap": null,
            "max_width": null,
            "order": null,
            "_view_module_version": "1.2.0",
            "grid_template_areas": null,
            "object_position": null,
            "object_fit": null,
            "grid_auto_columns": null,
            "margin": null,
            "display": null,
            "left": null
          }
        },
        "86f74dccfc794c95a54b915187f4af08": {
          "model_module": "@jupyter-widgets/controls",
          "model_name": "ProgressStyleModel",
          "model_module_version": "1.5.0",
          "state": {
            "_view_name": "StyleView",
            "_model_name": "ProgressStyleModel",
            "description_width": "",
            "_view_module": "@jupyter-widgets/base",
            "_model_module_version": "1.5.0",
            "_view_count": null,
            "_view_module_version": "1.2.0",
            "bar_color": null,
            "_model_module": "@jupyter-widgets/controls"
          }
        },
        "f480539134ad4533925fae0390f81eae": {
          "model_module": "@jupyter-widgets/base",
          "model_name": "LayoutModel",
          "model_module_version": "1.2.0",
          "state": {
            "_view_name": "LayoutView",
            "grid_template_rows": null,
            "right": null,
            "justify_content": null,
            "_view_module": "@jupyter-widgets/base",
            "overflow": null,
            "_model_module_version": "1.2.0",
            "_view_count": null,
            "flex_flow": null,
            "width": null,
            "min_width": null,
            "border": null,
            "align_items": null,
            "bottom": null,
            "_model_module": "@jupyter-widgets/base",
            "top": null,
            "grid_column": null,
            "overflow_y": null,
            "overflow_x": null,
            "grid_auto_flow": null,
            "grid_area": null,
            "grid_template_columns": null,
            "flex": "2",
            "_model_name": "LayoutModel",
            "justify_items": null,
            "grid_row": null,
            "max_height": null,
            "align_content": null,
            "visibility": null,
            "align_self": null,
            "height": null,
            "min_height": null,
            "padding": null,
            "grid_auto_rows": null,
            "grid_gap": null,
            "max_width": null,
            "order": null,
            "_view_module_version": "1.2.0",
            "grid_template_areas": null,
            "object_position": null,
            "object_fit": null,
            "grid_auto_columns": null,
            "margin": null,
            "display": null,
            "left": null
          }
        },
        "474effe0b824424a9e28b8736f16106b": {
          "model_module": "@jupyter-widgets/controls",
          "model_name": "DescriptionStyleModel",
          "model_module_version": "1.5.0",
          "state": {
            "_view_name": "StyleView",
            "_model_name": "DescriptionStyleModel",
            "description_width": "",
            "_view_module": "@jupyter-widgets/base",
            "_model_module_version": "1.5.0",
            "_view_count": null,
            "_view_module_version": "1.2.0",
            "_model_module": "@jupyter-widgets/controls"
          }
        },
        "7f4a8828221c43d68e9670cb9c6c7bee": {
          "model_module": "@jupyter-widgets/base",
          "model_name": "LayoutModel",
          "model_module_version": "1.2.0",
          "state": {
            "_view_name": "LayoutView",
            "grid_template_rows": null,
            "right": null,
            "justify_content": null,
            "_view_module": "@jupyter-widgets/base",
            "overflow": null,
            "_model_module_version": "1.2.0",
            "_view_count": null,
            "flex_flow": null,
            "width": null,
            "min_width": null,
            "border": null,
            "align_items": null,
            "bottom": null,
            "_model_module": "@jupyter-widgets/base",
            "top": null,
            "grid_column": null,
            "overflow_y": null,
            "overflow_x": null,
            "grid_auto_flow": null,
            "grid_area": null,
            "grid_template_columns": null,
            "flex": null,
            "_model_name": "LayoutModel",
            "justify_items": null,
            "grid_row": null,
            "max_height": null,
            "align_content": null,
            "visibility": null,
            "align_self": null,
            "height": null,
            "min_height": null,
            "padding": null,
            "grid_auto_rows": null,
            "grid_gap": null,
            "max_width": null,
            "order": null,
            "_view_module_version": "1.2.0",
            "grid_template_areas": null,
            "object_position": null,
            "object_fit": null,
            "grid_auto_columns": null,
            "margin": null,
            "display": null,
            "left": null
          }
        },
        "9e10e96dffe348088b9081b7a99b21fc": {
          "model_module": "@jupyter-widgets/controls",
          "model_name": "HBoxModel",
          "model_module_version": "1.5.0",
          "state": {
            "_view_name": "HBoxView",
            "_dom_classes": [],
            "_model_name": "HBoxModel",
            "_view_module": "@jupyter-widgets/controls",
            "_model_module_version": "1.5.0",
            "_view_count": null,
            "_view_module_version": "1.5.0",
            "box_style": "",
            "layout": "IPY_MODEL_78ecc8747ea7478480d9661698a26190",
            "_model_module": "@jupyter-widgets/controls",
            "children": [
              "IPY_MODEL_95ef07b4809d43bdad67b1aa7074e925",
              "IPY_MODEL_bceb5878680d48dc9a8cad2209254953",
              "IPY_MODEL_131cc0ac14824c5cbc5444f98bd24e20"
            ]
          }
        },
        "78ecc8747ea7478480d9661698a26190": {
          "model_module": "@jupyter-widgets/base",
          "model_name": "LayoutModel",
          "model_module_version": "1.2.0",
          "state": {
            "_view_name": "LayoutView",
            "grid_template_rows": null,
            "right": null,
            "justify_content": null,
            "_view_module": "@jupyter-widgets/base",
            "overflow": null,
            "_model_module_version": "1.2.0",
            "_view_count": null,
            "flex_flow": "row wrap",
            "width": "100%",
            "min_width": null,
            "border": null,
            "align_items": null,
            "bottom": null,
            "_model_module": "@jupyter-widgets/base",
            "top": null,
            "grid_column": null,
            "overflow_y": null,
            "overflow_x": null,
            "grid_auto_flow": null,
            "grid_area": null,
            "grid_template_columns": null,
            "flex": null,
            "_model_name": "LayoutModel",
            "justify_items": null,
            "grid_row": null,
            "max_height": null,
            "align_content": null,
            "visibility": null,
            "align_self": null,
            "height": null,
            "min_height": null,
            "padding": null,
            "grid_auto_rows": null,
            "grid_gap": null,
            "max_width": null,
            "order": null,
            "_view_module_version": "1.2.0",
            "grid_template_areas": null,
            "object_position": null,
            "object_fit": null,
            "grid_auto_columns": null,
            "margin": null,
            "display": "inline-flex",
            "left": null
          }
        },
        "95ef07b4809d43bdad67b1aa7074e925": {
          "model_module": "@jupyter-widgets/controls",
          "model_name": "HTMLModel",
          "model_module_version": "1.5.0",
          "state": {
            "_view_name": "HTMLView",
            "style": "IPY_MODEL_b51b36990843441291c77cc06e9efe9f",
            "_dom_classes": [],
            "description": "",
            "_model_name": "HTMLModel",
            "placeholder": "​",
            "_view_module": "@jupyter-widgets/controls",
            "_model_module_version": "1.5.0",
            "value": "100%",
            "_view_count": null,
            "_view_module_version": "1.5.0",
            "description_tooltip": null,
            "_model_module": "@jupyter-widgets/controls",
            "layout": "IPY_MODEL_a586ddab76f842f3a19e232a0a1c22b9"
          }
        },
        "bceb5878680d48dc9a8cad2209254953": {
          "model_module": "@jupyter-widgets/controls",
          "model_name": "FloatProgressModel",
          "model_module_version": "1.5.0",
          "state": {
            "_view_name": "ProgressView",
            "style": "IPY_MODEL_b93fdd9426b746c0bbf27c8a695e9277",
            "_dom_classes": [],
            "description": "",
            "_model_name": "FloatProgressModel",
            "bar_style": "",
            "max": 42,
            "_view_module": "@jupyter-widgets/controls",
            "_model_module_version": "1.5.0",
            "value": 42,
            "_view_count": null,
            "_view_module_version": "1.5.0",
            "orientation": "horizontal",
            "min": 0,
            "description_tooltip": null,
            "_model_module": "@jupyter-widgets/controls",
            "layout": "IPY_MODEL_14a7fa220a5c443babf5a2fd2b4239fa"
          }
        },
        "131cc0ac14824c5cbc5444f98bd24e20": {
          "model_module": "@jupyter-widgets/controls",
          "model_name": "HTMLModel",
          "model_module_version": "1.5.0",
          "state": {
            "_view_name": "HTMLView",
            "style": "IPY_MODEL_bfd3afaf5bc245288cedb4d99c34dfcb",
            "_dom_classes": [],
            "description": "",
            "_model_name": "HTMLModel",
            "placeholder": "​",
            "_view_module": "@jupyter-widgets/controls",
            "_model_module_version": "1.5.0",
            "value": " 42/42 [00:07&lt;00:00,  5.56it/s]",
            "_view_count": null,
            "_view_module_version": "1.5.0",
            "description_tooltip": null,
            "_model_module": "@jupyter-widgets/controls",
            "layout": "IPY_MODEL_784898efafaf489685205d3f362d50ab"
          }
        },
        "b51b36990843441291c77cc06e9efe9f": {
          "model_module": "@jupyter-widgets/controls",
          "model_name": "DescriptionStyleModel",
          "model_module_version": "1.5.0",
          "state": {
            "_view_name": "StyleView",
            "_model_name": "DescriptionStyleModel",
            "description_width": "",
            "_view_module": "@jupyter-widgets/base",
            "_model_module_version": "1.5.0",
            "_view_count": null,
            "_view_module_version": "1.2.0",
            "_model_module": "@jupyter-widgets/controls"
          }
        },
        "a586ddab76f842f3a19e232a0a1c22b9": {
          "model_module": "@jupyter-widgets/base",
          "model_name": "LayoutModel",
          "model_module_version": "1.2.0",
          "state": {
            "_view_name": "LayoutView",
            "grid_template_rows": null,
            "right": null,
            "justify_content": null,
            "_view_module": "@jupyter-widgets/base",
            "overflow": null,
            "_model_module_version": "1.2.0",
            "_view_count": null,
            "flex_flow": null,
            "width": null,
            "min_width": null,
            "border": null,
            "align_items": null,
            "bottom": null,
            "_model_module": "@jupyter-widgets/base",
            "top": null,
            "grid_column": null,
            "overflow_y": null,
            "overflow_x": null,
            "grid_auto_flow": null,
            "grid_area": null,
            "grid_template_columns": null,
            "flex": null,
            "_model_name": "LayoutModel",
            "justify_items": null,
            "grid_row": null,
            "max_height": null,
            "align_content": null,
            "visibility": null,
            "align_self": null,
            "height": null,
            "min_height": null,
            "padding": null,
            "grid_auto_rows": null,
            "grid_gap": null,
            "max_width": null,
            "order": null,
            "_view_module_version": "1.2.0",
            "grid_template_areas": null,
            "object_position": null,
            "object_fit": null,
            "grid_auto_columns": null,
            "margin": null,
            "display": null,
            "left": null
          }
        },
        "b93fdd9426b746c0bbf27c8a695e9277": {
          "model_module": "@jupyter-widgets/controls",
          "model_name": "ProgressStyleModel",
          "model_module_version": "1.5.0",
          "state": {
            "_view_name": "StyleView",
            "_model_name": "ProgressStyleModel",
            "description_width": "",
            "_view_module": "@jupyter-widgets/base",
            "_model_module_version": "1.5.0",
            "_view_count": null,
            "_view_module_version": "1.2.0",
            "bar_color": null,
            "_model_module": "@jupyter-widgets/controls"
          }
        },
        "14a7fa220a5c443babf5a2fd2b4239fa": {
          "model_module": "@jupyter-widgets/base",
          "model_name": "LayoutModel",
          "model_module_version": "1.2.0",
          "state": {
            "_view_name": "LayoutView",
            "grid_template_rows": null,
            "right": null,
            "justify_content": null,
            "_view_module": "@jupyter-widgets/base",
            "overflow": null,
            "_model_module_version": "1.2.0",
            "_view_count": null,
            "flex_flow": null,
            "width": null,
            "min_width": null,
            "border": null,
            "align_items": null,
            "bottom": null,
            "_model_module": "@jupyter-widgets/base",
            "top": null,
            "grid_column": null,
            "overflow_y": null,
            "overflow_x": null,
            "grid_auto_flow": null,
            "grid_area": null,
            "grid_template_columns": null,
            "flex": "2",
            "_model_name": "LayoutModel",
            "justify_items": null,
            "grid_row": null,
            "max_height": null,
            "align_content": null,
            "visibility": null,
            "align_self": null,
            "height": null,
            "min_height": null,
            "padding": null,
            "grid_auto_rows": null,
            "grid_gap": null,
            "max_width": null,
            "order": null,
            "_view_module_version": "1.2.0",
            "grid_template_areas": null,
            "object_position": null,
            "object_fit": null,
            "grid_auto_columns": null,
            "margin": null,
            "display": null,
            "left": null
          }
        },
        "bfd3afaf5bc245288cedb4d99c34dfcb": {
          "model_module": "@jupyter-widgets/controls",
          "model_name": "DescriptionStyleModel",
          "model_module_version": "1.5.0",
          "state": {
            "_view_name": "StyleView",
            "_model_name": "DescriptionStyleModel",
            "description_width": "",
            "_view_module": "@jupyter-widgets/base",
            "_model_module_version": "1.5.0",
            "_view_count": null,
            "_view_module_version": "1.2.0",
            "_model_module": "@jupyter-widgets/controls"
          }
        },
        "784898efafaf489685205d3f362d50ab": {
          "model_module": "@jupyter-widgets/base",
          "model_name": "LayoutModel",
          "model_module_version": "1.2.0",
          "state": {
            "_view_name": "LayoutView",
            "grid_template_rows": null,
            "right": null,
            "justify_content": null,
            "_view_module": "@jupyter-widgets/base",
            "overflow": null,
            "_model_module_version": "1.2.0",
            "_view_count": null,
            "flex_flow": null,
            "width": null,
            "min_width": null,
            "border": null,
            "align_items": null,
            "bottom": null,
            "_model_module": "@jupyter-widgets/base",
            "top": null,
            "grid_column": null,
            "overflow_y": null,
            "overflow_x": null,
            "grid_auto_flow": null,
            "grid_area": null,
            "grid_template_columns": null,
            "flex": null,
            "_model_name": "LayoutModel",
            "justify_items": null,
            "grid_row": null,
            "max_height": null,
            "align_content": null,
            "visibility": null,
            "align_self": null,
            "height": null,
            "min_height": null,
            "padding": null,
            "grid_auto_rows": null,
            "grid_gap": null,
            "max_width": null,
            "order": null,
            "_view_module_version": "1.2.0",
            "grid_template_areas": null,
            "object_position": null,
            "object_fit": null,
            "grid_auto_columns": null,
            "margin": null,
            "display": null,
            "left": null
          }
        },
        "4e0620aabd184d1fbb7ac5650314f085": {
          "model_module": "@jupyter-widgets/controls",
          "model_name": "HBoxModel",
          "model_module_version": "1.5.0",
          "state": {
            "_view_name": "HBoxView",
            "_dom_classes": [],
            "_model_name": "HBoxModel",
            "_view_module": "@jupyter-widgets/controls",
            "_model_module_version": "1.5.0",
            "_view_count": null,
            "_view_module_version": "1.5.0",
            "box_style": "",
            "layout": "IPY_MODEL_ec8a718ad6b142998eec2e55ec8bd857",
            "_model_module": "@jupyter-widgets/controls",
            "children": [
              "IPY_MODEL_95f18af15bff4db392299b27f88bec5a",
              "IPY_MODEL_5629eec88d6b4b2cab1d2094ac187c04",
              "IPY_MODEL_13f1a19ab4314596b607a4229a0435e2"
            ]
          }
        },
        "ec8a718ad6b142998eec2e55ec8bd857": {
          "model_module": "@jupyter-widgets/base",
          "model_name": "LayoutModel",
          "model_module_version": "1.2.0",
          "state": {
            "_view_name": "LayoutView",
            "grid_template_rows": null,
            "right": null,
            "justify_content": null,
            "_view_module": "@jupyter-widgets/base",
            "overflow": null,
            "_model_module_version": "1.2.0",
            "_view_count": null,
            "flex_flow": "row wrap",
            "width": "100%",
            "min_width": null,
            "border": null,
            "align_items": null,
            "bottom": null,
            "_model_module": "@jupyter-widgets/base",
            "top": null,
            "grid_column": null,
            "overflow_y": null,
            "overflow_x": null,
            "grid_auto_flow": null,
            "grid_area": null,
            "grid_template_columns": null,
            "flex": null,
            "_model_name": "LayoutModel",
            "justify_items": null,
            "grid_row": null,
            "max_height": null,
            "align_content": null,
            "visibility": null,
            "align_self": null,
            "height": null,
            "min_height": null,
            "padding": null,
            "grid_auto_rows": null,
            "grid_gap": null,
            "max_width": null,
            "order": null,
            "_view_module_version": "1.2.0",
            "grid_template_areas": null,
            "object_position": null,
            "object_fit": null,
            "grid_auto_columns": null,
            "margin": null,
            "display": "inline-flex",
            "left": null
          }
        },
        "95f18af15bff4db392299b27f88bec5a": {
          "model_module": "@jupyter-widgets/controls",
          "model_name": "HTMLModel",
          "model_module_version": "1.5.0",
          "state": {
            "_view_name": "HTMLView",
            "style": "IPY_MODEL_ecdccd04d52e4d3c9ccdd1268970ed80",
            "_dom_classes": [],
            "description": "",
            "_model_name": "HTMLModel",
            "placeholder": "​",
            "_view_module": "@jupyter-widgets/controls",
            "_model_module_version": "1.5.0",
            "value": "Running Pearson test:  90%",
            "_view_count": null,
            "_view_module_version": "1.5.0",
            "description_tooltip": null,
            "_model_module": "@jupyter-widgets/controls",
            "layout": "IPY_MODEL_dfb3d1f9e21148c997b0f5ee062cf229"
          }
        },
        "5629eec88d6b4b2cab1d2094ac187c04": {
          "model_module": "@jupyter-widgets/controls",
          "model_name": "FloatProgressModel",
          "model_module_version": "1.5.0",
          "state": {
            "_view_name": "ProgressView",
            "style": "IPY_MODEL_bd26e96ba9a54ad0817efc6235df4dd1",
            "_dom_classes": [],
            "description": "",
            "_model_name": "FloatProgressModel",
            "bar_style": "",
            "max": 48,
            "_view_module": "@jupyter-widgets/controls",
            "_model_module_version": "1.5.0",
            "value": 48,
            "_view_count": null,
            "_view_module_version": "1.5.0",
            "orientation": "horizontal",
            "min": 0,
            "description_tooltip": null,
            "_model_module": "@jupyter-widgets/controls",
            "layout": "IPY_MODEL_7dedd22257c449369a7b3ef9019e36c5"
          }
        },
        "13f1a19ab4314596b607a4229a0435e2": {
          "model_module": "@jupyter-widgets/controls",
          "model_name": "HTMLModel",
          "model_module_version": "1.5.0",
          "state": {
            "_view_name": "HTMLView",
            "style": "IPY_MODEL_b7b2e0917f4a4e579a371f9ed34e2673",
            "_dom_classes": [],
            "description": "",
            "_model_name": "HTMLModel",
            "placeholder": "​",
            "_view_module": "@jupyter-widgets/controls",
            "_model_module_version": "1.5.0",
            "value": " 43/48 [00:00&lt;00:00, 219.41it/s]",
            "_view_count": null,
            "_view_module_version": "1.5.0",
            "description_tooltip": null,
            "_model_module": "@jupyter-widgets/controls",
            "layout": "IPY_MODEL_e5d43dda2ced4469a06e2c4c75068c0f"
          }
        },
        "ecdccd04d52e4d3c9ccdd1268970ed80": {
          "model_module": "@jupyter-widgets/controls",
          "model_name": "DescriptionStyleModel",
          "model_module_version": "1.5.0",
          "state": {
            "_view_name": "StyleView",
            "_model_name": "DescriptionStyleModel",
            "description_width": "",
            "_view_module": "@jupyter-widgets/base",
            "_model_module_version": "1.5.0",
            "_view_count": null,
            "_view_module_version": "1.2.0",
            "_model_module": "@jupyter-widgets/controls"
          }
        },
        "dfb3d1f9e21148c997b0f5ee062cf229": {
          "model_module": "@jupyter-widgets/base",
          "model_name": "LayoutModel",
          "model_module_version": "1.2.0",
          "state": {
            "_view_name": "LayoutView",
            "grid_template_rows": null,
            "right": null,
            "justify_content": null,
            "_view_module": "@jupyter-widgets/base",
            "overflow": null,
            "_model_module_version": "1.2.0",
            "_view_count": null,
            "flex_flow": null,
            "width": null,
            "min_width": null,
            "border": null,
            "align_items": null,
            "bottom": null,
            "_model_module": "@jupyter-widgets/base",
            "top": null,
            "grid_column": null,
            "overflow_y": null,
            "overflow_x": null,
            "grid_auto_flow": null,
            "grid_area": null,
            "grid_template_columns": null,
            "flex": null,
            "_model_name": "LayoutModel",
            "justify_items": null,
            "grid_row": null,
            "max_height": null,
            "align_content": null,
            "visibility": null,
            "align_self": null,
            "height": null,
            "min_height": null,
            "padding": null,
            "grid_auto_rows": null,
            "grid_gap": null,
            "max_width": null,
            "order": null,
            "_view_module_version": "1.2.0",
            "grid_template_areas": null,
            "object_position": null,
            "object_fit": null,
            "grid_auto_columns": null,
            "margin": null,
            "display": null,
            "left": null
          }
        },
        "bd26e96ba9a54ad0817efc6235df4dd1": {
          "model_module": "@jupyter-widgets/controls",
          "model_name": "ProgressStyleModel",
          "model_module_version": "1.5.0",
          "state": {
            "_view_name": "StyleView",
            "_model_name": "ProgressStyleModel",
            "description_width": "",
            "_view_module": "@jupyter-widgets/base",
            "_model_module_version": "1.5.0",
            "_view_count": null,
            "_view_module_version": "1.2.0",
            "bar_color": null,
            "_model_module": "@jupyter-widgets/controls"
          }
        },
        "7dedd22257c449369a7b3ef9019e36c5": {
          "model_module": "@jupyter-widgets/base",
          "model_name": "LayoutModel",
          "model_module_version": "1.2.0",
          "state": {
            "_view_name": "LayoutView",
            "grid_template_rows": null,
            "right": null,
            "justify_content": null,
            "_view_module": "@jupyter-widgets/base",
            "overflow": null,
            "_model_module_version": "1.2.0",
            "_view_count": null,
            "flex_flow": null,
            "width": null,
            "min_width": null,
            "border": null,
            "align_items": null,
            "bottom": null,
            "_model_module": "@jupyter-widgets/base",
            "top": null,
            "grid_column": null,
            "overflow_y": null,
            "overflow_x": null,
            "grid_auto_flow": null,
            "grid_area": null,
            "grid_template_columns": null,
            "flex": "2",
            "_model_name": "LayoutModel",
            "justify_items": null,
            "grid_row": null,
            "max_height": null,
            "align_content": null,
            "visibility": null,
            "align_self": null,
            "height": null,
            "min_height": null,
            "padding": null,
            "grid_auto_rows": null,
            "grid_gap": null,
            "max_width": null,
            "order": null,
            "_view_module_version": "1.2.0",
            "grid_template_areas": null,
            "object_position": null,
            "object_fit": null,
            "grid_auto_columns": null,
            "margin": null,
            "display": null,
            "left": null
          }
        },
        "b7b2e0917f4a4e579a371f9ed34e2673": {
          "model_module": "@jupyter-widgets/controls",
          "model_name": "DescriptionStyleModel",
          "model_module_version": "1.5.0",
          "state": {
            "_view_name": "StyleView",
            "_model_name": "DescriptionStyleModel",
            "description_width": "",
            "_view_module": "@jupyter-widgets/base",
            "_model_module_version": "1.5.0",
            "_view_count": null,
            "_view_module_version": "1.2.0",
            "_model_module": "@jupyter-widgets/controls"
          }
        },
        "e5d43dda2ced4469a06e2c4c75068c0f": {
          "model_module": "@jupyter-widgets/base",
          "model_name": "LayoutModel",
          "model_module_version": "1.2.0",
          "state": {
            "_view_name": "LayoutView",
            "grid_template_rows": null,
            "right": null,
            "justify_content": null,
            "_view_module": "@jupyter-widgets/base",
            "overflow": null,
            "_model_module_version": "1.2.0",
            "_view_count": null,
            "flex_flow": null,
            "width": null,
            "min_width": null,
            "border": null,
            "align_items": null,
            "bottom": null,
            "_model_module": "@jupyter-widgets/base",
            "top": null,
            "grid_column": null,
            "overflow_y": null,
            "overflow_x": null,
            "grid_auto_flow": null,
            "grid_area": null,
            "grid_template_columns": null,
            "flex": null,
            "_model_name": "LayoutModel",
            "justify_items": null,
            "grid_row": null,
            "max_height": null,
            "align_content": null,
            "visibility": null,
            "align_self": null,
            "height": null,
            "min_height": null,
            "padding": null,
            "grid_auto_rows": null,
            "grid_gap": null,
            "max_width": null,
            "order": null,
            "_view_module_version": "1.2.0",
            "grid_template_areas": null,
            "object_position": null,
            "object_fit": null,
            "grid_auto_columns": null,
            "margin": null,
            "display": null,
            "left": null
          }
        },
        "e6fccf70832f4d41b49c5d0a688a25de": {
          "model_module": "@jupyter-widgets/controls",
          "model_name": "HBoxModel",
          "model_module_version": "1.5.0",
          "state": {
            "_view_name": "HBoxView",
            "_dom_classes": [],
            "_model_name": "HBoxModel",
            "_view_module": "@jupyter-widgets/controls",
            "_model_module_version": "1.5.0",
            "_view_count": null,
            "_view_module_version": "1.5.0",
            "box_style": "",
            "layout": "IPY_MODEL_789ceed418b3460c9ddec822d3f483e5",
            "_model_module": "@jupyter-widgets/controls",
            "children": [
              "IPY_MODEL_8ce150633fda4746bbff4bdf884f7f18",
              "IPY_MODEL_0f7bff4b09dc4ec4878c0e93b3341cf2",
              "IPY_MODEL_810b637b79754200a71f4a416824c636"
            ]
          }
        },
        "789ceed418b3460c9ddec822d3f483e5": {
          "model_module": "@jupyter-widgets/base",
          "model_name": "LayoutModel",
          "model_module_version": "1.2.0",
          "state": {
            "_view_name": "LayoutView",
            "grid_template_rows": null,
            "right": null,
            "justify_content": null,
            "_view_module": "@jupyter-widgets/base",
            "overflow": null,
            "_model_module_version": "1.2.0",
            "_view_count": null,
            "flex_flow": "row wrap",
            "width": "100%",
            "min_width": null,
            "border": null,
            "align_items": null,
            "bottom": null,
            "_model_module": "@jupyter-widgets/base",
            "top": null,
            "grid_column": null,
            "overflow_y": null,
            "overflow_x": null,
            "grid_auto_flow": null,
            "grid_area": null,
            "grid_template_columns": null,
            "flex": null,
            "_model_name": "LayoutModel",
            "justify_items": null,
            "grid_row": null,
            "max_height": null,
            "align_content": null,
            "visibility": null,
            "align_self": null,
            "height": null,
            "min_height": null,
            "padding": null,
            "grid_auto_rows": null,
            "grid_gap": null,
            "max_width": null,
            "order": null,
            "_view_module_version": "1.2.0",
            "grid_template_areas": null,
            "object_position": null,
            "object_fit": null,
            "grid_auto_columns": null,
            "margin": null,
            "display": "inline-flex",
            "left": null
          }
        },
        "8ce150633fda4746bbff4bdf884f7f18": {
          "model_module": "@jupyter-widgets/controls",
          "model_name": "HTMLModel",
          "model_module_version": "1.5.0",
          "state": {
            "_view_name": "HTMLView",
            "style": "IPY_MODEL_b9c21b3de06f435eaafba3b0aaa47c62",
            "_dom_classes": [],
            "description": "",
            "_model_name": "HTMLModel",
            "placeholder": "​",
            "_view_module": "@jupyter-widgets/controls",
            "_model_module_version": "1.5.0",
            "value": "Running Pearson test:  92%",
            "_view_count": null,
            "_view_module_version": "1.5.0",
            "description_tooltip": null,
            "_model_module": "@jupyter-widgets/controls",
            "layout": "IPY_MODEL_dd76ed44803f4bea82cb91f5690e96b9"
          }
        },
        "0f7bff4b09dc4ec4878c0e93b3341cf2": {
          "model_module": "@jupyter-widgets/controls",
          "model_name": "FloatProgressModel",
          "model_module_version": "1.5.0",
          "state": {
            "_view_name": "ProgressView",
            "style": "IPY_MODEL_3e3b6c8c076540b4a08b1235d56e3157",
            "_dom_classes": [],
            "description": "",
            "_model_name": "FloatProgressModel",
            "bar_style": "",
            "max": 48,
            "_view_module": "@jupyter-widgets/controls",
            "_model_module_version": "1.5.0",
            "value": 48,
            "_view_count": null,
            "_view_module_version": "1.5.0",
            "orientation": "horizontal",
            "min": 0,
            "description_tooltip": null,
            "_model_module": "@jupyter-widgets/controls",
            "layout": "IPY_MODEL_8d8c4946214046639aa4fdd56ad0a346"
          }
        },
        "810b637b79754200a71f4a416824c636": {
          "model_module": "@jupyter-widgets/controls",
          "model_name": "HTMLModel",
          "model_module_version": "1.5.0",
          "state": {
            "_view_name": "HTMLView",
            "style": "IPY_MODEL_29ac5cc4f42c4f5183a758266c4f56ca",
            "_dom_classes": [],
            "description": "",
            "_model_name": "HTMLModel",
            "placeholder": "​",
            "_view_module": "@jupyter-widgets/controls",
            "_model_module_version": "1.5.0",
            "value": " 44/48 [00:00&lt;00:00, 248.57it/s]",
            "_view_count": null,
            "_view_module_version": "1.5.0",
            "description_tooltip": null,
            "_model_module": "@jupyter-widgets/controls",
            "layout": "IPY_MODEL_23b7f389dd784c46ada31af434d7fb33"
          }
        },
        "b9c21b3de06f435eaafba3b0aaa47c62": {
          "model_module": "@jupyter-widgets/controls",
          "model_name": "DescriptionStyleModel",
          "model_module_version": "1.5.0",
          "state": {
            "_view_name": "StyleView",
            "_model_name": "DescriptionStyleModel",
            "description_width": "",
            "_view_module": "@jupyter-widgets/base",
            "_model_module_version": "1.5.0",
            "_view_count": null,
            "_view_module_version": "1.2.0",
            "_model_module": "@jupyter-widgets/controls"
          }
        },
        "dd76ed44803f4bea82cb91f5690e96b9": {
          "model_module": "@jupyter-widgets/base",
          "model_name": "LayoutModel",
          "model_module_version": "1.2.0",
          "state": {
            "_view_name": "LayoutView",
            "grid_template_rows": null,
            "right": null,
            "justify_content": null,
            "_view_module": "@jupyter-widgets/base",
            "overflow": null,
            "_model_module_version": "1.2.0",
            "_view_count": null,
            "flex_flow": null,
            "width": null,
            "min_width": null,
            "border": null,
            "align_items": null,
            "bottom": null,
            "_model_module": "@jupyter-widgets/base",
            "top": null,
            "grid_column": null,
            "overflow_y": null,
            "overflow_x": null,
            "grid_auto_flow": null,
            "grid_area": null,
            "grid_template_columns": null,
            "flex": null,
            "_model_name": "LayoutModel",
            "justify_items": null,
            "grid_row": null,
            "max_height": null,
            "align_content": null,
            "visibility": null,
            "align_self": null,
            "height": null,
            "min_height": null,
            "padding": null,
            "grid_auto_rows": null,
            "grid_gap": null,
            "max_width": null,
            "order": null,
            "_view_module_version": "1.2.0",
            "grid_template_areas": null,
            "object_position": null,
            "object_fit": null,
            "grid_auto_columns": null,
            "margin": null,
            "display": null,
            "left": null
          }
        },
        "3e3b6c8c076540b4a08b1235d56e3157": {
          "model_module": "@jupyter-widgets/controls",
          "model_name": "ProgressStyleModel",
          "model_module_version": "1.5.0",
          "state": {
            "_view_name": "StyleView",
            "_model_name": "ProgressStyleModel",
            "description_width": "",
            "_view_module": "@jupyter-widgets/base",
            "_model_module_version": "1.5.0",
            "_view_count": null,
            "_view_module_version": "1.2.0",
            "bar_color": null,
            "_model_module": "@jupyter-widgets/controls"
          }
        },
        "8d8c4946214046639aa4fdd56ad0a346": {
          "model_module": "@jupyter-widgets/base",
          "model_name": "LayoutModel",
          "model_module_version": "1.2.0",
          "state": {
            "_view_name": "LayoutView",
            "grid_template_rows": null,
            "right": null,
            "justify_content": null,
            "_view_module": "@jupyter-widgets/base",
            "overflow": null,
            "_model_module_version": "1.2.0",
            "_view_count": null,
            "flex_flow": null,
            "width": null,
            "min_width": null,
            "border": null,
            "align_items": null,
            "bottom": null,
            "_model_module": "@jupyter-widgets/base",
            "top": null,
            "grid_column": null,
            "overflow_y": null,
            "overflow_x": null,
            "grid_auto_flow": null,
            "grid_area": null,
            "grid_template_columns": null,
            "flex": "2",
            "_model_name": "LayoutModel",
            "justify_items": null,
            "grid_row": null,
            "max_height": null,
            "align_content": null,
            "visibility": null,
            "align_self": null,
            "height": null,
            "min_height": null,
            "padding": null,
            "grid_auto_rows": null,
            "grid_gap": null,
            "max_width": null,
            "order": null,
            "_view_module_version": "1.2.0",
            "grid_template_areas": null,
            "object_position": null,
            "object_fit": null,
            "grid_auto_columns": null,
            "margin": null,
            "display": null,
            "left": null
          }
        },
        "29ac5cc4f42c4f5183a758266c4f56ca": {
          "model_module": "@jupyter-widgets/controls",
          "model_name": "DescriptionStyleModel",
          "model_module_version": "1.5.0",
          "state": {
            "_view_name": "StyleView",
            "_model_name": "DescriptionStyleModel",
            "description_width": "",
            "_view_module": "@jupyter-widgets/base",
            "_model_module_version": "1.5.0",
            "_view_count": null,
            "_view_module_version": "1.2.0",
            "_model_module": "@jupyter-widgets/controls"
          }
        },
        "23b7f389dd784c46ada31af434d7fb33": {
          "model_module": "@jupyter-widgets/base",
          "model_name": "LayoutModel",
          "model_module_version": "1.2.0",
          "state": {
            "_view_name": "LayoutView",
            "grid_template_rows": null,
            "right": null,
            "justify_content": null,
            "_view_module": "@jupyter-widgets/base",
            "overflow": null,
            "_model_module_version": "1.2.0",
            "_view_count": null,
            "flex_flow": null,
            "width": null,
            "min_width": null,
            "border": null,
            "align_items": null,
            "bottom": null,
            "_model_module": "@jupyter-widgets/base",
            "top": null,
            "grid_column": null,
            "overflow_y": null,
            "overflow_x": null,
            "grid_auto_flow": null,
            "grid_area": null,
            "grid_template_columns": null,
            "flex": null,
            "_model_name": "LayoutModel",
            "justify_items": null,
            "grid_row": null,
            "max_height": null,
            "align_content": null,
            "visibility": null,
            "align_self": null,
            "height": null,
            "min_height": null,
            "padding": null,
            "grid_auto_rows": null,
            "grid_gap": null,
            "max_width": null,
            "order": null,
            "_view_module_version": "1.2.0",
            "grid_template_areas": null,
            "object_position": null,
            "object_fit": null,
            "grid_auto_columns": null,
            "margin": null,
            "display": null,
            "left": null
          }
        },
        "5a39decef9de42eca0122c229658cf7e": {
          "model_module": "@jupyter-widgets/controls",
          "model_name": "HBoxModel",
          "model_module_version": "1.5.0",
          "state": {
            "_view_name": "HBoxView",
            "_dom_classes": [],
            "_model_name": "HBoxModel",
            "_view_module": "@jupyter-widgets/controls",
            "_model_module_version": "1.5.0",
            "_view_count": null,
            "_view_module_version": "1.5.0",
            "box_style": "",
            "layout": "IPY_MODEL_5af9ac522a584b759adaf44beabc5f43",
            "_model_module": "@jupyter-widgets/controls",
            "children": [
              "IPY_MODEL_4bce3509b4a84fa5938eaf7e5da62734",
              "IPY_MODEL_e7677be00a3147fb80d9296599e36bea",
              "IPY_MODEL_dd0472da71a2465fa98086998c3edb0a"
            ]
          }
        },
        "5af9ac522a584b759adaf44beabc5f43": {
          "model_module": "@jupyter-widgets/base",
          "model_name": "LayoutModel",
          "model_module_version": "1.2.0",
          "state": {
            "_view_name": "LayoutView",
            "grid_template_rows": null,
            "right": null,
            "justify_content": null,
            "_view_module": "@jupyter-widgets/base",
            "overflow": null,
            "_model_module_version": "1.2.0",
            "_view_count": null,
            "flex_flow": "row wrap",
            "width": "100%",
            "min_width": null,
            "border": null,
            "align_items": null,
            "bottom": null,
            "_model_module": "@jupyter-widgets/base",
            "top": null,
            "grid_column": null,
            "overflow_y": null,
            "overflow_x": null,
            "grid_auto_flow": null,
            "grid_area": null,
            "grid_template_columns": null,
            "flex": null,
            "_model_name": "LayoutModel",
            "justify_items": null,
            "grid_row": null,
            "max_height": null,
            "align_content": null,
            "visibility": null,
            "align_self": null,
            "height": null,
            "min_height": null,
            "padding": null,
            "grid_auto_rows": null,
            "grid_gap": null,
            "max_width": null,
            "order": null,
            "_view_module_version": "1.2.0",
            "grid_template_areas": null,
            "object_position": null,
            "object_fit": null,
            "grid_auto_columns": null,
            "margin": null,
            "display": "inline-flex",
            "left": null
          }
        },
        "4bce3509b4a84fa5938eaf7e5da62734": {
          "model_module": "@jupyter-widgets/controls",
          "model_name": "HTMLModel",
          "model_module_version": "1.5.0",
          "state": {
            "_view_name": "HTMLView",
            "style": "IPY_MODEL_2d877d36e88e423b85ca70956f83f81c",
            "_dom_classes": [],
            "description": "",
            "_model_name": "HTMLModel",
            "placeholder": "​",
            "_view_module": "@jupyter-widgets/controls",
            "_model_module_version": "1.5.0",
            "value": "Running Pearson test:  96%",
            "_view_count": null,
            "_view_module_version": "1.5.0",
            "description_tooltip": null,
            "_model_module": "@jupyter-widgets/controls",
            "layout": "IPY_MODEL_da9c50a4d6614dc7a7025d772aad9357"
          }
        },
        "e7677be00a3147fb80d9296599e36bea": {
          "model_module": "@jupyter-widgets/controls",
          "model_name": "FloatProgressModel",
          "model_module_version": "1.5.0",
          "state": {
            "_view_name": "ProgressView",
            "style": "IPY_MODEL_d7460e6bf1d64847ab72fec13fc5e008",
            "_dom_classes": [],
            "description": "",
            "_model_name": "FloatProgressModel",
            "bar_style": "",
            "max": 48,
            "_view_module": "@jupyter-widgets/controls",
            "_model_module_version": "1.5.0",
            "value": 48,
            "_view_count": null,
            "_view_module_version": "1.5.0",
            "orientation": "horizontal",
            "min": 0,
            "description_tooltip": null,
            "_model_module": "@jupyter-widgets/controls",
            "layout": "IPY_MODEL_2eba3bf680384c0fa3a570a1e9559122"
          }
        },
        "dd0472da71a2465fa98086998c3edb0a": {
          "model_module": "@jupyter-widgets/controls",
          "model_name": "HTMLModel",
          "model_module_version": "1.5.0",
          "state": {
            "_view_name": "HTMLView",
            "style": "IPY_MODEL_0c343b01778240e188443aca18c657e2",
            "_dom_classes": [],
            "description": "",
            "_model_name": "HTMLModel",
            "placeholder": "​",
            "_view_module": "@jupyter-widgets/controls",
            "_model_module_version": "1.5.0",
            "value": " 46/48 [00:01&lt;00:00, 41.10it/s]",
            "_view_count": null,
            "_view_module_version": "1.5.0",
            "description_tooltip": null,
            "_model_module": "@jupyter-widgets/controls",
            "layout": "IPY_MODEL_f06561aff1bd4e7b89f5382682f0e198"
          }
        },
        "2d877d36e88e423b85ca70956f83f81c": {
          "model_module": "@jupyter-widgets/controls",
          "model_name": "DescriptionStyleModel",
          "model_module_version": "1.5.0",
          "state": {
            "_view_name": "StyleView",
            "_model_name": "DescriptionStyleModel",
            "description_width": "",
            "_view_module": "@jupyter-widgets/base",
            "_model_module_version": "1.5.0",
            "_view_count": null,
            "_view_module_version": "1.2.0",
            "_model_module": "@jupyter-widgets/controls"
          }
        },
        "da9c50a4d6614dc7a7025d772aad9357": {
          "model_module": "@jupyter-widgets/base",
          "model_name": "LayoutModel",
          "model_module_version": "1.2.0",
          "state": {
            "_view_name": "LayoutView",
            "grid_template_rows": null,
            "right": null,
            "justify_content": null,
            "_view_module": "@jupyter-widgets/base",
            "overflow": null,
            "_model_module_version": "1.2.0",
            "_view_count": null,
            "flex_flow": null,
            "width": null,
            "min_width": null,
            "border": null,
            "align_items": null,
            "bottom": null,
            "_model_module": "@jupyter-widgets/base",
            "top": null,
            "grid_column": null,
            "overflow_y": null,
            "overflow_x": null,
            "grid_auto_flow": null,
            "grid_area": null,
            "grid_template_columns": null,
            "flex": null,
            "_model_name": "LayoutModel",
            "justify_items": null,
            "grid_row": null,
            "max_height": null,
            "align_content": null,
            "visibility": null,
            "align_self": null,
            "height": null,
            "min_height": null,
            "padding": null,
            "grid_auto_rows": null,
            "grid_gap": null,
            "max_width": null,
            "order": null,
            "_view_module_version": "1.2.0",
            "grid_template_areas": null,
            "object_position": null,
            "object_fit": null,
            "grid_auto_columns": null,
            "margin": null,
            "display": null,
            "left": null
          }
        },
        "d7460e6bf1d64847ab72fec13fc5e008": {
          "model_module": "@jupyter-widgets/controls",
          "model_name": "ProgressStyleModel",
          "model_module_version": "1.5.0",
          "state": {
            "_view_name": "StyleView",
            "_model_name": "ProgressStyleModel",
            "description_width": "",
            "_view_module": "@jupyter-widgets/base",
            "_model_module_version": "1.5.0",
            "_view_count": null,
            "_view_module_version": "1.2.0",
            "bar_color": null,
            "_model_module": "@jupyter-widgets/controls"
          }
        },
        "2eba3bf680384c0fa3a570a1e9559122": {
          "model_module": "@jupyter-widgets/base",
          "model_name": "LayoutModel",
          "model_module_version": "1.2.0",
          "state": {
            "_view_name": "LayoutView",
            "grid_template_rows": null,
            "right": null,
            "justify_content": null,
            "_view_module": "@jupyter-widgets/base",
            "overflow": null,
            "_model_module_version": "1.2.0",
            "_view_count": null,
            "flex_flow": null,
            "width": null,
            "min_width": null,
            "border": null,
            "align_items": null,
            "bottom": null,
            "_model_module": "@jupyter-widgets/base",
            "top": null,
            "grid_column": null,
            "overflow_y": null,
            "overflow_x": null,
            "grid_auto_flow": null,
            "grid_area": null,
            "grid_template_columns": null,
            "flex": "2",
            "_model_name": "LayoutModel",
            "justify_items": null,
            "grid_row": null,
            "max_height": null,
            "align_content": null,
            "visibility": null,
            "align_self": null,
            "height": null,
            "min_height": null,
            "padding": null,
            "grid_auto_rows": null,
            "grid_gap": null,
            "max_width": null,
            "order": null,
            "_view_module_version": "1.2.0",
            "grid_template_areas": null,
            "object_position": null,
            "object_fit": null,
            "grid_auto_columns": null,
            "margin": null,
            "display": null,
            "left": null
          }
        },
        "0c343b01778240e188443aca18c657e2": {
          "model_module": "@jupyter-widgets/controls",
          "model_name": "DescriptionStyleModel",
          "model_module_version": "1.5.0",
          "state": {
            "_view_name": "StyleView",
            "_model_name": "DescriptionStyleModel",
            "description_width": "",
            "_view_module": "@jupyter-widgets/base",
            "_model_module_version": "1.5.0",
            "_view_count": null,
            "_view_module_version": "1.2.0",
            "_model_module": "@jupyter-widgets/controls"
          }
        },
        "f06561aff1bd4e7b89f5382682f0e198": {
          "model_module": "@jupyter-widgets/base",
          "model_name": "LayoutModel",
          "model_module_version": "1.2.0",
          "state": {
            "_view_name": "LayoutView",
            "grid_template_rows": null,
            "right": null,
            "justify_content": null,
            "_view_module": "@jupyter-widgets/base",
            "overflow": null,
            "_model_module_version": "1.2.0",
            "_view_count": null,
            "flex_flow": null,
            "width": null,
            "min_width": null,
            "border": null,
            "align_items": null,
            "bottom": null,
            "_model_module": "@jupyter-widgets/base",
            "top": null,
            "grid_column": null,
            "overflow_y": null,
            "overflow_x": null,
            "grid_auto_flow": null,
            "grid_area": null,
            "grid_template_columns": null,
            "flex": null,
            "_model_name": "LayoutModel",
            "justify_items": null,
            "grid_row": null,
            "max_height": null,
            "align_content": null,
            "visibility": null,
            "align_self": null,
            "height": null,
            "min_height": null,
            "padding": null,
            "grid_auto_rows": null,
            "grid_gap": null,
            "max_width": null,
            "order": null,
            "_view_module_version": "1.2.0",
            "grid_template_areas": null,
            "object_position": null,
            "object_fit": null,
            "grid_auto_columns": null,
            "margin": null,
            "display": null,
            "left": null
          }
        },
        "c5fb3faff4c942d8b0509b191019a74e": {
          "model_module": "@jupyter-widgets/controls",
          "model_name": "HBoxModel",
          "model_module_version": "1.5.0",
          "state": {
            "_view_name": "HBoxView",
            "_dom_classes": [],
            "_model_name": "HBoxModel",
            "_view_module": "@jupyter-widgets/controls",
            "_model_module_version": "1.5.0",
            "_view_count": null,
            "_view_module_version": "1.5.0",
            "box_style": "",
            "layout": "IPY_MODEL_99c0a2a0103a4ec2a58febbb5b5462b3",
            "_model_module": "@jupyter-widgets/controls",
            "children": [
              "IPY_MODEL_2980a88d1236458c94b72dcc85cc4e03",
              "IPY_MODEL_d89462f33f0a45ffb60f0b79498eb682",
              "IPY_MODEL_27b05d4290c0464aa47cd0a23b5c59a3"
            ]
          }
        },
        "99c0a2a0103a4ec2a58febbb5b5462b3": {
          "model_module": "@jupyter-widgets/base",
          "model_name": "LayoutModel",
          "model_module_version": "1.2.0",
          "state": {
            "_view_name": "LayoutView",
            "grid_template_rows": null,
            "right": null,
            "justify_content": null,
            "_view_module": "@jupyter-widgets/base",
            "overflow": null,
            "_model_module_version": "1.2.0",
            "_view_count": null,
            "flex_flow": "row wrap",
            "width": "100%",
            "min_width": null,
            "border": null,
            "align_items": null,
            "bottom": null,
            "_model_module": "@jupyter-widgets/base",
            "top": null,
            "grid_column": null,
            "overflow_y": null,
            "overflow_x": null,
            "grid_auto_flow": null,
            "grid_area": null,
            "grid_template_columns": null,
            "flex": null,
            "_model_name": "LayoutModel",
            "justify_items": null,
            "grid_row": null,
            "max_height": null,
            "align_content": null,
            "visibility": null,
            "align_self": null,
            "height": null,
            "min_height": null,
            "padding": null,
            "grid_auto_rows": null,
            "grid_gap": null,
            "max_width": null,
            "order": null,
            "_view_module_version": "1.2.0",
            "grid_template_areas": null,
            "object_position": null,
            "object_fit": null,
            "grid_auto_columns": null,
            "margin": null,
            "display": "inline-flex",
            "left": null
          }
        },
        "2980a88d1236458c94b72dcc85cc4e03": {
          "model_module": "@jupyter-widgets/controls",
          "model_name": "HTMLModel",
          "model_module_version": "1.5.0",
          "state": {
            "_view_name": "HTMLView",
            "style": "IPY_MODEL_798b9fc1f4ca44888e759f179c88a792",
            "_dom_classes": [],
            "description": "",
            "_model_name": "HTMLModel",
            "placeholder": "​",
            "_view_module": "@jupyter-widgets/controls",
            "_model_module_version": "1.5.0",
            "value": "Running Pearson test:  94%",
            "_view_count": null,
            "_view_module_version": "1.5.0",
            "description_tooltip": null,
            "_model_module": "@jupyter-widgets/controls",
            "layout": "IPY_MODEL_d4d14e8b25614733af8ba591d9b5ac11"
          }
        },
        "d89462f33f0a45ffb60f0b79498eb682": {
          "model_module": "@jupyter-widgets/controls",
          "model_name": "FloatProgressModel",
          "model_module_version": "1.5.0",
          "state": {
            "_view_name": "ProgressView",
            "style": "IPY_MODEL_c9f97bcd345f44b68fe8d2c2049b6dd1",
            "_dom_classes": [],
            "description": "",
            "_model_name": "FloatProgressModel",
            "bar_style": "",
            "max": 48,
            "_view_module": "@jupyter-widgets/controls",
            "_model_module_version": "1.5.0",
            "value": 48,
            "_view_count": null,
            "_view_module_version": "1.5.0",
            "orientation": "horizontal",
            "min": 0,
            "description_tooltip": null,
            "_model_module": "@jupyter-widgets/controls",
            "layout": "IPY_MODEL_4f64862a815542b3a6d79879a5ce683c"
          }
        },
        "27b05d4290c0464aa47cd0a23b5c59a3": {
          "model_module": "@jupyter-widgets/controls",
          "model_name": "HTMLModel",
          "model_module_version": "1.5.0",
          "state": {
            "_view_name": "HTMLView",
            "style": "IPY_MODEL_e560df7176d64b69aac56e04230327e2",
            "_dom_classes": [],
            "description": "",
            "_model_name": "HTMLModel",
            "placeholder": "​",
            "_view_module": "@jupyter-widgets/controls",
            "_model_module_version": "1.5.0",
            "value": " 45/48 [00:00&lt;00:00, 64.37it/s]",
            "_view_count": null,
            "_view_module_version": "1.5.0",
            "description_tooltip": null,
            "_model_module": "@jupyter-widgets/controls",
            "layout": "IPY_MODEL_88b71853fbe64cefadb834202337d42c"
          }
        },
        "798b9fc1f4ca44888e759f179c88a792": {
          "model_module": "@jupyter-widgets/controls",
          "model_name": "DescriptionStyleModel",
          "model_module_version": "1.5.0",
          "state": {
            "_view_name": "StyleView",
            "_model_name": "DescriptionStyleModel",
            "description_width": "",
            "_view_module": "@jupyter-widgets/base",
            "_model_module_version": "1.5.0",
            "_view_count": null,
            "_view_module_version": "1.2.0",
            "_model_module": "@jupyter-widgets/controls"
          }
        },
        "d4d14e8b25614733af8ba591d9b5ac11": {
          "model_module": "@jupyter-widgets/base",
          "model_name": "LayoutModel",
          "model_module_version": "1.2.0",
          "state": {
            "_view_name": "LayoutView",
            "grid_template_rows": null,
            "right": null,
            "justify_content": null,
            "_view_module": "@jupyter-widgets/base",
            "overflow": null,
            "_model_module_version": "1.2.0",
            "_view_count": null,
            "flex_flow": null,
            "width": null,
            "min_width": null,
            "border": null,
            "align_items": null,
            "bottom": null,
            "_model_module": "@jupyter-widgets/base",
            "top": null,
            "grid_column": null,
            "overflow_y": null,
            "overflow_x": null,
            "grid_auto_flow": null,
            "grid_area": null,
            "grid_template_columns": null,
            "flex": null,
            "_model_name": "LayoutModel",
            "justify_items": null,
            "grid_row": null,
            "max_height": null,
            "align_content": null,
            "visibility": null,
            "align_self": null,
            "height": null,
            "min_height": null,
            "padding": null,
            "grid_auto_rows": null,
            "grid_gap": null,
            "max_width": null,
            "order": null,
            "_view_module_version": "1.2.0",
            "grid_template_areas": null,
            "object_position": null,
            "object_fit": null,
            "grid_auto_columns": null,
            "margin": null,
            "display": null,
            "left": null
          }
        },
        "c9f97bcd345f44b68fe8d2c2049b6dd1": {
          "model_module": "@jupyter-widgets/controls",
          "model_name": "ProgressStyleModel",
          "model_module_version": "1.5.0",
          "state": {
            "_view_name": "StyleView",
            "_model_name": "ProgressStyleModel",
            "description_width": "",
            "_view_module": "@jupyter-widgets/base",
            "_model_module_version": "1.5.0",
            "_view_count": null,
            "_view_module_version": "1.2.0",
            "bar_color": null,
            "_model_module": "@jupyter-widgets/controls"
          }
        },
        "4f64862a815542b3a6d79879a5ce683c": {
          "model_module": "@jupyter-widgets/base",
          "model_name": "LayoutModel",
          "model_module_version": "1.2.0",
          "state": {
            "_view_name": "LayoutView",
            "grid_template_rows": null,
            "right": null,
            "justify_content": null,
            "_view_module": "@jupyter-widgets/base",
            "overflow": null,
            "_model_module_version": "1.2.0",
            "_view_count": null,
            "flex_flow": null,
            "width": null,
            "min_width": null,
            "border": null,
            "align_items": null,
            "bottom": null,
            "_model_module": "@jupyter-widgets/base",
            "top": null,
            "grid_column": null,
            "overflow_y": null,
            "overflow_x": null,
            "grid_auto_flow": null,
            "grid_area": null,
            "grid_template_columns": null,
            "flex": "2",
            "_model_name": "LayoutModel",
            "justify_items": null,
            "grid_row": null,
            "max_height": null,
            "align_content": null,
            "visibility": null,
            "align_self": null,
            "height": null,
            "min_height": null,
            "padding": null,
            "grid_auto_rows": null,
            "grid_gap": null,
            "max_width": null,
            "order": null,
            "_view_module_version": "1.2.0",
            "grid_template_areas": null,
            "object_position": null,
            "object_fit": null,
            "grid_auto_columns": null,
            "margin": null,
            "display": null,
            "left": null
          }
        },
        "e560df7176d64b69aac56e04230327e2": {
          "model_module": "@jupyter-widgets/controls",
          "model_name": "DescriptionStyleModel",
          "model_module_version": "1.5.0",
          "state": {
            "_view_name": "StyleView",
            "_model_name": "DescriptionStyleModel",
            "description_width": "",
            "_view_module": "@jupyter-widgets/base",
            "_model_module_version": "1.5.0",
            "_view_count": null,
            "_view_module_version": "1.2.0",
            "_model_module": "@jupyter-widgets/controls"
          }
        },
        "88b71853fbe64cefadb834202337d42c": {
          "model_module": "@jupyter-widgets/base",
          "model_name": "LayoutModel",
          "model_module_version": "1.2.0",
          "state": {
            "_view_name": "LayoutView",
            "grid_template_rows": null,
            "right": null,
            "justify_content": null,
            "_view_module": "@jupyter-widgets/base",
            "overflow": null,
            "_model_module_version": "1.2.0",
            "_view_count": null,
            "flex_flow": null,
            "width": null,
            "min_width": null,
            "border": null,
            "align_items": null,
            "bottom": null,
            "_model_module": "@jupyter-widgets/base",
            "top": null,
            "grid_column": null,
            "overflow_y": null,
            "overflow_x": null,
            "grid_auto_flow": null,
            "grid_area": null,
            "grid_template_columns": null,
            "flex": null,
            "_model_name": "LayoutModel",
            "justify_items": null,
            "grid_row": null,
            "max_height": null,
            "align_content": null,
            "visibility": null,
            "align_self": null,
            "height": null,
            "min_height": null,
            "padding": null,
            "grid_auto_rows": null,
            "grid_gap": null,
            "max_width": null,
            "order": null,
            "_view_module_version": "1.2.0",
            "grid_template_areas": null,
            "object_position": null,
            "object_fit": null,
            "grid_auto_columns": null,
            "margin": null,
            "display": null,
            "left": null
          }
        },
        "e16c3a6a5a4f4177a1a2541cd8cd6391": {
          "model_module": "@jupyter-widgets/controls",
          "model_name": "HBoxModel",
          "model_module_version": "1.5.0",
          "state": {
            "_view_name": "HBoxView",
            "_dom_classes": [],
            "_model_name": "HBoxModel",
            "_view_module": "@jupyter-widgets/controls",
            "_model_module_version": "1.5.0",
            "_view_count": null,
            "_view_module_version": "1.5.0",
            "box_style": "",
            "layout": "IPY_MODEL_2f8f33023fc74736a4d6ca700b453ac4",
            "_model_module": "@jupyter-widgets/controls",
            "children": [
              "IPY_MODEL_b189e1d71d214efa8816cb81cc779ae8",
              "IPY_MODEL_40482d37fa784484a372a0e8673c71b3",
              "IPY_MODEL_6478e4fd901d4f0eb78389703969a5a5"
            ]
          }
        },
        "2f8f33023fc74736a4d6ca700b453ac4": {
          "model_module": "@jupyter-widgets/base",
          "model_name": "LayoutModel",
          "model_module_version": "1.2.0",
          "state": {
            "_view_name": "LayoutView",
            "grid_template_rows": null,
            "right": null,
            "justify_content": null,
            "_view_module": "@jupyter-widgets/base",
            "overflow": null,
            "_model_module_version": "1.2.0",
            "_view_count": null,
            "flex_flow": null,
            "width": null,
            "min_width": null,
            "border": null,
            "align_items": null,
            "bottom": null,
            "_model_module": "@jupyter-widgets/base",
            "top": null,
            "grid_column": null,
            "overflow_y": null,
            "overflow_x": null,
            "grid_auto_flow": null,
            "grid_area": null,
            "grid_template_columns": null,
            "flex": null,
            "_model_name": "LayoutModel",
            "justify_items": null,
            "grid_row": null,
            "max_height": null,
            "align_content": null,
            "visibility": null,
            "align_self": null,
            "height": null,
            "min_height": null,
            "padding": null,
            "grid_auto_rows": null,
            "grid_gap": null,
            "max_width": null,
            "order": null,
            "_view_module_version": "1.2.0",
            "grid_template_areas": null,
            "object_position": null,
            "object_fit": null,
            "grid_auto_columns": null,
            "margin": null,
            "display": null,
            "left": null
          }
        },
        "b189e1d71d214efa8816cb81cc779ae8": {
          "model_module": "@jupyter-widgets/controls",
          "model_name": "HTMLModel",
          "model_module_version": "1.5.0",
          "state": {
            "_view_name": "HTMLView",
            "style": "IPY_MODEL_12cc1f4030484a71afc08500e0a6c279",
            "_dom_classes": [],
            "description": "",
            "_model_name": "HTMLModel",
            "placeholder": "​",
            "_view_module": "@jupyter-widgets/controls",
            "_model_module_version": "1.5.0",
            "value": "Computing PCAs: 100%",
            "_view_count": null,
            "_view_module_version": "1.5.0",
            "description_tooltip": null,
            "_model_module": "@jupyter-widgets/controls",
            "layout": "IPY_MODEL_69a1cb830cd04cadbbc5395bfb1b704d"
          }
        },
        "40482d37fa784484a372a0e8673c71b3": {
          "model_module": "@jupyter-widgets/controls",
          "model_name": "FloatProgressModel",
          "model_module_version": "1.5.0",
          "state": {
            "_view_name": "ProgressView",
            "style": "IPY_MODEL_e2244839bb4547b4906e149d7ff4fcaa",
            "_dom_classes": [],
            "description": "",
            "_model_name": "FloatProgressModel",
            "bar_style": "success",
            "max": 2,
            "_view_module": "@jupyter-widgets/controls",
            "_model_module_version": "1.5.0",
            "value": 2,
            "_view_count": null,
            "_view_module_version": "1.5.0",
            "orientation": "horizontal",
            "min": 0,
            "description_tooltip": null,
            "_model_module": "@jupyter-widgets/controls",
            "layout": "IPY_MODEL_f88a0853667f4305a5794245dfbb7138"
          }
        },
        "6478e4fd901d4f0eb78389703969a5a5": {
          "model_module": "@jupyter-widgets/controls",
          "model_name": "HTMLModel",
          "model_module_version": "1.5.0",
          "state": {
            "_view_name": "HTMLView",
            "style": "IPY_MODEL_3c3bdb1cd7034823af157dbebf1039f2",
            "_dom_classes": [],
            "description": "",
            "_model_name": "HTMLModel",
            "placeholder": "​",
            "_view_module": "@jupyter-widgets/controls",
            "_model_module_version": "1.5.0",
            "value": " 2/2 [00:02&lt;00:00,  1.03s/it]",
            "_view_count": null,
            "_view_module_version": "1.5.0",
            "description_tooltip": null,
            "_model_module": "@jupyter-widgets/controls",
            "layout": "IPY_MODEL_f7a1e5185f7d491b8900b98402e583c2"
          }
        },
        "12cc1f4030484a71afc08500e0a6c279": {
          "model_module": "@jupyter-widgets/controls",
          "model_name": "DescriptionStyleModel",
          "model_module_version": "1.5.0",
          "state": {
            "_view_name": "StyleView",
            "_model_name": "DescriptionStyleModel",
            "description_width": "",
            "_view_module": "@jupyter-widgets/base",
            "_model_module_version": "1.5.0",
            "_view_count": null,
            "_view_module_version": "1.2.0",
            "_model_module": "@jupyter-widgets/controls"
          }
        },
        "69a1cb830cd04cadbbc5395bfb1b704d": {
          "model_module": "@jupyter-widgets/base",
          "model_name": "LayoutModel",
          "model_module_version": "1.2.0",
          "state": {
            "_view_name": "LayoutView",
            "grid_template_rows": null,
            "right": null,
            "justify_content": null,
            "_view_module": "@jupyter-widgets/base",
            "overflow": null,
            "_model_module_version": "1.2.0",
            "_view_count": null,
            "flex_flow": null,
            "width": null,
            "min_width": null,
            "border": null,
            "align_items": null,
            "bottom": null,
            "_model_module": "@jupyter-widgets/base",
            "top": null,
            "grid_column": null,
            "overflow_y": null,
            "overflow_x": null,
            "grid_auto_flow": null,
            "grid_area": null,
            "grid_template_columns": null,
            "flex": null,
            "_model_name": "LayoutModel",
            "justify_items": null,
            "grid_row": null,
            "max_height": null,
            "align_content": null,
            "visibility": null,
            "align_self": null,
            "height": null,
            "min_height": null,
            "padding": null,
            "grid_auto_rows": null,
            "grid_gap": null,
            "max_width": null,
            "order": null,
            "_view_module_version": "1.2.0",
            "grid_template_areas": null,
            "object_position": null,
            "object_fit": null,
            "grid_auto_columns": null,
            "margin": null,
            "display": null,
            "left": null
          }
        },
        "e2244839bb4547b4906e149d7ff4fcaa": {
          "model_module": "@jupyter-widgets/controls",
          "model_name": "ProgressStyleModel",
          "model_module_version": "1.5.0",
          "state": {
            "_view_name": "StyleView",
            "_model_name": "ProgressStyleModel",
            "description_width": "",
            "_view_module": "@jupyter-widgets/base",
            "_model_module_version": "1.5.0",
            "_view_count": null,
            "_view_module_version": "1.2.0",
            "bar_color": null,
            "_model_module": "@jupyter-widgets/controls"
          }
        },
        "f88a0853667f4305a5794245dfbb7138": {
          "model_module": "@jupyter-widgets/base",
          "model_name": "LayoutModel",
          "model_module_version": "1.2.0",
          "state": {
            "_view_name": "LayoutView",
            "grid_template_rows": null,
            "right": null,
            "justify_content": null,
            "_view_module": "@jupyter-widgets/base",
            "overflow": null,
            "_model_module_version": "1.2.0",
            "_view_count": null,
            "flex_flow": null,
            "width": null,
            "min_width": null,
            "border": null,
            "align_items": null,
            "bottom": null,
            "_model_module": "@jupyter-widgets/base",
            "top": null,
            "grid_column": null,
            "overflow_y": null,
            "overflow_x": null,
            "grid_auto_flow": null,
            "grid_area": null,
            "grid_template_columns": null,
            "flex": null,
            "_model_name": "LayoutModel",
            "justify_items": null,
            "grid_row": null,
            "max_height": null,
            "align_content": null,
            "visibility": null,
            "align_self": null,
            "height": null,
            "min_height": null,
            "padding": null,
            "grid_auto_rows": null,
            "grid_gap": null,
            "max_width": null,
            "order": null,
            "_view_module_version": "1.2.0",
            "grid_template_areas": null,
            "object_position": null,
            "object_fit": null,
            "grid_auto_columns": null,
            "margin": null,
            "display": null,
            "left": null
          }
        },
        "3c3bdb1cd7034823af157dbebf1039f2": {
          "model_module": "@jupyter-widgets/controls",
          "model_name": "DescriptionStyleModel",
          "model_module_version": "1.5.0",
          "state": {
            "_view_name": "StyleView",
            "_model_name": "DescriptionStyleModel",
            "description_width": "",
            "_view_module": "@jupyter-widgets/base",
            "_model_module_version": "1.5.0",
            "_view_count": null,
            "_view_module_version": "1.2.0",
            "_model_module": "@jupyter-widgets/controls"
          }
        },
        "f7a1e5185f7d491b8900b98402e583c2": {
          "model_module": "@jupyter-widgets/base",
          "model_name": "LayoutModel",
          "model_module_version": "1.2.0",
          "state": {
            "_view_name": "LayoutView",
            "grid_template_rows": null,
            "right": null,
            "justify_content": null,
            "_view_module": "@jupyter-widgets/base",
            "overflow": null,
            "_model_module_version": "1.2.0",
            "_view_count": null,
            "flex_flow": null,
            "width": null,
            "min_width": null,
            "border": null,
            "align_items": null,
            "bottom": null,
            "_model_module": "@jupyter-widgets/base",
            "top": null,
            "grid_column": null,
            "overflow_y": null,
            "overflow_x": null,
            "grid_auto_flow": null,
            "grid_area": null,
            "grid_template_columns": null,
            "flex": null,
            "_model_name": "LayoutModel",
            "justify_items": null,
            "grid_row": null,
            "max_height": null,
            "align_content": null,
            "visibility": null,
            "align_self": null,
            "height": null,
            "min_height": null,
            "padding": null,
            "grid_auto_rows": null,
            "grid_gap": null,
            "max_width": null,
            "order": null,
            "_view_module_version": "1.2.0",
            "grid_template_areas": null,
            "object_position": null,
            "object_fit": null,
            "grid_auto_columns": null,
            "margin": null,
            "display": null,
            "left": null
          }
        },
        "791a3bf875654d718b73d72bc919e86d": {
          "model_module": "@jupyter-widgets/controls",
          "model_name": "HBoxModel",
          "model_module_version": "1.5.0",
          "state": {
            "_view_name": "HBoxView",
            "_dom_classes": [],
            "_model_name": "HBoxModel",
            "_view_module": "@jupyter-widgets/controls",
            "_model_module_version": "1.5.0",
            "_view_count": null,
            "_view_module_version": "1.5.0",
            "box_style": "",
            "layout": "IPY_MODEL_316dee0f66ba4c6ab09f7bcd2677ce5c",
            "_model_module": "@jupyter-widgets/controls",
            "children": [
              "IPY_MODEL_e16cb71b430945e7a206b0113e19b249",
              "IPY_MODEL_fbc73a264a76434bb517e29a896cd90c",
              "IPY_MODEL_899d4c4405d14a2d808d3624504bf05c"
            ]
          }
        },
        "316dee0f66ba4c6ab09f7bcd2677ce5c": {
          "model_module": "@jupyter-widgets/base",
          "model_name": "LayoutModel",
          "model_module_version": "1.2.0",
          "state": {
            "_view_name": "LayoutView",
            "grid_template_rows": null,
            "right": null,
            "justify_content": null,
            "_view_module": "@jupyter-widgets/base",
            "overflow": null,
            "_model_module_version": "1.2.0",
            "_view_count": null,
            "flex_flow": null,
            "width": null,
            "min_width": null,
            "border": null,
            "align_items": null,
            "bottom": null,
            "_model_module": "@jupyter-widgets/base",
            "top": null,
            "grid_column": null,
            "overflow_y": null,
            "overflow_x": null,
            "grid_auto_flow": null,
            "grid_area": null,
            "grid_template_columns": null,
            "flex": null,
            "_model_name": "LayoutModel",
            "justify_items": null,
            "grid_row": null,
            "max_height": null,
            "align_content": null,
            "visibility": null,
            "align_self": null,
            "height": null,
            "min_height": null,
            "padding": null,
            "grid_auto_rows": null,
            "grid_gap": null,
            "max_width": null,
            "order": null,
            "_view_module_version": "1.2.0",
            "grid_template_areas": null,
            "object_position": null,
            "object_fit": null,
            "grid_auto_columns": null,
            "margin": null,
            "display": null,
            "left": null
          }
        },
        "e16cb71b430945e7a206b0113e19b249": {
          "model_module": "@jupyter-widgets/controls",
          "model_name": "HTMLModel",
          "model_module_version": "1.5.0",
          "state": {
            "_view_name": "HTMLView",
            "style": "IPY_MODEL_5a3961917651408ab3318f48f241ba23",
            "_dom_classes": [],
            "description": "",
            "_model_name": "HTMLModel",
            "placeholder": "​",
            "_view_module": "@jupyter-widgets/controls",
            "_model_module_version": "1.5.0",
            "value": "Computing PCAs: 100%",
            "_view_count": null,
            "_view_module_version": "1.5.0",
            "description_tooltip": null,
            "_model_module": "@jupyter-widgets/controls",
            "layout": "IPY_MODEL_ec7adb880bf1461ba8ff2d58d8e6ce34"
          }
        },
        "fbc73a264a76434bb517e29a896cd90c": {
          "model_module": "@jupyter-widgets/controls",
          "model_name": "FloatProgressModel",
          "model_module_version": "1.5.0",
          "state": {
            "_view_name": "ProgressView",
            "style": "IPY_MODEL_9f071f259fb6413db1dce694ca0f7708",
            "_dom_classes": [],
            "description": "",
            "_model_name": "FloatProgressModel",
            "bar_style": "success",
            "max": 2,
            "_view_module": "@jupyter-widgets/controls",
            "_model_module_version": "1.5.0",
            "value": 2,
            "_view_count": null,
            "_view_module_version": "1.5.0",
            "orientation": "horizontal",
            "min": 0,
            "description_tooltip": null,
            "_model_module": "@jupyter-widgets/controls",
            "layout": "IPY_MODEL_6491237fbfac47449b9a09691dd5baa7"
          }
        },
        "899d4c4405d14a2d808d3624504bf05c": {
          "model_module": "@jupyter-widgets/controls",
          "model_name": "HTMLModel",
          "model_module_version": "1.5.0",
          "state": {
            "_view_name": "HTMLView",
            "style": "IPY_MODEL_3e138d73bdd9480895308befa28c91cf",
            "_dom_classes": [],
            "description": "",
            "_model_name": "HTMLModel",
            "placeholder": "​",
            "_view_module": "@jupyter-widgets/controls",
            "_model_module_version": "1.5.0",
            "value": " 2/2 [00:14&lt;00:00,  7.04s/it]",
            "_view_count": null,
            "_view_module_version": "1.5.0",
            "description_tooltip": null,
            "_model_module": "@jupyter-widgets/controls",
            "layout": "IPY_MODEL_8930757f8799426481e19530b484cfe3"
          }
        },
        "5a3961917651408ab3318f48f241ba23": {
          "model_module": "@jupyter-widgets/controls",
          "model_name": "DescriptionStyleModel",
          "model_module_version": "1.5.0",
          "state": {
            "_view_name": "StyleView",
            "_model_name": "DescriptionStyleModel",
            "description_width": "",
            "_view_module": "@jupyter-widgets/base",
            "_model_module_version": "1.5.0",
            "_view_count": null,
            "_view_module_version": "1.2.0",
            "_model_module": "@jupyter-widgets/controls"
          }
        },
        "ec7adb880bf1461ba8ff2d58d8e6ce34": {
          "model_module": "@jupyter-widgets/base",
          "model_name": "LayoutModel",
          "model_module_version": "1.2.0",
          "state": {
            "_view_name": "LayoutView",
            "grid_template_rows": null,
            "right": null,
            "justify_content": null,
            "_view_module": "@jupyter-widgets/base",
            "overflow": null,
            "_model_module_version": "1.2.0",
            "_view_count": null,
            "flex_flow": null,
            "width": null,
            "min_width": null,
            "border": null,
            "align_items": null,
            "bottom": null,
            "_model_module": "@jupyter-widgets/base",
            "top": null,
            "grid_column": null,
            "overflow_y": null,
            "overflow_x": null,
            "grid_auto_flow": null,
            "grid_area": null,
            "grid_template_columns": null,
            "flex": null,
            "_model_name": "LayoutModel",
            "justify_items": null,
            "grid_row": null,
            "max_height": null,
            "align_content": null,
            "visibility": null,
            "align_self": null,
            "height": null,
            "min_height": null,
            "padding": null,
            "grid_auto_rows": null,
            "grid_gap": null,
            "max_width": null,
            "order": null,
            "_view_module_version": "1.2.0",
            "grid_template_areas": null,
            "object_position": null,
            "object_fit": null,
            "grid_auto_columns": null,
            "margin": null,
            "display": null,
            "left": null
          }
        },
        "9f071f259fb6413db1dce694ca0f7708": {
          "model_module": "@jupyter-widgets/controls",
          "model_name": "ProgressStyleModel",
          "model_module_version": "1.5.0",
          "state": {
            "_view_name": "StyleView",
            "_model_name": "ProgressStyleModel",
            "description_width": "",
            "_view_module": "@jupyter-widgets/base",
            "_model_module_version": "1.5.0",
            "_view_count": null,
            "_view_module_version": "1.2.0",
            "bar_color": null,
            "_model_module": "@jupyter-widgets/controls"
          }
        },
        "6491237fbfac47449b9a09691dd5baa7": {
          "model_module": "@jupyter-widgets/base",
          "model_name": "LayoutModel",
          "model_module_version": "1.2.0",
          "state": {
            "_view_name": "LayoutView",
            "grid_template_rows": null,
            "right": null,
            "justify_content": null,
            "_view_module": "@jupyter-widgets/base",
            "overflow": null,
            "_model_module_version": "1.2.0",
            "_view_count": null,
            "flex_flow": null,
            "width": null,
            "min_width": null,
            "border": null,
            "align_items": null,
            "bottom": null,
            "_model_module": "@jupyter-widgets/base",
            "top": null,
            "grid_column": null,
            "overflow_y": null,
            "overflow_x": null,
            "grid_auto_flow": null,
            "grid_area": null,
            "grid_template_columns": null,
            "flex": null,
            "_model_name": "LayoutModel",
            "justify_items": null,
            "grid_row": null,
            "max_height": null,
            "align_content": null,
            "visibility": null,
            "align_self": null,
            "height": null,
            "min_height": null,
            "padding": null,
            "grid_auto_rows": null,
            "grid_gap": null,
            "max_width": null,
            "order": null,
            "_view_module_version": "1.2.0",
            "grid_template_areas": null,
            "object_position": null,
            "object_fit": null,
            "grid_auto_columns": null,
            "margin": null,
            "display": null,
            "left": null
          }
        },
        "3e138d73bdd9480895308befa28c91cf": {
          "model_module": "@jupyter-widgets/controls",
          "model_name": "DescriptionStyleModel",
          "model_module_version": "1.5.0",
          "state": {
            "_view_name": "StyleView",
            "_model_name": "DescriptionStyleModel",
            "description_width": "",
            "_view_module": "@jupyter-widgets/base",
            "_model_module_version": "1.5.0",
            "_view_count": null,
            "_view_module_version": "1.2.0",
            "_model_module": "@jupyter-widgets/controls"
          }
        },
        "8930757f8799426481e19530b484cfe3": {
          "model_module": "@jupyter-widgets/base",
          "model_name": "LayoutModel",
          "model_module_version": "1.2.0",
          "state": {
            "_view_name": "LayoutView",
            "grid_template_rows": null,
            "right": null,
            "justify_content": null,
            "_view_module": "@jupyter-widgets/base",
            "overflow": null,
            "_model_module_version": "1.2.0",
            "_view_count": null,
            "flex_flow": null,
            "width": null,
            "min_width": null,
            "border": null,
            "align_items": null,
            "bottom": null,
            "_model_module": "@jupyter-widgets/base",
            "top": null,
            "grid_column": null,
            "overflow_y": null,
            "overflow_x": null,
            "grid_auto_flow": null,
            "grid_area": null,
            "grid_template_columns": null,
            "flex": null,
            "_model_name": "LayoutModel",
            "justify_items": null,
            "grid_row": null,
            "max_height": null,
            "align_content": null,
            "visibility": null,
            "align_self": null,
            "height": null,
            "min_height": null,
            "padding": null,
            "grid_auto_rows": null,
            "grid_gap": null,
            "max_width": null,
            "order": null,
            "_view_module_version": "1.2.0",
            "grid_template_areas": null,
            "object_position": null,
            "object_fit": null,
            "grid_auto_columns": null,
            "margin": null,
            "display": null,
            "left": null
          }
        },
        "eeba30a086e74963bce6cefc784ee698": {
          "model_module": "@jupyter-widgets/controls",
          "model_name": "HBoxModel",
          "model_module_version": "1.5.0",
          "state": {
            "_view_name": "HBoxView",
            "_dom_classes": [],
            "_model_name": "HBoxModel",
            "_view_module": "@jupyter-widgets/controls",
            "_model_module_version": "1.5.0",
            "_view_count": null,
            "_view_module_version": "1.5.0",
            "box_style": "",
            "layout": "IPY_MODEL_69e7943580b342d2965a51c8b37cc966",
            "_model_module": "@jupyter-widgets/controls",
            "children": [
              "IPY_MODEL_1f756d64374346df88860fb126621076",
              "IPY_MODEL_9c4c54e2421244e1b5cb504955efb348",
              "IPY_MODEL_64d5e3000aa54d3faa9b4b76ef7cee18"
            ]
          }
        },
        "69e7943580b342d2965a51c8b37cc966": {
          "model_module": "@jupyter-widgets/base",
          "model_name": "LayoutModel",
          "model_module_version": "1.2.0",
          "state": {
            "_view_name": "LayoutView",
            "grid_template_rows": null,
            "right": null,
            "justify_content": null,
            "_view_module": "@jupyter-widgets/base",
            "overflow": null,
            "_model_module_version": "1.2.0",
            "_view_count": null,
            "flex_flow": null,
            "width": null,
            "min_width": null,
            "border": null,
            "align_items": null,
            "bottom": null,
            "_model_module": "@jupyter-widgets/base",
            "top": null,
            "grid_column": null,
            "overflow_y": null,
            "overflow_x": null,
            "grid_auto_flow": null,
            "grid_area": null,
            "grid_template_columns": null,
            "flex": null,
            "_model_name": "LayoutModel",
            "justify_items": null,
            "grid_row": null,
            "max_height": null,
            "align_content": null,
            "visibility": null,
            "align_self": null,
            "height": null,
            "min_height": null,
            "padding": null,
            "grid_auto_rows": null,
            "grid_gap": null,
            "max_width": null,
            "order": null,
            "_view_module_version": "1.2.0",
            "grid_template_areas": null,
            "object_position": null,
            "object_fit": null,
            "grid_auto_columns": null,
            "margin": null,
            "display": null,
            "left": null
          }
        },
        "1f756d64374346df88860fb126621076": {
          "model_module": "@jupyter-widgets/controls",
          "model_name": "HTMLModel",
          "model_module_version": "1.5.0",
          "state": {
            "_view_name": "HTMLView",
            "style": "IPY_MODEL_7a7a191a07004d58925cc3c30f05880a",
            "_dom_classes": [],
            "description": "",
            "_model_name": "HTMLModel",
            "placeholder": "​",
            "_view_module": "@jupyter-widgets/controls",
            "_model_module_version": "1.5.0",
            "value": "Computing t-SNE:   0%",
            "_view_count": null,
            "_view_module_version": "1.5.0",
            "description_tooltip": null,
            "_model_module": "@jupyter-widgets/controls",
            "layout": "IPY_MODEL_c8528ac5cff74322bc957ed401989f8f"
          }
        },
        "9c4c54e2421244e1b5cb504955efb348": {
          "model_module": "@jupyter-widgets/controls",
          "model_name": "FloatProgressModel",
          "model_module_version": "1.5.0",
          "state": {
            "_view_name": "ProgressView",
            "style": "IPY_MODEL_761b805be6e945cd8584a9180c345cb3",
            "_dom_classes": [],
            "description": "",
            "_model_name": "FloatProgressModel",
            "bar_style": "",
            "max": 2,
            "_view_module": "@jupyter-widgets/controls",
            "_model_module_version": "1.5.0",
            "value": 0,
            "_view_count": null,
            "_view_module_version": "1.5.0",
            "orientation": "horizontal",
            "min": 0,
            "description_tooltip": null,
            "_model_module": "@jupyter-widgets/controls",
            "layout": "IPY_MODEL_aa11a3585a4c452cae1e80d262f7771b"
          }
        },
        "64d5e3000aa54d3faa9b4b76ef7cee18": {
          "model_module": "@jupyter-widgets/controls",
          "model_name": "HTMLModel",
          "model_module_version": "1.5.0",
          "state": {
            "_view_name": "HTMLView",
            "style": "IPY_MODEL_23aaeae25cbe432d893a0d4c21868c68",
            "_dom_classes": [],
            "description": "",
            "_model_name": "HTMLModel",
            "placeholder": "​",
            "_view_module": "@jupyter-widgets/controls",
            "_model_module_version": "1.5.0",
            "value": " 0/2 [00:00&lt;?, ?it/s]",
            "_view_count": null,
            "_view_module_version": "1.5.0",
            "description_tooltip": null,
            "_model_module": "@jupyter-widgets/controls",
            "layout": "IPY_MODEL_32d98446d209404ea5a5cf6b8304896d"
          }
        },
        "7a7a191a07004d58925cc3c30f05880a": {
          "model_module": "@jupyter-widgets/controls",
          "model_name": "DescriptionStyleModel",
          "model_module_version": "1.5.0",
          "state": {
            "_view_name": "StyleView",
            "_model_name": "DescriptionStyleModel",
            "description_width": "",
            "_view_module": "@jupyter-widgets/base",
            "_model_module_version": "1.5.0",
            "_view_count": null,
            "_view_module_version": "1.2.0",
            "_model_module": "@jupyter-widgets/controls"
          }
        },
        "c8528ac5cff74322bc957ed401989f8f": {
          "model_module": "@jupyter-widgets/base",
          "model_name": "LayoutModel",
          "model_module_version": "1.2.0",
          "state": {
            "_view_name": "LayoutView",
            "grid_template_rows": null,
            "right": null,
            "justify_content": null,
            "_view_module": "@jupyter-widgets/base",
            "overflow": null,
            "_model_module_version": "1.2.0",
            "_view_count": null,
            "flex_flow": null,
            "width": null,
            "min_width": null,
            "border": null,
            "align_items": null,
            "bottom": null,
            "_model_module": "@jupyter-widgets/base",
            "top": null,
            "grid_column": null,
            "overflow_y": null,
            "overflow_x": null,
            "grid_auto_flow": null,
            "grid_area": null,
            "grid_template_columns": null,
            "flex": null,
            "_model_name": "LayoutModel",
            "justify_items": null,
            "grid_row": null,
            "max_height": null,
            "align_content": null,
            "visibility": null,
            "align_self": null,
            "height": null,
            "min_height": null,
            "padding": null,
            "grid_auto_rows": null,
            "grid_gap": null,
            "max_width": null,
            "order": null,
            "_view_module_version": "1.2.0",
            "grid_template_areas": null,
            "object_position": null,
            "object_fit": null,
            "grid_auto_columns": null,
            "margin": null,
            "display": null,
            "left": null
          }
        },
        "761b805be6e945cd8584a9180c345cb3": {
          "model_module": "@jupyter-widgets/controls",
          "model_name": "ProgressStyleModel",
          "model_module_version": "1.5.0",
          "state": {
            "_view_name": "StyleView",
            "_model_name": "ProgressStyleModel",
            "description_width": "",
            "_view_module": "@jupyter-widgets/base",
            "_model_module_version": "1.5.0",
            "_view_count": null,
            "_view_module_version": "1.2.0",
            "bar_color": null,
            "_model_module": "@jupyter-widgets/controls"
          }
        },
        "aa11a3585a4c452cae1e80d262f7771b": {
          "model_module": "@jupyter-widgets/base",
          "model_name": "LayoutModel",
          "model_module_version": "1.2.0",
          "state": {
            "_view_name": "LayoutView",
            "grid_template_rows": null,
            "right": null,
            "justify_content": null,
            "_view_module": "@jupyter-widgets/base",
            "overflow": null,
            "_model_module_version": "1.2.0",
            "_view_count": null,
            "flex_flow": null,
            "width": null,
            "min_width": null,
            "border": null,
            "align_items": null,
            "bottom": null,
            "_model_module": "@jupyter-widgets/base",
            "top": null,
            "grid_column": null,
            "overflow_y": null,
            "overflow_x": null,
            "grid_auto_flow": null,
            "grid_area": null,
            "grid_template_columns": null,
            "flex": null,
            "_model_name": "LayoutModel",
            "justify_items": null,
            "grid_row": null,
            "max_height": null,
            "align_content": null,
            "visibility": null,
            "align_self": null,
            "height": null,
            "min_height": null,
            "padding": null,
            "grid_auto_rows": null,
            "grid_gap": null,
            "max_width": null,
            "order": null,
            "_view_module_version": "1.2.0",
            "grid_template_areas": null,
            "object_position": null,
            "object_fit": null,
            "grid_auto_columns": null,
            "margin": null,
            "display": null,
            "left": null
          }
        },
        "23aaeae25cbe432d893a0d4c21868c68": {
          "model_module": "@jupyter-widgets/controls",
          "model_name": "DescriptionStyleModel",
          "model_module_version": "1.5.0",
          "state": {
            "_view_name": "StyleView",
            "_model_name": "DescriptionStyleModel",
            "description_width": "",
            "_view_module": "@jupyter-widgets/base",
            "_model_module_version": "1.5.0",
            "_view_count": null,
            "_view_module_version": "1.2.0",
            "_model_module": "@jupyter-widgets/controls"
          }
        },
        "32d98446d209404ea5a5cf6b8304896d": {
          "model_module": "@jupyter-widgets/base",
          "model_name": "LayoutModel",
          "model_module_version": "1.2.0",
          "state": {
            "_view_name": "LayoutView",
            "grid_template_rows": null,
            "right": null,
            "justify_content": null,
            "_view_module": "@jupyter-widgets/base",
            "overflow": null,
            "_model_module_version": "1.2.0",
            "_view_count": null,
            "flex_flow": null,
            "width": null,
            "min_width": null,
            "border": null,
            "align_items": null,
            "bottom": null,
            "_model_module": "@jupyter-widgets/base",
            "top": null,
            "grid_column": null,
            "overflow_y": null,
            "overflow_x": null,
            "grid_auto_flow": null,
            "grid_area": null,
            "grid_template_columns": null,
            "flex": null,
            "_model_name": "LayoutModel",
            "justify_items": null,
            "grid_row": null,
            "max_height": null,
            "align_content": null,
            "visibility": null,
            "align_self": null,
            "height": null,
            "min_height": null,
            "padding": null,
            "grid_auto_rows": null,
            "grid_gap": null,
            "max_width": null,
            "order": null,
            "_view_module_version": "1.2.0",
            "grid_template_areas": null,
            "object_position": null,
            "object_fit": null,
            "grid_auto_columns": null,
            "margin": null,
            "display": null,
            "left": null
          }
        },
        "1491bd741a3649a98a874ec17182e322": {
          "model_module": "@jupyter-widgets/controls",
          "model_name": "HBoxModel",
          "model_module_version": "1.5.0",
          "state": {
            "_view_name": "HBoxView",
            "_dom_classes": [],
            "_model_name": "HBoxModel",
            "_view_module": "@jupyter-widgets/controls",
            "_model_module_version": "1.5.0",
            "_view_count": null,
            "_view_module_version": "1.5.0",
            "box_style": "",
            "layout": "IPY_MODEL_8331c5e9ba0e4291a81a87df1e439996",
            "_model_module": "@jupyter-widgets/controls",
            "children": [
              "IPY_MODEL_d89d80b3426a4adca393b98b3fbaf805",
              "IPY_MODEL_555442a463434145915241d6c08c90d9",
              "IPY_MODEL_e727ea056ac24375bf335aed4cbc47d9"
            ]
          }
        },
        "8331c5e9ba0e4291a81a87df1e439996": {
          "model_module": "@jupyter-widgets/base",
          "model_name": "LayoutModel",
          "model_module_version": "1.2.0",
          "state": {
            "_view_name": "LayoutView",
            "grid_template_rows": null,
            "right": null,
            "justify_content": null,
            "_view_module": "@jupyter-widgets/base",
            "overflow": null,
            "_model_module_version": "1.2.0",
            "_view_count": null,
            "flex_flow": "row wrap",
            "width": "100%",
            "min_width": null,
            "border": null,
            "align_items": null,
            "bottom": null,
            "_model_module": "@jupyter-widgets/base",
            "top": null,
            "grid_column": null,
            "overflow_y": null,
            "overflow_x": null,
            "grid_auto_flow": null,
            "grid_area": null,
            "grid_template_columns": null,
            "flex": null,
            "_model_name": "LayoutModel",
            "justify_items": null,
            "grid_row": null,
            "max_height": null,
            "align_content": null,
            "visibility": null,
            "align_self": null,
            "height": null,
            "min_height": null,
            "padding": null,
            "grid_auto_rows": null,
            "grid_gap": null,
            "max_width": null,
            "order": null,
            "_view_module_version": "1.2.0",
            "grid_template_areas": null,
            "object_position": null,
            "object_fit": null,
            "grid_auto_columns": null,
            "margin": null,
            "display": "inline-flex",
            "left": null
          }
        },
        "d89d80b3426a4adca393b98b3fbaf805": {
          "model_module": "@jupyter-widgets/controls",
          "model_name": "HTMLModel",
          "model_module_version": "1.5.0",
          "state": {
            "_view_name": "HTMLView",
            "style": "IPY_MODEL_3200dcc01e604fbdb213525deed6a4f4",
            "_dom_classes": [],
            "description": "",
            "_model_name": "HTMLModel",
            "placeholder": "​",
            "_view_module": "@jupyter-widgets/controls",
            "_model_module_version": "1.5.0",
            "value": "Downloading chromosomes for genome hg38: 100%",
            "_view_count": null,
            "_view_module_version": "1.5.0",
            "description_tooltip": null,
            "_model_module": "@jupyter-widgets/controls",
            "layout": "IPY_MODEL_a81068d2b92041578776c7f10c7f8e94"
          }
        },
        "555442a463434145915241d6c08c90d9": {
          "model_module": "@jupyter-widgets/controls",
          "model_name": "FloatProgressModel",
          "model_module_version": "1.5.0",
          "state": {
            "_view_name": "ProgressView",
            "style": "IPY_MODEL_974ea82610e148ccbc7612453064c497",
            "_dom_classes": [],
            "description": "",
            "_model_name": "FloatProgressModel",
            "bar_style": "",
            "max": 25,
            "_view_module": "@jupyter-widgets/controls",
            "_model_module_version": "1.5.0",
            "value": 25,
            "_view_count": null,
            "_view_module_version": "1.5.0",
            "orientation": "horizontal",
            "min": 0,
            "description_tooltip": null,
            "_model_module": "@jupyter-widgets/controls",
            "layout": "IPY_MODEL_f776e0b71478427ea612c42e0a774555"
          }
        },
        "e727ea056ac24375bf335aed4cbc47d9": {
          "model_module": "@jupyter-widgets/controls",
          "model_name": "HTMLModel",
          "model_module_version": "1.5.0",
          "state": {
            "_view_name": "HTMLView",
            "style": "IPY_MODEL_900c609f9f5143ec815840fbe83f806a",
            "_dom_classes": [],
            "description": "",
            "_model_name": "HTMLModel",
            "placeholder": "​",
            "_view_module": "@jupyter-widgets/controls",
            "_model_module_version": "1.5.0",
            "value": " 25/25 [08:07&lt;00:00, 29.64s/it]",
            "_view_count": null,
            "_view_module_version": "1.5.0",
            "description_tooltip": null,
            "_model_module": "@jupyter-widgets/controls",
            "layout": "IPY_MODEL_d58061e9d5dd438cbbc82f02cd57bd29"
          }
        },
        "3200dcc01e604fbdb213525deed6a4f4": {
          "model_module": "@jupyter-widgets/controls",
          "model_name": "DescriptionStyleModel",
          "model_module_version": "1.5.0",
          "state": {
            "_view_name": "StyleView",
            "_model_name": "DescriptionStyleModel",
            "description_width": "",
            "_view_module": "@jupyter-widgets/base",
            "_model_module_version": "1.5.0",
            "_view_count": null,
            "_view_module_version": "1.2.0",
            "_model_module": "@jupyter-widgets/controls"
          }
        },
        "a81068d2b92041578776c7f10c7f8e94": {
          "model_module": "@jupyter-widgets/base",
          "model_name": "LayoutModel",
          "model_module_version": "1.2.0",
          "state": {
            "_view_name": "LayoutView",
            "grid_template_rows": null,
            "right": null,
            "justify_content": null,
            "_view_module": "@jupyter-widgets/base",
            "overflow": null,
            "_model_module_version": "1.2.0",
            "_view_count": null,
            "flex_flow": null,
            "width": null,
            "min_width": null,
            "border": null,
            "align_items": null,
            "bottom": null,
            "_model_module": "@jupyter-widgets/base",
            "top": null,
            "grid_column": null,
            "overflow_y": null,
            "overflow_x": null,
            "grid_auto_flow": null,
            "grid_area": null,
            "grid_template_columns": null,
            "flex": null,
            "_model_name": "LayoutModel",
            "justify_items": null,
            "grid_row": null,
            "max_height": null,
            "align_content": null,
            "visibility": null,
            "align_self": null,
            "height": null,
            "min_height": null,
            "padding": null,
            "grid_auto_rows": null,
            "grid_gap": null,
            "max_width": null,
            "order": null,
            "_view_module_version": "1.2.0",
            "grid_template_areas": null,
            "object_position": null,
            "object_fit": null,
            "grid_auto_columns": null,
            "margin": null,
            "display": null,
            "left": null
          }
        },
        "974ea82610e148ccbc7612453064c497": {
          "model_module": "@jupyter-widgets/controls",
          "model_name": "ProgressStyleModel",
          "model_module_version": "1.5.0",
          "state": {
            "_view_name": "StyleView",
            "_model_name": "ProgressStyleModel",
            "description_width": "",
            "_view_module": "@jupyter-widgets/base",
            "_model_module_version": "1.5.0",
            "_view_count": null,
            "_view_module_version": "1.2.0",
            "bar_color": null,
            "_model_module": "@jupyter-widgets/controls"
          }
        },
        "f776e0b71478427ea612c42e0a774555": {
          "model_module": "@jupyter-widgets/base",
          "model_name": "LayoutModel",
          "model_module_version": "1.2.0",
          "state": {
            "_view_name": "LayoutView",
            "grid_template_rows": null,
            "right": null,
            "justify_content": null,
            "_view_module": "@jupyter-widgets/base",
            "overflow": null,
            "_model_module_version": "1.2.0",
            "_view_count": null,
            "flex_flow": null,
            "width": null,
            "min_width": null,
            "border": null,
            "align_items": null,
            "bottom": null,
            "_model_module": "@jupyter-widgets/base",
            "top": null,
            "grid_column": null,
            "overflow_y": null,
            "overflow_x": null,
            "grid_auto_flow": null,
            "grid_area": null,
            "grid_template_columns": null,
            "flex": "2",
            "_model_name": "LayoutModel",
            "justify_items": null,
            "grid_row": null,
            "max_height": null,
            "align_content": null,
            "visibility": null,
            "align_self": null,
            "height": null,
            "min_height": null,
            "padding": null,
            "grid_auto_rows": null,
            "grid_gap": null,
            "max_width": null,
            "order": null,
            "_view_module_version": "1.2.0",
            "grid_template_areas": null,
            "object_position": null,
            "object_fit": null,
            "grid_auto_columns": null,
            "margin": null,
            "display": null,
            "left": null
          }
        },
        "900c609f9f5143ec815840fbe83f806a": {
          "model_module": "@jupyter-widgets/controls",
          "model_name": "DescriptionStyleModel",
          "model_module_version": "1.5.0",
          "state": {
            "_view_name": "StyleView",
            "_model_name": "DescriptionStyleModel",
            "description_width": "",
            "_view_module": "@jupyter-widgets/base",
            "_model_module_version": "1.5.0",
            "_view_count": null,
            "_view_module_version": "1.2.0",
            "_model_module": "@jupyter-widgets/controls"
          }
        },
        "d58061e9d5dd438cbbc82f02cd57bd29": {
          "model_module": "@jupyter-widgets/base",
          "model_name": "LayoutModel",
          "model_module_version": "1.2.0",
          "state": {
            "_view_name": "LayoutView",
            "grid_template_rows": null,
            "right": null,
            "justify_content": null,
            "_view_module": "@jupyter-widgets/base",
            "overflow": null,
            "_model_module_version": "1.2.0",
            "_view_count": null,
            "flex_flow": null,
            "width": null,
            "min_width": null,
            "border": null,
            "align_items": null,
            "bottom": null,
            "_model_module": "@jupyter-widgets/base",
            "top": null,
            "grid_column": null,
            "overflow_y": null,
            "overflow_x": null,
            "grid_auto_flow": null,
            "grid_area": null,
            "grid_template_columns": null,
            "flex": null,
            "_model_name": "LayoutModel",
            "justify_items": null,
            "grid_row": null,
            "max_height": null,
            "align_content": null,
            "visibility": null,
            "align_self": null,
            "height": null,
            "min_height": null,
            "padding": null,
            "grid_auto_rows": null,
            "grid_gap": null,
            "max_width": null,
            "order": null,
            "_view_module_version": "1.2.0",
            "grid_template_areas": null,
            "object_position": null,
            "object_fit": null,
            "grid_auto_columns": null,
            "margin": null,
            "display": null,
            "left": null
          }
        },
        "0785d83d6f4f434b82617286111031ff": {
          "model_module": "@jupyter-widgets/controls",
          "model_name": "HBoxModel",
          "model_module_version": "1.5.0",
          "state": {
            "_view_name": "HBoxView",
            "_dom_classes": [],
            "_model_name": "HBoxModel",
            "_view_module": "@jupyter-widgets/controls",
            "_model_module_version": "1.5.0",
            "_view_count": null,
            "_view_module_version": "1.5.0",
            "box_style": "",
            "layout": "IPY_MODEL_6240aa9a2a46421a82b49ca7ed734adf",
            "_model_module": "@jupyter-widgets/controls",
            "children": [
              "IPY_MODEL_a283aae5fb5949ac93c96de605624217",
              "IPY_MODEL_30308394319847bdbf2f774a161b880d",
              "IPY_MODEL_38ff9c1083b14e5eb1dbf388119bf1f6"
            ]
          }
        },
        "6240aa9a2a46421a82b49ca7ed734adf": {
          "model_module": "@jupyter-widgets/base",
          "model_name": "LayoutModel",
          "model_module_version": "1.2.0",
          "state": {
            "_view_name": "LayoutView",
            "grid_template_rows": null,
            "right": null,
            "justify_content": null,
            "_view_module": "@jupyter-widgets/base",
            "overflow": null,
            "_model_module_version": "1.2.0",
            "_view_count": null,
            "flex_flow": "row wrap",
            "width": "100%",
            "min_width": null,
            "border": null,
            "align_items": null,
            "bottom": null,
            "_model_module": "@jupyter-widgets/base",
            "top": null,
            "grid_column": null,
            "overflow_y": null,
            "overflow_x": null,
            "grid_auto_flow": null,
            "grid_area": null,
            "grid_template_columns": null,
            "flex": null,
            "_model_name": "LayoutModel",
            "justify_items": null,
            "grid_row": null,
            "max_height": null,
            "align_content": null,
            "visibility": null,
            "align_self": null,
            "height": null,
            "min_height": null,
            "padding": null,
            "grid_auto_rows": null,
            "grid_gap": null,
            "max_width": null,
            "order": null,
            "_view_module_version": "1.2.0",
            "grid_template_areas": null,
            "object_position": null,
            "object_fit": null,
            "grid_auto_columns": null,
            "margin": null,
            "display": "inline-flex",
            "left": null
          }
        },
        "a283aae5fb5949ac93c96de605624217": {
          "model_module": "@jupyter-widgets/controls",
          "model_name": "HTMLModel",
          "model_module_version": "1.5.0",
          "state": {
            "_view_name": "HTMLView",
            "style": "IPY_MODEL_1b9556ef0c92433186a444ae3353e188",
            "_dom_classes": [],
            "description": "",
            "_model_name": "HTMLModel",
            "placeholder": "​",
            "_view_module": "@jupyter-widgets/controls",
            "_model_module_version": "1.5.0",
            "value": "Loading chromosomes for genome hg38: 100%",
            "_view_count": null,
            "_view_module_version": "1.5.0",
            "description_tooltip": null,
            "_model_module": "@jupyter-widgets/controls",
            "layout": "IPY_MODEL_fca11150234945899b1156bb70a784a2"
          }
        },
        "30308394319847bdbf2f774a161b880d": {
          "model_module": "@jupyter-widgets/controls",
          "model_name": "FloatProgressModel",
          "model_module_version": "1.5.0",
          "state": {
            "_view_name": "ProgressView",
            "style": "IPY_MODEL_d4940ccbe37e43e69a4dba1c962ce920",
            "_dom_classes": [],
            "description": "",
            "_model_name": "FloatProgressModel",
            "bar_style": "",
            "max": 25,
            "_view_module": "@jupyter-widgets/controls",
            "_model_module_version": "1.5.0",
            "value": 25,
            "_view_count": null,
            "_view_module_version": "1.5.0",
            "orientation": "horizontal",
            "min": 0,
            "description_tooltip": null,
            "_model_module": "@jupyter-widgets/controls",
            "layout": "IPY_MODEL_bbe9a758037e4e2d8baa763e4bc0a011"
          }
        },
        "38ff9c1083b14e5eb1dbf388119bf1f6": {
          "model_module": "@jupyter-widgets/controls",
          "model_name": "HTMLModel",
          "model_module_version": "1.5.0",
          "state": {
            "_view_name": "HTMLView",
            "style": "IPY_MODEL_e0fccbaf79484336a06bf91f1f14a29d",
            "_dom_classes": [],
            "description": "",
            "_model_name": "HTMLModel",
            "placeholder": "​",
            "_view_module": "@jupyter-widgets/controls",
            "_model_module_version": "1.5.0",
            "value": " 25/25 [00:08&lt;00:00,  1.75it/s]",
            "_view_count": null,
            "_view_module_version": "1.5.0",
            "description_tooltip": null,
            "_model_module": "@jupyter-widgets/controls",
            "layout": "IPY_MODEL_01214acb41044edfb7a43020e3672470"
          }
        },
        "1b9556ef0c92433186a444ae3353e188": {
          "model_module": "@jupyter-widgets/controls",
          "model_name": "DescriptionStyleModel",
          "model_module_version": "1.5.0",
          "state": {
            "_view_name": "StyleView",
            "_model_name": "DescriptionStyleModel",
            "description_width": "",
            "_view_module": "@jupyter-widgets/base",
            "_model_module_version": "1.5.0",
            "_view_count": null,
            "_view_module_version": "1.2.0",
            "_model_module": "@jupyter-widgets/controls"
          }
        },
        "fca11150234945899b1156bb70a784a2": {
          "model_module": "@jupyter-widgets/base",
          "model_name": "LayoutModel",
          "model_module_version": "1.2.0",
          "state": {
            "_view_name": "LayoutView",
            "grid_template_rows": null,
            "right": null,
            "justify_content": null,
            "_view_module": "@jupyter-widgets/base",
            "overflow": null,
            "_model_module_version": "1.2.0",
            "_view_count": null,
            "flex_flow": null,
            "width": null,
            "min_width": null,
            "border": null,
            "align_items": null,
            "bottom": null,
            "_model_module": "@jupyter-widgets/base",
            "top": null,
            "grid_column": null,
            "overflow_y": null,
            "overflow_x": null,
            "grid_auto_flow": null,
            "grid_area": null,
            "grid_template_columns": null,
            "flex": null,
            "_model_name": "LayoutModel",
            "justify_items": null,
            "grid_row": null,
            "max_height": null,
            "align_content": null,
            "visibility": null,
            "align_self": null,
            "height": null,
            "min_height": null,
            "padding": null,
            "grid_auto_rows": null,
            "grid_gap": null,
            "max_width": null,
            "order": null,
            "_view_module_version": "1.2.0",
            "grid_template_areas": null,
            "object_position": null,
            "object_fit": null,
            "grid_auto_columns": null,
            "margin": null,
            "display": null,
            "left": null
          }
        },
        "d4940ccbe37e43e69a4dba1c962ce920": {
          "model_module": "@jupyter-widgets/controls",
          "model_name": "ProgressStyleModel",
          "model_module_version": "1.5.0",
          "state": {
            "_view_name": "StyleView",
            "_model_name": "ProgressStyleModel",
            "description_width": "",
            "_view_module": "@jupyter-widgets/base",
            "_model_module_version": "1.5.0",
            "_view_count": null,
            "_view_module_version": "1.2.0",
            "bar_color": null,
            "_model_module": "@jupyter-widgets/controls"
          }
        },
        "bbe9a758037e4e2d8baa763e4bc0a011": {
          "model_module": "@jupyter-widgets/base",
          "model_name": "LayoutModel",
          "model_module_version": "1.2.0",
          "state": {
            "_view_name": "LayoutView",
            "grid_template_rows": null,
            "right": null,
            "justify_content": null,
            "_view_module": "@jupyter-widgets/base",
            "overflow": null,
            "_model_module_version": "1.2.0",
            "_view_count": null,
            "flex_flow": null,
            "width": null,
            "min_width": null,
            "border": null,
            "align_items": null,
            "bottom": null,
            "_model_module": "@jupyter-widgets/base",
            "top": null,
            "grid_column": null,
            "overflow_y": null,
            "overflow_x": null,
            "grid_auto_flow": null,
            "grid_area": null,
            "grid_template_columns": null,
            "flex": "2",
            "_model_name": "LayoutModel",
            "justify_items": null,
            "grid_row": null,
            "max_height": null,
            "align_content": null,
            "visibility": null,
            "align_self": null,
            "height": null,
            "min_height": null,
            "padding": null,
            "grid_auto_rows": null,
            "grid_gap": null,
            "max_width": null,
            "order": null,
            "_view_module_version": "1.2.0",
            "grid_template_areas": null,
            "object_position": null,
            "object_fit": null,
            "grid_auto_columns": null,
            "margin": null,
            "display": null,
            "left": null
          }
        },
        "e0fccbaf79484336a06bf91f1f14a29d": {
          "model_module": "@jupyter-widgets/controls",
          "model_name": "DescriptionStyleModel",
          "model_module_version": "1.5.0",
          "state": {
            "_view_name": "StyleView",
            "_model_name": "DescriptionStyleModel",
            "description_width": "",
            "_view_module": "@jupyter-widgets/base",
            "_model_module_version": "1.5.0",
            "_view_count": null,
            "_view_module_version": "1.2.0",
            "_model_module": "@jupyter-widgets/controls"
          }
        },
        "01214acb41044edfb7a43020e3672470": {
          "model_module": "@jupyter-widgets/base",
          "model_name": "LayoutModel",
          "model_module_version": "1.2.0",
          "state": {
            "_view_name": "LayoutView",
            "grid_template_rows": null,
            "right": null,
            "justify_content": null,
            "_view_module": "@jupyter-widgets/base",
            "overflow": null,
            "_model_module_version": "1.2.0",
            "_view_count": null,
            "flex_flow": null,
            "width": null,
            "min_width": null,
            "border": null,
            "align_items": null,
            "bottom": null,
            "_model_module": "@jupyter-widgets/base",
            "top": null,
            "grid_column": null,
            "overflow_y": null,
            "overflow_x": null,
            "grid_auto_flow": null,
            "grid_area": null,
            "grid_template_columns": null,
            "flex": null,
            "_model_name": "LayoutModel",
            "justify_items": null,
            "grid_row": null,
            "max_height": null,
            "align_content": null,
            "visibility": null,
            "align_self": null,
            "height": null,
            "min_height": null,
            "padding": null,
            "grid_auto_rows": null,
            "grid_gap": null,
            "max_width": null,
            "order": null,
            "_view_module_version": "1.2.0",
            "grid_template_areas": null,
            "object_position": null,
            "object_fit": null,
            "grid_auto_columns": null,
            "margin": null,
            "display": null,
            "left": null
          }
        },
        "b5ad4c6f450f4a54a8cf61fbe3a57387": {
          "model_module": "@jupyter-widgets/controls",
          "model_name": "HBoxModel",
          "model_module_version": "1.5.0",
          "state": {
            "_view_name": "HBoxView",
            "_dom_classes": [],
            "_model_name": "HBoxModel",
            "_view_module": "@jupyter-widgets/controls",
            "_model_module_version": "1.5.0",
            "_view_count": null,
            "_view_module_version": "1.5.0",
            "box_style": "",
            "layout": "IPY_MODEL_f54ef932b2b64cda9003c2438e084422",
            "_model_module": "@jupyter-widgets/controls",
            "children": [
              "IPY_MODEL_2229803da73a4828a56c42af22dca43f",
              "IPY_MODEL_304edf93660342d7a3b3d947c1753699",
              "IPY_MODEL_81b49084a9f747d5bfcd4fc5d4c112d8"
            ]
          }
        },
        "f54ef932b2b64cda9003c2438e084422": {
          "model_module": "@jupyter-widgets/base",
          "model_name": "LayoutModel",
          "model_module_version": "1.2.0",
          "state": {
            "_view_name": "LayoutView",
            "grid_template_rows": null,
            "right": null,
            "justify_content": null,
            "_view_module": "@jupyter-widgets/base",
            "overflow": null,
            "_model_module_version": "1.2.0",
            "_view_count": null,
            "flex_flow": "row wrap",
            "width": "100%",
            "min_width": null,
            "border": null,
            "align_items": null,
            "bottom": null,
            "_model_module": "@jupyter-widgets/base",
            "top": null,
            "grid_column": null,
            "overflow_y": null,
            "overflow_x": null,
            "grid_auto_flow": null,
            "grid_area": null,
            "grid_template_columns": null,
            "flex": null,
            "_model_name": "LayoutModel",
            "justify_items": null,
            "grid_row": null,
            "max_height": null,
            "align_content": null,
            "visibility": null,
            "align_self": null,
            "height": null,
            "min_height": null,
            "padding": null,
            "grid_auto_rows": null,
            "grid_gap": null,
            "max_width": null,
            "order": null,
            "_view_module_version": "1.2.0",
            "grid_template_areas": null,
            "object_position": null,
            "object_fit": null,
            "grid_auto_columns": null,
            "margin": null,
            "display": "inline-flex",
            "left": null
          }
        },
        "2229803da73a4828a56c42af22dca43f": {
          "model_module": "@jupyter-widgets/controls",
          "model_name": "HTMLModel",
          "model_module_version": "1.5.0",
          "state": {
            "_view_name": "HTMLView",
            "style": "IPY_MODEL_484adaec400b46089577b18692219b9b",
            "_dom_classes": [],
            "description": "",
            "_model_name": "HTMLModel",
            "placeholder": "​",
            "_view_module": "@jupyter-widgets/controls",
            "_model_module_version": "1.5.0",
            "value": "Downloading to datasets/fantom/...oters/A549.csv.xz:  28%",
            "_view_count": null,
            "_view_module_version": "1.5.0",
            "description_tooltip": null,
            "_model_module": "@jupyter-widgets/controls",
            "layout": "IPY_MODEL_1bd30508295943949e87605606a3d096"
          }
        },
        "304edf93660342d7a3b3d947c1753699": {
          "model_module": "@jupyter-widgets/controls",
          "model_name": "FloatProgressModel",
          "model_module_version": "1.5.0",
          "state": {
            "_view_name": "ProgressView",
            "style": "IPY_MODEL_26b78345b0e0410db3182621e9aeff6a",
            "_dom_classes": [],
            "description": "",
            "_model_name": "FloatProgressModel",
            "bar_style": "",
            "max": 8534948,
            "_view_module": "@jupyter-widgets/controls",
            "_model_module_version": "1.5.0",
            "value": 8534948,
            "_view_count": null,
            "_view_module_version": "1.5.0",
            "orientation": "horizontal",
            "min": 0,
            "description_tooltip": null,
            "_model_module": "@jupyter-widgets/controls",
            "layout": "IPY_MODEL_404d83d2c9e54a369ed0d646a369cec2"
          }
        },
        "81b49084a9f747d5bfcd4fc5d4c112d8": {
          "model_module": "@jupyter-widgets/controls",
          "model_name": "HTMLModel",
          "model_module_version": "1.5.0",
          "state": {
            "_view_name": "HTMLView",
            "style": "IPY_MODEL_049c0f37759844e5b4ddf68ecfd44015",
            "_dom_classes": [],
            "description": "",
            "_model_name": "HTMLModel",
            "placeholder": "​",
            "_view_module": "@jupyter-widgets/controls",
            "_model_module_version": "1.5.0",
            "value": " 2.42M/8.53M [00:00&lt;00:00, 13.9MiB/s]",
            "_view_count": null,
            "_view_module_version": "1.5.0",
            "description_tooltip": null,
            "_model_module": "@jupyter-widgets/controls",
            "layout": "IPY_MODEL_aa331ec03cd14aeca71935f7ef1979ea"
          }
        },
        "484adaec400b46089577b18692219b9b": {
          "model_module": "@jupyter-widgets/controls",
          "model_name": "DescriptionStyleModel",
          "model_module_version": "1.5.0",
          "state": {
            "_view_name": "StyleView",
            "_model_name": "DescriptionStyleModel",
            "description_width": "",
            "_view_module": "@jupyter-widgets/base",
            "_model_module_version": "1.5.0",
            "_view_count": null,
            "_view_module_version": "1.2.0",
            "_model_module": "@jupyter-widgets/controls"
          }
        },
        "1bd30508295943949e87605606a3d096": {
          "model_module": "@jupyter-widgets/base",
          "model_name": "LayoutModel",
          "model_module_version": "1.2.0",
          "state": {
            "_view_name": "LayoutView",
            "grid_template_rows": null,
            "right": null,
            "justify_content": null,
            "_view_module": "@jupyter-widgets/base",
            "overflow": null,
            "_model_module_version": "1.2.0",
            "_view_count": null,
            "flex_flow": null,
            "width": null,
            "min_width": null,
            "border": null,
            "align_items": null,
            "bottom": null,
            "_model_module": "@jupyter-widgets/base",
            "top": null,
            "grid_column": null,
            "overflow_y": null,
            "overflow_x": null,
            "grid_auto_flow": null,
            "grid_area": null,
            "grid_template_columns": null,
            "flex": null,
            "_model_name": "LayoutModel",
            "justify_items": null,
            "grid_row": null,
            "max_height": null,
            "align_content": null,
            "visibility": null,
            "align_self": null,
            "height": null,
            "min_height": null,
            "padding": null,
            "grid_auto_rows": null,
            "grid_gap": null,
            "max_width": null,
            "order": null,
            "_view_module_version": "1.2.0",
            "grid_template_areas": null,
            "object_position": null,
            "object_fit": null,
            "grid_auto_columns": null,
            "margin": null,
            "display": null,
            "left": null
          }
        },
        "26b78345b0e0410db3182621e9aeff6a": {
          "model_module": "@jupyter-widgets/controls",
          "model_name": "ProgressStyleModel",
          "model_module_version": "1.5.0",
          "state": {
            "_view_name": "StyleView",
            "_model_name": "ProgressStyleModel",
            "description_width": "",
            "_view_module": "@jupyter-widgets/base",
            "_model_module_version": "1.5.0",
            "_view_count": null,
            "_view_module_version": "1.2.0",
            "bar_color": null,
            "_model_module": "@jupyter-widgets/controls"
          }
        },
        "404d83d2c9e54a369ed0d646a369cec2": {
          "model_module": "@jupyter-widgets/base",
          "model_name": "LayoutModel",
          "model_module_version": "1.2.0",
          "state": {
            "_view_name": "LayoutView",
            "grid_template_rows": null,
            "right": null,
            "justify_content": null,
            "_view_module": "@jupyter-widgets/base",
            "overflow": null,
            "_model_module_version": "1.2.0",
            "_view_count": null,
            "flex_flow": null,
            "width": null,
            "min_width": null,
            "border": null,
            "align_items": null,
            "bottom": null,
            "_model_module": "@jupyter-widgets/base",
            "top": null,
            "grid_column": null,
            "overflow_y": null,
            "overflow_x": null,
            "grid_auto_flow": null,
            "grid_area": null,
            "grid_template_columns": null,
            "flex": "2",
            "_model_name": "LayoutModel",
            "justify_items": null,
            "grid_row": null,
            "max_height": null,
            "align_content": null,
            "visibility": null,
            "align_self": null,
            "height": null,
            "min_height": null,
            "padding": null,
            "grid_auto_rows": null,
            "grid_gap": null,
            "max_width": null,
            "order": null,
            "_view_module_version": "1.2.0",
            "grid_template_areas": null,
            "object_position": null,
            "object_fit": null,
            "grid_auto_columns": null,
            "margin": null,
            "display": null,
            "left": null
          }
        },
        "049c0f37759844e5b4ddf68ecfd44015": {
          "model_module": "@jupyter-widgets/controls",
          "model_name": "DescriptionStyleModel",
          "model_module_version": "1.5.0",
          "state": {
            "_view_name": "StyleView",
            "_model_name": "DescriptionStyleModel",
            "description_width": "",
            "_view_module": "@jupyter-widgets/base",
            "_model_module_version": "1.5.0",
            "_view_count": null,
            "_view_module_version": "1.2.0",
            "_model_module": "@jupyter-widgets/controls"
          }
        },
        "aa331ec03cd14aeca71935f7ef1979ea": {
          "model_module": "@jupyter-widgets/base",
          "model_name": "LayoutModel",
          "model_module_version": "1.2.0",
          "state": {
            "_view_name": "LayoutView",
            "grid_template_rows": null,
            "right": null,
            "justify_content": null,
            "_view_module": "@jupyter-widgets/base",
            "overflow": null,
            "_model_module_version": "1.2.0",
            "_view_count": null,
            "flex_flow": null,
            "width": null,
            "min_width": null,
            "border": null,
            "align_items": null,
            "bottom": null,
            "_model_module": "@jupyter-widgets/base",
            "top": null,
            "grid_column": null,
            "overflow_y": null,
            "overflow_x": null,
            "grid_auto_flow": null,
            "grid_area": null,
            "grid_template_columns": null,
            "flex": null,
            "_model_name": "LayoutModel",
            "justify_items": null,
            "grid_row": null,
            "max_height": null,
            "align_content": null,
            "visibility": null,
            "align_self": null,
            "height": null,
            "min_height": null,
            "padding": null,
            "grid_auto_rows": null,
            "grid_gap": null,
            "max_width": null,
            "order": null,
            "_view_module_version": "1.2.0",
            "grid_template_areas": null,
            "object_position": null,
            "object_fit": null,
            "grid_auto_columns": null,
            "margin": null,
            "display": null,
            "left": null
          }
        },
        "425ee5eaf4ec4a87a3cc42bbddd3095d": {
          "model_module": "@jupyter-widgets/controls",
          "model_name": "HBoxModel",
          "model_module_version": "1.5.0",
          "state": {
            "_view_name": "HBoxView",
            "_dom_classes": [],
            "_model_name": "HBoxModel",
            "_view_module": "@jupyter-widgets/controls",
            "_model_module_version": "1.5.0",
            "_view_count": null,
            "_view_module_version": "1.5.0",
            "box_style": "",
            "layout": "IPY_MODEL_142ff68a27e944f7966c84794c48ba0d",
            "_model_module": "@jupyter-widgets/controls",
            "children": [
              "IPY_MODEL_b205c4f2792e4395ae526e3b143fa013",
              "IPY_MODEL_69f6c12572114c4f9e01d430e983a98d",
              "IPY_MODEL_271d82a7c22c4eee9af1bbe5cc11c4e4"
            ]
          }
        },
        "142ff68a27e944f7966c84794c48ba0d": {
          "model_module": "@jupyter-widgets/base",
          "model_name": "LayoutModel",
          "model_module_version": "1.2.0",
          "state": {
            "_view_name": "LayoutView",
            "grid_template_rows": null,
            "right": null,
            "justify_content": null,
            "_view_module": "@jupyter-widgets/base",
            "overflow": null,
            "_model_module_version": "1.2.0",
            "_view_count": null,
            "flex_flow": "row wrap",
            "width": "100%",
            "min_width": null,
            "border": null,
            "align_items": null,
            "bottom": null,
            "_model_module": "@jupyter-widgets/base",
            "top": null,
            "grid_column": null,
            "overflow_y": null,
            "overflow_x": null,
            "grid_auto_flow": null,
            "grid_area": null,
            "grid_template_columns": null,
            "flex": null,
            "_model_name": "LayoutModel",
            "justify_items": null,
            "grid_row": null,
            "max_height": null,
            "align_content": null,
            "visibility": null,
            "align_self": null,
            "height": null,
            "min_height": null,
            "padding": null,
            "grid_auto_rows": null,
            "grid_gap": null,
            "max_width": null,
            "order": null,
            "_view_module_version": "1.2.0",
            "grid_template_areas": null,
            "object_position": null,
            "object_fit": null,
            "grid_auto_columns": null,
            "margin": null,
            "display": "inline-flex",
            "left": null
          }
        },
        "b205c4f2792e4395ae526e3b143fa013": {
          "model_module": "@jupyter-widgets/controls",
          "model_name": "HTMLModel",
          "model_module_version": "1.5.0",
          "state": {
            "_view_name": "HTMLView",
            "style": "IPY_MODEL_53035987890a44ad86956971ec99d26d",
            "_dom_classes": [],
            "description": "",
            "_model_name": "HTMLModel",
            "placeholder": "​",
            "_view_module": "@jupyter-widgets/controls",
            "_model_module_version": "1.5.0",
            "value": "Downloading to datasets/fantom/.../promoters.bed.xz:  38%",
            "_view_count": null,
            "_view_module_version": "1.5.0",
            "description_tooltip": null,
            "_model_module": "@jupyter-widgets/controls",
            "layout": "IPY_MODEL_485ee625448a4545a8c1868ceb070488"
          }
        },
        "69f6c12572114c4f9e01d430e983a98d": {
          "model_module": "@jupyter-widgets/controls",
          "model_name": "FloatProgressModel",
          "model_module_version": "1.5.0",
          "state": {
            "_view_name": "ProgressView",
            "style": "IPY_MODEL_4d26ef0d20be438d8aa344f0e609acc3",
            "_dom_classes": [],
            "description": "",
            "_model_name": "FloatProgressModel",
            "bar_style": "",
            "max": 1219872,
            "_view_module": "@jupyter-widgets/controls",
            "_model_module_version": "1.5.0",
            "value": 1219872,
            "_view_count": null,
            "_view_module_version": "1.5.0",
            "orientation": "horizontal",
            "min": 0,
            "description_tooltip": null,
            "_model_module": "@jupyter-widgets/controls",
            "layout": "IPY_MODEL_e9802da5c7b54987bdf0cf132b4e1f87"
          }
        },
        "271d82a7c22c4eee9af1bbe5cc11c4e4": {
          "model_module": "@jupyter-widgets/controls",
          "model_name": "HTMLModel",
          "model_module_version": "1.5.0",
          "state": {
            "_view_name": "HTMLView",
            "style": "IPY_MODEL_9b881b7a8b3547ae8b347c282f0f14dd",
            "_dom_classes": [],
            "description": "",
            "_model_name": "HTMLModel",
            "placeholder": "​",
            "_view_module": "@jupyter-widgets/controls",
            "_model_module_version": "1.5.0",
            "value": " 459k/1.22M [00:00&lt;00:00, 2.33MiB/s]",
            "_view_count": null,
            "_view_module_version": "1.5.0",
            "description_tooltip": null,
            "_model_module": "@jupyter-widgets/controls",
            "layout": "IPY_MODEL_c9a72c88feb94342abbff3e4dd65f96d"
          }
        },
        "53035987890a44ad86956971ec99d26d": {
          "model_module": "@jupyter-widgets/controls",
          "model_name": "DescriptionStyleModel",
          "model_module_version": "1.5.0",
          "state": {
            "_view_name": "StyleView",
            "_model_name": "DescriptionStyleModel",
            "description_width": "",
            "_view_module": "@jupyter-widgets/base",
            "_model_module_version": "1.5.0",
            "_view_count": null,
            "_view_module_version": "1.2.0",
            "_model_module": "@jupyter-widgets/controls"
          }
        },
        "485ee625448a4545a8c1868ceb070488": {
          "model_module": "@jupyter-widgets/base",
          "model_name": "LayoutModel",
          "model_module_version": "1.2.0",
          "state": {
            "_view_name": "LayoutView",
            "grid_template_rows": null,
            "right": null,
            "justify_content": null,
            "_view_module": "@jupyter-widgets/base",
            "overflow": null,
            "_model_module_version": "1.2.0",
            "_view_count": null,
            "flex_flow": null,
            "width": null,
            "min_width": null,
            "border": null,
            "align_items": null,
            "bottom": null,
            "_model_module": "@jupyter-widgets/base",
            "top": null,
            "grid_column": null,
            "overflow_y": null,
            "overflow_x": null,
            "grid_auto_flow": null,
            "grid_area": null,
            "grid_template_columns": null,
            "flex": null,
            "_model_name": "LayoutModel",
            "justify_items": null,
            "grid_row": null,
            "max_height": null,
            "align_content": null,
            "visibility": null,
            "align_self": null,
            "height": null,
            "min_height": null,
            "padding": null,
            "grid_auto_rows": null,
            "grid_gap": null,
            "max_width": null,
            "order": null,
            "_view_module_version": "1.2.0",
            "grid_template_areas": null,
            "object_position": null,
            "object_fit": null,
            "grid_auto_columns": null,
            "margin": null,
            "display": null,
            "left": null
          }
        },
        "4d26ef0d20be438d8aa344f0e609acc3": {
          "model_module": "@jupyter-widgets/controls",
          "model_name": "ProgressStyleModel",
          "model_module_version": "1.5.0",
          "state": {
            "_view_name": "StyleView",
            "_model_name": "ProgressStyleModel",
            "description_width": "",
            "_view_module": "@jupyter-widgets/base",
            "_model_module_version": "1.5.0",
            "_view_count": null,
            "_view_module_version": "1.2.0",
            "bar_color": null,
            "_model_module": "@jupyter-widgets/controls"
          }
        },
        "e9802da5c7b54987bdf0cf132b4e1f87": {
          "model_module": "@jupyter-widgets/base",
          "model_name": "LayoutModel",
          "model_module_version": "1.2.0",
          "state": {
            "_view_name": "LayoutView",
            "grid_template_rows": null,
            "right": null,
            "justify_content": null,
            "_view_module": "@jupyter-widgets/base",
            "overflow": null,
            "_model_module_version": "1.2.0",
            "_view_count": null,
            "flex_flow": null,
            "width": null,
            "min_width": null,
            "border": null,
            "align_items": null,
            "bottom": null,
            "_model_module": "@jupyter-widgets/base",
            "top": null,
            "grid_column": null,
            "overflow_y": null,
            "overflow_x": null,
            "grid_auto_flow": null,
            "grid_area": null,
            "grid_template_columns": null,
            "flex": "2",
            "_model_name": "LayoutModel",
            "justify_items": null,
            "grid_row": null,
            "max_height": null,
            "align_content": null,
            "visibility": null,
            "align_self": null,
            "height": null,
            "min_height": null,
            "padding": null,
            "grid_auto_rows": null,
            "grid_gap": null,
            "max_width": null,
            "order": null,
            "_view_module_version": "1.2.0",
            "grid_template_areas": null,
            "object_position": null,
            "object_fit": null,
            "grid_auto_columns": null,
            "margin": null,
            "display": null,
            "left": null
          }
        },
        "9b881b7a8b3547ae8b347c282f0f14dd": {
          "model_module": "@jupyter-widgets/controls",
          "model_name": "DescriptionStyleModel",
          "model_module_version": "1.5.0",
          "state": {
            "_view_name": "StyleView",
            "_model_name": "DescriptionStyleModel",
            "description_width": "",
            "_view_module": "@jupyter-widgets/base",
            "_model_module_version": "1.5.0",
            "_view_count": null,
            "_view_module_version": "1.2.0",
            "_model_module": "@jupyter-widgets/controls"
          }
        },
        "c9a72c88feb94342abbff3e4dd65f96d": {
          "model_module": "@jupyter-widgets/base",
          "model_name": "LayoutModel",
          "model_module_version": "1.2.0",
          "state": {
            "_view_name": "LayoutView",
            "grid_template_rows": null,
            "right": null,
            "justify_content": null,
            "_view_module": "@jupyter-widgets/base",
            "overflow": null,
            "_model_module_version": "1.2.0",
            "_view_count": null,
            "flex_flow": null,
            "width": null,
            "min_width": null,
            "border": null,
            "align_items": null,
            "bottom": null,
            "_model_module": "@jupyter-widgets/base",
            "top": null,
            "grid_column": null,
            "overflow_y": null,
            "overflow_x": null,
            "grid_auto_flow": null,
            "grid_area": null,
            "grid_template_columns": null,
            "flex": null,
            "_model_name": "LayoutModel",
            "justify_items": null,
            "grid_row": null,
            "max_height": null,
            "align_content": null,
            "visibility": null,
            "align_self": null,
            "height": null,
            "min_height": null,
            "padding": null,
            "grid_auto_rows": null,
            "grid_gap": null,
            "max_width": null,
            "order": null,
            "_view_module_version": "1.2.0",
            "grid_template_areas": null,
            "object_position": null,
            "object_fit": null,
            "grid_auto_columns": null,
            "margin": null,
            "display": null,
            "left": null
          }
        },
        "03c4c4310734437498b9c44e451c004e": {
          "model_module": "@jupyter-widgets/controls",
          "model_name": "HBoxModel",
          "model_module_version": "1.5.0",
          "state": {
            "_view_name": "HBoxView",
            "_dom_classes": [],
            "_model_name": "HBoxModel",
            "_view_module": "@jupyter-widgets/controls",
            "_model_module_version": "1.5.0",
            "_view_count": null,
            "_view_module_version": "1.5.0",
            "box_style": "",
            "layout": "IPY_MODEL_30082188a9a54b12874514553b4cf21a",
            "_model_module": "@jupyter-widgets/controls",
            "children": [
              "IPY_MODEL_6c5e5280b52944fe865a252fac0a64a0",
              "IPY_MODEL_86ebdecd24ed4a069c74a6e79e1ce7f5",
              "IPY_MODEL_27e1ef26026249ca830de72b329c79a3"
            ]
          }
        },
        "30082188a9a54b12874514553b4cf21a": {
          "model_module": "@jupyter-widgets/base",
          "model_name": "LayoutModel",
          "model_module_version": "1.2.0",
          "state": {
            "_view_name": "LayoutView",
            "grid_template_rows": null,
            "right": null,
            "justify_content": null,
            "_view_module": "@jupyter-widgets/base",
            "overflow": null,
            "_model_module_version": "1.2.0",
            "_view_count": null,
            "flex_flow": "row wrap",
            "width": "100%",
            "min_width": null,
            "border": null,
            "align_items": null,
            "bottom": null,
            "_model_module": "@jupyter-widgets/base",
            "top": null,
            "grid_column": null,
            "overflow_y": null,
            "overflow_x": null,
            "grid_auto_flow": null,
            "grid_area": null,
            "grid_template_columns": null,
            "flex": null,
            "_model_name": "LayoutModel",
            "justify_items": null,
            "grid_row": null,
            "max_height": null,
            "align_content": null,
            "visibility": null,
            "align_self": null,
            "height": null,
            "min_height": null,
            "padding": null,
            "grid_auto_rows": null,
            "grid_gap": null,
            "max_width": null,
            "order": null,
            "_view_module_version": "1.2.0",
            "grid_template_areas": null,
            "object_position": null,
            "object_fit": null,
            "grid_auto_columns": null,
            "margin": null,
            "display": "inline-flex",
            "left": null
          }
        },
        "6c5e5280b52944fe865a252fac0a64a0": {
          "model_module": "@jupyter-widgets/controls",
          "model_name": "HTMLModel",
          "model_module_version": "1.5.0",
          "state": {
            "_view_name": "HTMLView",
            "style": "IPY_MODEL_c25749cb0c0f4ce19f30b5b6981c22ee",
            "_dom_classes": [],
            "description": "",
            "_model_name": "HTMLModel",
            "placeholder": "​",
            "_view_module": "@jupyter-widgets/controls",
            "_model_module_version": "1.5.0",
            "value": "Downloading to datasets/fantom/...ncers/A549.csv.xz:  86%",
            "_view_count": null,
            "_view_module_version": "1.5.0",
            "description_tooltip": null,
            "_model_module": "@jupyter-widgets/controls",
            "layout": "IPY_MODEL_ca39b8b0082f4969895ba009d52627d0"
          }
        },
        "86ebdecd24ed4a069c74a6e79e1ce7f5": {
          "model_module": "@jupyter-widgets/controls",
          "model_name": "FloatProgressModel",
          "model_module_version": "1.5.0",
          "state": {
            "_view_name": "ProgressView",
            "style": "IPY_MODEL_c07fffb4b0f24cd5847092f2803f09d7",
            "_dom_classes": [],
            "description": "",
            "_model_name": "FloatProgressModel",
            "bar_style": "",
            "max": 5136592,
            "_view_module": "@jupyter-widgets/controls",
            "_model_module_version": "1.5.0",
            "value": 5136592,
            "_view_count": null,
            "_view_module_version": "1.5.0",
            "orientation": "horizontal",
            "min": 0,
            "description_tooltip": null,
            "_model_module": "@jupyter-widgets/controls",
            "layout": "IPY_MODEL_463814839b1b468e9bb79584d3793c1f"
          }
        },
        "27e1ef26026249ca830de72b329c79a3": {
          "model_module": "@jupyter-widgets/controls",
          "model_name": "HTMLModel",
          "model_module_version": "1.5.0",
          "state": {
            "_view_name": "HTMLView",
            "style": "IPY_MODEL_246afaef3837463d8f98d8155149fd8a",
            "_dom_classes": [],
            "description": "",
            "_model_name": "HTMLModel",
            "placeholder": "​",
            "_view_module": "@jupyter-widgets/controls",
            "_model_module_version": "1.5.0",
            "value": " 4.42M/5.14M [00:00&lt;00:00, 16.2MiB/s]",
            "_view_count": null,
            "_view_module_version": "1.5.0",
            "description_tooltip": null,
            "_model_module": "@jupyter-widgets/controls",
            "layout": "IPY_MODEL_697fa07a765e409cb5ae47df3fa10b2e"
          }
        },
        "c25749cb0c0f4ce19f30b5b6981c22ee": {
          "model_module": "@jupyter-widgets/controls",
          "model_name": "DescriptionStyleModel",
          "model_module_version": "1.5.0",
          "state": {
            "_view_name": "StyleView",
            "_model_name": "DescriptionStyleModel",
            "description_width": "",
            "_view_module": "@jupyter-widgets/base",
            "_model_module_version": "1.5.0",
            "_view_count": null,
            "_view_module_version": "1.2.0",
            "_model_module": "@jupyter-widgets/controls"
          }
        },
        "ca39b8b0082f4969895ba009d52627d0": {
          "model_module": "@jupyter-widgets/base",
          "model_name": "LayoutModel",
          "model_module_version": "1.2.0",
          "state": {
            "_view_name": "LayoutView",
            "grid_template_rows": null,
            "right": null,
            "justify_content": null,
            "_view_module": "@jupyter-widgets/base",
            "overflow": null,
            "_model_module_version": "1.2.0",
            "_view_count": null,
            "flex_flow": null,
            "width": null,
            "min_width": null,
            "border": null,
            "align_items": null,
            "bottom": null,
            "_model_module": "@jupyter-widgets/base",
            "top": null,
            "grid_column": null,
            "overflow_y": null,
            "overflow_x": null,
            "grid_auto_flow": null,
            "grid_area": null,
            "grid_template_columns": null,
            "flex": null,
            "_model_name": "LayoutModel",
            "justify_items": null,
            "grid_row": null,
            "max_height": null,
            "align_content": null,
            "visibility": null,
            "align_self": null,
            "height": null,
            "min_height": null,
            "padding": null,
            "grid_auto_rows": null,
            "grid_gap": null,
            "max_width": null,
            "order": null,
            "_view_module_version": "1.2.0",
            "grid_template_areas": null,
            "object_position": null,
            "object_fit": null,
            "grid_auto_columns": null,
            "margin": null,
            "display": null,
            "left": null
          }
        },
        "c07fffb4b0f24cd5847092f2803f09d7": {
          "model_module": "@jupyter-widgets/controls",
          "model_name": "ProgressStyleModel",
          "model_module_version": "1.5.0",
          "state": {
            "_view_name": "StyleView",
            "_model_name": "ProgressStyleModel",
            "description_width": "",
            "_view_module": "@jupyter-widgets/base",
            "_model_module_version": "1.5.0",
            "_view_count": null,
            "_view_module_version": "1.2.0",
            "bar_color": null,
            "_model_module": "@jupyter-widgets/controls"
          }
        },
        "463814839b1b468e9bb79584d3793c1f": {
          "model_module": "@jupyter-widgets/base",
          "model_name": "LayoutModel",
          "model_module_version": "1.2.0",
          "state": {
            "_view_name": "LayoutView",
            "grid_template_rows": null,
            "right": null,
            "justify_content": null,
            "_view_module": "@jupyter-widgets/base",
            "overflow": null,
            "_model_module_version": "1.2.0",
            "_view_count": null,
            "flex_flow": null,
            "width": null,
            "min_width": null,
            "border": null,
            "align_items": null,
            "bottom": null,
            "_model_module": "@jupyter-widgets/base",
            "top": null,
            "grid_column": null,
            "overflow_y": null,
            "overflow_x": null,
            "grid_auto_flow": null,
            "grid_area": null,
            "grid_template_columns": null,
            "flex": "2",
            "_model_name": "LayoutModel",
            "justify_items": null,
            "grid_row": null,
            "max_height": null,
            "align_content": null,
            "visibility": null,
            "align_self": null,
            "height": null,
            "min_height": null,
            "padding": null,
            "grid_auto_rows": null,
            "grid_gap": null,
            "max_width": null,
            "order": null,
            "_view_module_version": "1.2.0",
            "grid_template_areas": null,
            "object_position": null,
            "object_fit": null,
            "grid_auto_columns": null,
            "margin": null,
            "display": null,
            "left": null
          }
        },
        "246afaef3837463d8f98d8155149fd8a": {
          "model_module": "@jupyter-widgets/controls",
          "model_name": "DescriptionStyleModel",
          "model_module_version": "1.5.0",
          "state": {
            "_view_name": "StyleView",
            "_model_name": "DescriptionStyleModel",
            "description_width": "",
            "_view_module": "@jupyter-widgets/base",
            "_model_module_version": "1.5.0",
            "_view_count": null,
            "_view_module_version": "1.2.0",
            "_model_module": "@jupyter-widgets/controls"
          }
        },
        "697fa07a765e409cb5ae47df3fa10b2e": {
          "model_module": "@jupyter-widgets/base",
          "model_name": "LayoutModel",
          "model_module_version": "1.2.0",
          "state": {
            "_view_name": "LayoutView",
            "grid_template_rows": null,
            "right": null,
            "justify_content": null,
            "_view_module": "@jupyter-widgets/base",
            "overflow": null,
            "_model_module_version": "1.2.0",
            "_view_count": null,
            "flex_flow": null,
            "width": null,
            "min_width": null,
            "border": null,
            "align_items": null,
            "bottom": null,
            "_model_module": "@jupyter-widgets/base",
            "top": null,
            "grid_column": null,
            "overflow_y": null,
            "overflow_x": null,
            "grid_auto_flow": null,
            "grid_area": null,
            "grid_template_columns": null,
            "flex": null,
            "_model_name": "LayoutModel",
            "justify_items": null,
            "grid_row": null,
            "max_height": null,
            "align_content": null,
            "visibility": null,
            "align_self": null,
            "height": null,
            "min_height": null,
            "padding": null,
            "grid_auto_rows": null,
            "grid_gap": null,
            "max_width": null,
            "order": null,
            "_view_module_version": "1.2.0",
            "grid_template_areas": null,
            "object_position": null,
            "object_fit": null,
            "grid_auto_columns": null,
            "margin": null,
            "display": null,
            "left": null
          }
        },
        "d4eb27b4822f4564a58145280c5c976a": {
          "model_module": "@jupyter-widgets/controls",
          "model_name": "HBoxModel",
          "model_module_version": "1.5.0",
          "state": {
            "_view_name": "HBoxView",
            "_dom_classes": [],
            "_model_name": "HBoxModel",
            "_view_module": "@jupyter-widgets/controls",
            "_model_module_version": "1.5.0",
            "_view_count": null,
            "_view_module_version": "1.5.0",
            "box_style": "",
            "layout": "IPY_MODEL_548f5d85a54e457486eb0d3fee983e2c",
            "_model_module": "@jupyter-widgets/controls",
            "children": [
              "IPY_MODEL_1b60440ac1ce4cb8a2528fbffd64ab97",
              "IPY_MODEL_feee33fd6caf4167a27b60d94ee97bfb",
              "IPY_MODEL_5957551cdc504f1b9fb93c3cb777ed53"
            ]
          }
        },
        "548f5d85a54e457486eb0d3fee983e2c": {
          "model_module": "@jupyter-widgets/base",
          "model_name": "LayoutModel",
          "model_module_version": "1.2.0",
          "state": {
            "_view_name": "LayoutView",
            "grid_template_rows": null,
            "right": null,
            "justify_content": null,
            "_view_module": "@jupyter-widgets/base",
            "overflow": null,
            "_model_module_version": "1.2.0",
            "_view_count": null,
            "flex_flow": "row wrap",
            "width": "100%",
            "min_width": null,
            "border": null,
            "align_items": null,
            "bottom": null,
            "_model_module": "@jupyter-widgets/base",
            "top": null,
            "grid_column": null,
            "overflow_y": null,
            "overflow_x": null,
            "grid_auto_flow": null,
            "grid_area": null,
            "grid_template_columns": null,
            "flex": null,
            "_model_name": "LayoutModel",
            "justify_items": null,
            "grid_row": null,
            "max_height": null,
            "align_content": null,
            "visibility": null,
            "align_self": null,
            "height": null,
            "min_height": null,
            "padding": null,
            "grid_auto_rows": null,
            "grid_gap": null,
            "max_width": null,
            "order": null,
            "_view_module_version": "1.2.0",
            "grid_template_areas": null,
            "object_position": null,
            "object_fit": null,
            "grid_auto_columns": null,
            "margin": null,
            "display": "inline-flex",
            "left": null
          }
        },
        "1b60440ac1ce4cb8a2528fbffd64ab97": {
          "model_module": "@jupyter-widgets/controls",
          "model_name": "HTMLModel",
          "model_module_version": "1.5.0",
          "state": {
            "_view_name": "HTMLView",
            "style": "IPY_MODEL_8a527dd30f3146e08ff7eb0593e56af9",
            "_dom_classes": [],
            "description": "",
            "_model_name": "HTMLModel",
            "placeholder": "​",
            "_view_module": "@jupyter-widgets/controls",
            "_model_module_version": "1.5.0",
            "value": "Downloading to datasets/fantom/.../enhancers.bed.xz:  78%",
            "_view_count": null,
            "_view_module_version": "1.5.0",
            "description_tooltip": null,
            "_model_module": "@jupyter-widgets/controls",
            "layout": "IPY_MODEL_aecad40b479e42118cbc6b9783a8fc2e"
          }
        },
        "feee33fd6caf4167a27b60d94ee97bfb": {
          "model_module": "@jupyter-widgets/controls",
          "model_name": "FloatProgressModel",
          "model_module_version": "1.5.0",
          "state": {
            "_view_name": "ProgressView",
            "style": "IPY_MODEL_41b35afb86aa4c1abc4e30ad1c86171a",
            "_dom_classes": [],
            "description": "",
            "_model_name": "FloatProgressModel",
            "bar_style": "",
            "max": 460128,
            "_view_module": "@jupyter-widgets/controls",
            "_model_module_version": "1.5.0",
            "value": 460128,
            "_view_count": null,
            "_view_module_version": "1.5.0",
            "orientation": "horizontal",
            "min": 0,
            "description_tooltip": null,
            "_model_module": "@jupyter-widgets/controls",
            "layout": "IPY_MODEL_c50ee09184324cdba4a5c0822679fa2d"
          }
        },
        "5957551cdc504f1b9fb93c3cb777ed53": {
          "model_module": "@jupyter-widgets/controls",
          "model_name": "HTMLModel",
          "model_module_version": "1.5.0",
          "state": {
            "_view_name": "HTMLView",
            "style": "IPY_MODEL_1315bdffaf324cabbe50022fede62849",
            "_dom_classes": [],
            "description": "",
            "_model_name": "HTMLModel",
            "placeholder": "​",
            "_view_module": "@jupyter-widgets/controls",
            "_model_module_version": "1.5.0",
            "value": " 360k/460k [00:00&lt;00:00, 1.12MiB/s]",
            "_view_count": null,
            "_view_module_version": "1.5.0",
            "description_tooltip": null,
            "_model_module": "@jupyter-widgets/controls",
            "layout": "IPY_MODEL_a84ade18f96a4d689b60b8bb768787ca"
          }
        },
        "8a527dd30f3146e08ff7eb0593e56af9": {
          "model_module": "@jupyter-widgets/controls",
          "model_name": "DescriptionStyleModel",
          "model_module_version": "1.5.0",
          "state": {
            "_view_name": "StyleView",
            "_model_name": "DescriptionStyleModel",
            "description_width": "",
            "_view_module": "@jupyter-widgets/base",
            "_model_module_version": "1.5.0",
            "_view_count": null,
            "_view_module_version": "1.2.0",
            "_model_module": "@jupyter-widgets/controls"
          }
        },
        "aecad40b479e42118cbc6b9783a8fc2e": {
          "model_module": "@jupyter-widgets/base",
          "model_name": "LayoutModel",
          "model_module_version": "1.2.0",
          "state": {
            "_view_name": "LayoutView",
            "grid_template_rows": null,
            "right": null,
            "justify_content": null,
            "_view_module": "@jupyter-widgets/base",
            "overflow": null,
            "_model_module_version": "1.2.0",
            "_view_count": null,
            "flex_flow": null,
            "width": null,
            "min_width": null,
            "border": null,
            "align_items": null,
            "bottom": null,
            "_model_module": "@jupyter-widgets/base",
            "top": null,
            "grid_column": null,
            "overflow_y": null,
            "overflow_x": null,
            "grid_auto_flow": null,
            "grid_area": null,
            "grid_template_columns": null,
            "flex": null,
            "_model_name": "LayoutModel",
            "justify_items": null,
            "grid_row": null,
            "max_height": null,
            "align_content": null,
            "visibility": null,
            "align_self": null,
            "height": null,
            "min_height": null,
            "padding": null,
            "grid_auto_rows": null,
            "grid_gap": null,
            "max_width": null,
            "order": null,
            "_view_module_version": "1.2.0",
            "grid_template_areas": null,
            "object_position": null,
            "object_fit": null,
            "grid_auto_columns": null,
            "margin": null,
            "display": null,
            "left": null
          }
        },
        "41b35afb86aa4c1abc4e30ad1c86171a": {
          "model_module": "@jupyter-widgets/controls",
          "model_name": "ProgressStyleModel",
          "model_module_version": "1.5.0",
          "state": {
            "_view_name": "StyleView",
            "_model_name": "ProgressStyleModel",
            "description_width": "",
            "_view_module": "@jupyter-widgets/base",
            "_model_module_version": "1.5.0",
            "_view_count": null,
            "_view_module_version": "1.2.0",
            "bar_color": null,
            "_model_module": "@jupyter-widgets/controls"
          }
        },
        "c50ee09184324cdba4a5c0822679fa2d": {
          "model_module": "@jupyter-widgets/base",
          "model_name": "LayoutModel",
          "model_module_version": "1.2.0",
          "state": {
            "_view_name": "LayoutView",
            "grid_template_rows": null,
            "right": null,
            "justify_content": null,
            "_view_module": "@jupyter-widgets/base",
            "overflow": null,
            "_model_module_version": "1.2.0",
            "_view_count": null,
            "flex_flow": null,
            "width": null,
            "min_width": null,
            "border": null,
            "align_items": null,
            "bottom": null,
            "_model_module": "@jupyter-widgets/base",
            "top": null,
            "grid_column": null,
            "overflow_y": null,
            "overflow_x": null,
            "grid_auto_flow": null,
            "grid_area": null,
            "grid_template_columns": null,
            "flex": "2",
            "_model_name": "LayoutModel",
            "justify_items": null,
            "grid_row": null,
            "max_height": null,
            "align_content": null,
            "visibility": null,
            "align_self": null,
            "height": null,
            "min_height": null,
            "padding": null,
            "grid_auto_rows": null,
            "grid_gap": null,
            "max_width": null,
            "order": null,
            "_view_module_version": "1.2.0",
            "grid_template_areas": null,
            "object_position": null,
            "object_fit": null,
            "grid_auto_columns": null,
            "margin": null,
            "display": null,
            "left": null
          }
        },
        "1315bdffaf324cabbe50022fede62849": {
          "model_module": "@jupyter-widgets/controls",
          "model_name": "DescriptionStyleModel",
          "model_module_version": "1.5.0",
          "state": {
            "_view_name": "StyleView",
            "_model_name": "DescriptionStyleModel",
            "description_width": "",
            "_view_module": "@jupyter-widgets/base",
            "_model_module_version": "1.5.0",
            "_view_count": null,
            "_view_module_version": "1.2.0",
            "_model_module": "@jupyter-widgets/controls"
          }
        },
        "a84ade18f96a4d689b60b8bb768787ca": {
          "model_module": "@jupyter-widgets/base",
          "model_name": "LayoutModel",
          "model_module_version": "1.2.0",
          "state": {
            "_view_name": "LayoutView",
            "grid_template_rows": null,
            "right": null,
            "justify_content": null,
            "_view_module": "@jupyter-widgets/base",
            "overflow": null,
            "_model_module_version": "1.2.0",
            "_view_count": null,
            "flex_flow": null,
            "width": null,
            "min_width": null,
            "border": null,
            "align_items": null,
            "bottom": null,
            "_model_module": "@jupyter-widgets/base",
            "top": null,
            "grid_column": null,
            "overflow_y": null,
            "overflow_x": null,
            "grid_auto_flow": null,
            "grid_area": null,
            "grid_template_columns": null,
            "flex": null,
            "_model_name": "LayoutModel",
            "justify_items": null,
            "grid_row": null,
            "max_height": null,
            "align_content": null,
            "visibility": null,
            "align_self": null,
            "height": null,
            "min_height": null,
            "padding": null,
            "grid_auto_rows": null,
            "grid_gap": null,
            "max_width": null,
            "order": null,
            "_view_module_version": "1.2.0",
            "grid_template_areas": null,
            "object_position": null,
            "object_fit": null,
            "grid_auto_columns": null,
            "margin": null,
            "display": null,
            "left": null
          }
        },
        "87db3c5dc8ce4781a256f466bc02138a": {
          "model_module": "@jupyter-widgets/controls",
          "model_name": "HBoxModel",
          "model_module_version": "1.5.0",
          "state": {
            "_view_name": "HBoxView",
            "_dom_classes": [],
            "_model_name": "HBoxModel",
            "_view_module": "@jupyter-widgets/controls",
            "_model_module_version": "1.5.0",
            "_view_count": null,
            "_view_module_version": "1.5.0",
            "box_style": "",
            "layout": "IPY_MODEL_65f12a3ab29f48c0bc00dd0097f068df",
            "_model_module": "@jupyter-widgets/controls",
            "children": [
              "IPY_MODEL_081210ac912f4077b0a2515e482c3088",
              "IPY_MODEL_8712b15c000d46d3a566770e5409928f",
              "IPY_MODEL_59232a04121f45d6a6ac726ee7dd341a"
            ]
          }
        },
        "65f12a3ab29f48c0bc00dd0097f068df": {
          "model_module": "@jupyter-widgets/base",
          "model_name": "LayoutModel",
          "model_module_version": "1.2.0",
          "state": {
            "_view_name": "LayoutView",
            "grid_template_rows": null,
            "right": null,
            "justify_content": null,
            "_view_module": "@jupyter-widgets/base",
            "overflow": null,
            "_model_module_version": "1.2.0",
            "_view_count": null,
            "flex_flow": null,
            "width": null,
            "min_width": null,
            "border": null,
            "align_items": null,
            "bottom": null,
            "_model_module": "@jupyter-widgets/base",
            "top": null,
            "grid_column": null,
            "overflow_y": null,
            "overflow_x": null,
            "grid_auto_flow": null,
            "grid_area": null,
            "grid_template_columns": null,
            "flex": null,
            "_model_name": "LayoutModel",
            "justify_items": null,
            "grid_row": null,
            "max_height": null,
            "align_content": null,
            "visibility": null,
            "align_self": null,
            "height": null,
            "min_height": null,
            "padding": null,
            "grid_auto_rows": null,
            "grid_gap": null,
            "max_width": null,
            "order": null,
            "_view_module_version": "1.2.0",
            "grid_template_areas": null,
            "object_position": null,
            "object_fit": null,
            "grid_auto_columns": null,
            "margin": null,
            "display": null,
            "left": null
          }
        },
        "081210ac912f4077b0a2515e482c3088": {
          "model_module": "@jupyter-widgets/controls",
          "model_name": "HTMLModel",
          "model_module_version": "1.5.0",
          "state": {
            "_view_name": "HTMLView",
            "style": "IPY_MODEL_75772844062e4ef3b88a678d4ebd08a4",
            "_dom_classes": [],
            "description": "",
            "_model_name": "HTMLModel",
            "placeholder": "​",
            "_view_module": "@jupyter-widgets/controls",
            "_model_module_version": "1.5.0",
            "value": "Tasks: 100%",
            "_view_count": null,
            "_view_module_version": "1.5.0",
            "description_tooltip": null,
            "_model_module": "@jupyter-widgets/controls",
            "layout": "IPY_MODEL_897de96d898246fd858da886cae53934"
          }
        },
        "8712b15c000d46d3a566770e5409928f": {
          "model_module": "@jupyter-widgets/controls",
          "model_name": "FloatProgressModel",
          "model_module_version": "1.5.0",
          "state": {
            "_view_name": "ProgressView",
            "style": "IPY_MODEL_3ebbc7b502c44b50832b073a69962d4f",
            "_dom_classes": [],
            "description": "",
            "_model_name": "FloatProgressModel",
            "bar_style": "success",
            "max": 1,
            "_view_module": "@jupyter-widgets/controls",
            "_model_module_version": "1.5.0",
            "value": 1,
            "_view_count": null,
            "_view_module_version": "1.5.0",
            "orientation": "horizontal",
            "min": 0,
            "description_tooltip": null,
            "_model_module": "@jupyter-widgets/controls",
            "layout": "IPY_MODEL_5ffd4e6bb3824523bbd72f80caec8828"
          }
        },
        "59232a04121f45d6a6ac726ee7dd341a": {
          "model_module": "@jupyter-widgets/controls",
          "model_name": "HTMLModel",
          "model_module_version": "1.5.0",
          "state": {
            "_view_name": "HTMLView",
            "style": "IPY_MODEL_372a119297f54ade99aba9811280413f",
            "_dom_classes": [],
            "description": "",
            "_model_name": "HTMLModel",
            "placeholder": "​",
            "_view_module": "@jupyter-widgets/controls",
            "_model_module_version": "1.5.0",
            "value": " 1/1 [03:52&lt;00:00, 232.68s/it]",
            "_view_count": null,
            "_view_module_version": "1.5.0",
            "description_tooltip": null,
            "_model_module": "@jupyter-widgets/controls",
            "layout": "IPY_MODEL_10c59c9984b74256bc2839cb9dccc238"
          }
        },
        "75772844062e4ef3b88a678d4ebd08a4": {
          "model_module": "@jupyter-widgets/controls",
          "model_name": "DescriptionStyleModel",
          "model_module_version": "1.5.0",
          "state": {
            "_view_name": "StyleView",
            "_model_name": "DescriptionStyleModel",
            "description_width": "",
            "_view_module": "@jupyter-widgets/base",
            "_model_module_version": "1.5.0",
            "_view_count": null,
            "_view_module_version": "1.2.0",
            "_model_module": "@jupyter-widgets/controls"
          }
        },
        "897de96d898246fd858da886cae53934": {
          "model_module": "@jupyter-widgets/base",
          "model_name": "LayoutModel",
          "model_module_version": "1.2.0",
          "state": {
            "_view_name": "LayoutView",
            "grid_template_rows": null,
            "right": null,
            "justify_content": null,
            "_view_module": "@jupyter-widgets/base",
            "overflow": null,
            "_model_module_version": "1.2.0",
            "_view_count": null,
            "flex_flow": null,
            "width": null,
            "min_width": null,
            "border": null,
            "align_items": null,
            "bottom": null,
            "_model_module": "@jupyter-widgets/base",
            "top": null,
            "grid_column": null,
            "overflow_y": null,
            "overflow_x": null,
            "grid_auto_flow": null,
            "grid_area": null,
            "grid_template_columns": null,
            "flex": null,
            "_model_name": "LayoutModel",
            "justify_items": null,
            "grid_row": null,
            "max_height": null,
            "align_content": null,
            "visibility": null,
            "align_self": null,
            "height": null,
            "min_height": null,
            "padding": null,
            "grid_auto_rows": null,
            "grid_gap": null,
            "max_width": null,
            "order": null,
            "_view_module_version": "1.2.0",
            "grid_template_areas": null,
            "object_position": null,
            "object_fit": null,
            "grid_auto_columns": null,
            "margin": null,
            "display": null,
            "left": null
          }
        },
        "3ebbc7b502c44b50832b073a69962d4f": {
          "model_module": "@jupyter-widgets/controls",
          "model_name": "ProgressStyleModel",
          "model_module_version": "1.5.0",
          "state": {
            "_view_name": "StyleView",
            "_model_name": "ProgressStyleModel",
            "description_width": "",
            "_view_module": "@jupyter-widgets/base",
            "_model_module_version": "1.5.0",
            "_view_count": null,
            "_view_module_version": "1.2.0",
            "bar_color": null,
            "_model_module": "@jupyter-widgets/controls"
          }
        },
        "5ffd4e6bb3824523bbd72f80caec8828": {
          "model_module": "@jupyter-widgets/base",
          "model_name": "LayoutModel",
          "model_module_version": "1.2.0",
          "state": {
            "_view_name": "LayoutView",
            "grid_template_rows": null,
            "right": null,
            "justify_content": null,
            "_view_module": "@jupyter-widgets/base",
            "overflow": null,
            "_model_module_version": "1.2.0",
            "_view_count": null,
            "flex_flow": null,
            "width": null,
            "min_width": null,
            "border": null,
            "align_items": null,
            "bottom": null,
            "_model_module": "@jupyter-widgets/base",
            "top": null,
            "grid_column": null,
            "overflow_y": null,
            "overflow_x": null,
            "grid_auto_flow": null,
            "grid_area": null,
            "grid_template_columns": null,
            "flex": null,
            "_model_name": "LayoutModel",
            "justify_items": null,
            "grid_row": null,
            "max_height": null,
            "align_content": null,
            "visibility": null,
            "align_self": null,
            "height": null,
            "min_height": null,
            "padding": null,
            "grid_auto_rows": null,
            "grid_gap": null,
            "max_width": null,
            "order": null,
            "_view_module_version": "1.2.0",
            "grid_template_areas": null,
            "object_position": null,
            "object_fit": null,
            "grid_auto_columns": null,
            "margin": null,
            "display": null,
            "left": null
          }
        },
        "372a119297f54ade99aba9811280413f": {
          "model_module": "@jupyter-widgets/controls",
          "model_name": "DescriptionStyleModel",
          "model_module_version": "1.5.0",
          "state": {
            "_view_name": "StyleView",
            "_model_name": "DescriptionStyleModel",
            "description_width": "",
            "_view_module": "@jupyter-widgets/base",
            "_model_module_version": "1.5.0",
            "_view_count": null,
            "_view_module_version": "1.2.0",
            "_model_module": "@jupyter-widgets/controls"
          }
        },
        "10c59c9984b74256bc2839cb9dccc238": {
          "model_module": "@jupyter-widgets/base",
          "model_name": "LayoutModel",
          "model_module_version": "1.2.0",
          "state": {
            "_view_name": "LayoutView",
            "grid_template_rows": null,
            "right": null,
            "justify_content": null,
            "_view_module": "@jupyter-widgets/base",
            "overflow": null,
            "_model_module_version": "1.2.0",
            "_view_count": null,
            "flex_flow": null,
            "width": null,
            "min_width": null,
            "border": null,
            "align_items": null,
            "bottom": null,
            "_model_module": "@jupyter-widgets/base",
            "top": null,
            "grid_column": null,
            "overflow_y": null,
            "overflow_x": null,
            "grid_auto_flow": null,
            "grid_area": null,
            "grid_template_columns": null,
            "flex": null,
            "_model_name": "LayoutModel",
            "justify_items": null,
            "grid_row": null,
            "max_height": null,
            "align_content": null,
            "visibility": null,
            "align_self": null,
            "height": null,
            "min_height": null,
            "padding": null,
            "grid_auto_rows": null,
            "grid_gap": null,
            "max_width": null,
            "order": null,
            "_view_module_version": "1.2.0",
            "grid_template_areas": null,
            "object_position": null,
            "object_fit": null,
            "grid_auto_columns": null,
            "margin": null,
            "display": null,
            "left": null
          }
        },
        "0804f003d0e64b7eb389d10a7728efd8": {
          "model_module": "@jupyter-widgets/controls",
          "model_name": "HBoxModel",
          "model_module_version": "1.5.0",
          "state": {
            "_view_name": "HBoxView",
            "_dom_classes": [],
            "_model_name": "HBoxModel",
            "_view_module": "@jupyter-widgets/controls",
            "_model_module_version": "1.5.0",
            "_view_count": null,
            "_view_module_version": "1.5.0",
            "box_style": "",
            "layout": "IPY_MODEL_1d6e67cb0e5a4d6cac9409c429a5bfde",
            "_model_module": "@jupyter-widgets/controls",
            "children": [
              "IPY_MODEL_a711a64a595649a4b64ed88c2a5992db",
              "IPY_MODEL_9ad016e395b74ab889df6c0a0ac72b16",
              "IPY_MODEL_2f110f92bec54a4bae884929dc01338a"
            ]
          }
        },
        "1d6e67cb0e5a4d6cac9409c429a5bfde": {
          "model_module": "@jupyter-widgets/base",
          "model_name": "LayoutModel",
          "model_module_version": "1.2.0",
          "state": {
            "_view_name": "LayoutView",
            "grid_template_rows": null,
            "right": null,
            "justify_content": null,
            "_view_module": "@jupyter-widgets/base",
            "overflow": null,
            "_model_module_version": "1.2.0",
            "_view_count": null,
            "flex_flow": null,
            "width": null,
            "min_width": null,
            "border": null,
            "align_items": null,
            "bottom": null,
            "_model_module": "@jupyter-widgets/base",
            "top": null,
            "grid_column": null,
            "overflow_y": null,
            "overflow_x": null,
            "grid_auto_flow": null,
            "grid_area": null,
            "grid_template_columns": null,
            "flex": null,
            "_model_name": "LayoutModel",
            "justify_items": null,
            "grid_row": null,
            "max_height": null,
            "align_content": null,
            "visibility": null,
            "align_self": null,
            "height": null,
            "min_height": null,
            "padding": null,
            "grid_auto_rows": null,
            "grid_gap": null,
            "max_width": null,
            "order": null,
            "_view_module_version": "1.2.0",
            "grid_template_areas": null,
            "object_position": null,
            "object_fit": null,
            "grid_auto_columns": null,
            "margin": null,
            "display": null,
            "left": null
          }
        },
        "a711a64a595649a4b64ed88c2a5992db": {
          "model_module": "@jupyter-widgets/controls",
          "model_name": "HTMLModel",
          "model_module_version": "1.5.0",
          "state": {
            "_view_name": "HTMLView",
            "style": "IPY_MODEL_d49f4f7435d74ec3bdd2a7508b1cd0e2",
            "_dom_classes": [],
            "description": "",
            "_model_name": "HTMLModel",
            "placeholder": "​",
            "_view_module": "@jupyter-widgets/controls",
            "_model_module_version": "1.5.0",
            "value": "Computing holdouts: 100%",
            "_view_count": null,
            "_view_module_version": "1.5.0",
            "description_tooltip": null,
            "_model_module": "@jupyter-widgets/controls",
            "layout": "IPY_MODEL_107f54e4f1854ed397917a52bc9e4fad"
          }
        },
        "9ad016e395b74ab889df6c0a0ac72b16": {
          "model_module": "@jupyter-widgets/controls",
          "model_name": "FloatProgressModel",
          "model_module_version": "1.5.0",
          "state": {
            "_view_name": "ProgressView",
            "style": "IPY_MODEL_0bb9c507a84b4c4bb66cb9e932ade079",
            "_dom_classes": [],
            "description": "",
            "_model_name": "FloatProgressModel",
            "bar_style": "",
            "max": 2,
            "_view_module": "@jupyter-widgets/controls",
            "_model_module_version": "1.5.0",
            "value": 2,
            "_view_count": null,
            "_view_module_version": "1.5.0",
            "orientation": "horizontal",
            "min": 0,
            "description_tooltip": null,
            "_model_module": "@jupyter-widgets/controls",
            "layout": "IPY_MODEL_25f7d1c0fd3b43dd9e8cedce290241f7"
          }
        },
        "2f110f92bec54a4bae884929dc01338a": {
          "model_module": "@jupyter-widgets/controls",
          "model_name": "HTMLModel",
          "model_module_version": "1.5.0",
          "state": {
            "_view_name": "HTMLView",
            "style": "IPY_MODEL_5b107849411941bd8e046fd04f37a705",
            "_dom_classes": [],
            "description": "",
            "_model_name": "HTMLModel",
            "placeholder": "​",
            "_view_module": "@jupyter-widgets/controls",
            "_model_module_version": "1.5.0",
            "value": " 2/2 [03:52&lt;00:00, 99.48s/it]",
            "_view_count": null,
            "_view_module_version": "1.5.0",
            "description_tooltip": null,
            "_model_module": "@jupyter-widgets/controls",
            "layout": "IPY_MODEL_0e8bbdb7d4d34296b18cfd195bda64c6"
          }
        },
        "d49f4f7435d74ec3bdd2a7508b1cd0e2": {
          "model_module": "@jupyter-widgets/controls",
          "model_name": "DescriptionStyleModel",
          "model_module_version": "1.5.0",
          "state": {
            "_view_name": "StyleView",
            "_model_name": "DescriptionStyleModel",
            "description_width": "",
            "_view_module": "@jupyter-widgets/base",
            "_model_module_version": "1.5.0",
            "_view_count": null,
            "_view_module_version": "1.2.0",
            "_model_module": "@jupyter-widgets/controls"
          }
        },
        "107f54e4f1854ed397917a52bc9e4fad": {
          "model_module": "@jupyter-widgets/base",
          "model_name": "LayoutModel",
          "model_module_version": "1.2.0",
          "state": {
            "_view_name": "LayoutView",
            "grid_template_rows": null,
            "right": null,
            "justify_content": null,
            "_view_module": "@jupyter-widgets/base",
            "overflow": null,
            "_model_module_version": "1.2.0",
            "_view_count": null,
            "flex_flow": null,
            "width": null,
            "min_width": null,
            "border": null,
            "align_items": null,
            "bottom": null,
            "_model_module": "@jupyter-widgets/base",
            "top": null,
            "grid_column": null,
            "overflow_y": null,
            "overflow_x": null,
            "grid_auto_flow": null,
            "grid_area": null,
            "grid_template_columns": null,
            "flex": null,
            "_model_name": "LayoutModel",
            "justify_items": null,
            "grid_row": null,
            "max_height": null,
            "align_content": null,
            "visibility": null,
            "align_self": null,
            "height": null,
            "min_height": null,
            "padding": null,
            "grid_auto_rows": null,
            "grid_gap": null,
            "max_width": null,
            "order": null,
            "_view_module_version": "1.2.0",
            "grid_template_areas": null,
            "object_position": null,
            "object_fit": null,
            "grid_auto_columns": null,
            "margin": null,
            "display": null,
            "left": null
          }
        },
        "0bb9c507a84b4c4bb66cb9e932ade079": {
          "model_module": "@jupyter-widgets/controls",
          "model_name": "ProgressStyleModel",
          "model_module_version": "1.5.0",
          "state": {
            "_view_name": "StyleView",
            "_model_name": "ProgressStyleModel",
            "description_width": "",
            "_view_module": "@jupyter-widgets/base",
            "_model_module_version": "1.5.0",
            "_view_count": null,
            "_view_module_version": "1.2.0",
            "bar_color": null,
            "_model_module": "@jupyter-widgets/controls"
          }
        },
        "25f7d1c0fd3b43dd9e8cedce290241f7": {
          "model_module": "@jupyter-widgets/base",
          "model_name": "LayoutModel",
          "model_module_version": "1.2.0",
          "state": {
            "_view_name": "LayoutView",
            "grid_template_rows": null,
            "right": null,
            "justify_content": null,
            "_view_module": "@jupyter-widgets/base",
            "overflow": null,
            "_model_module_version": "1.2.0",
            "_view_count": null,
            "flex_flow": null,
            "width": null,
            "min_width": null,
            "border": null,
            "align_items": null,
            "bottom": null,
            "_model_module": "@jupyter-widgets/base",
            "top": null,
            "grid_column": null,
            "overflow_y": null,
            "overflow_x": null,
            "grid_auto_flow": null,
            "grid_area": null,
            "grid_template_columns": null,
            "flex": null,
            "_model_name": "LayoutModel",
            "justify_items": null,
            "grid_row": null,
            "max_height": null,
            "align_content": null,
            "visibility": null,
            "align_self": null,
            "height": null,
            "min_height": null,
            "padding": null,
            "grid_auto_rows": null,
            "grid_gap": null,
            "max_width": null,
            "order": null,
            "_view_module_version": "1.2.0",
            "grid_template_areas": null,
            "object_position": null,
            "object_fit": null,
            "grid_auto_columns": null,
            "margin": null,
            "display": null,
            "left": null
          }
        },
        "5b107849411941bd8e046fd04f37a705": {
          "model_module": "@jupyter-widgets/controls",
          "model_name": "DescriptionStyleModel",
          "model_module_version": "1.5.0",
          "state": {
            "_view_name": "StyleView",
            "_model_name": "DescriptionStyleModel",
            "description_width": "",
            "_view_module": "@jupyter-widgets/base",
            "_model_module_version": "1.5.0",
            "_view_count": null,
            "_view_module_version": "1.2.0",
            "_model_module": "@jupyter-widgets/controls"
          }
        },
        "0e8bbdb7d4d34296b18cfd195bda64c6": {
          "model_module": "@jupyter-widgets/base",
          "model_name": "LayoutModel",
          "model_module_version": "1.2.0",
          "state": {
            "_view_name": "LayoutView",
            "grid_template_rows": null,
            "right": null,
            "justify_content": null,
            "_view_module": "@jupyter-widgets/base",
            "overflow": null,
            "_model_module_version": "1.2.0",
            "_view_count": null,
            "flex_flow": null,
            "width": null,
            "min_width": null,
            "border": null,
            "align_items": null,
            "bottom": null,
            "_model_module": "@jupyter-widgets/base",
            "top": null,
            "grid_column": null,
            "overflow_y": null,
            "overflow_x": null,
            "grid_auto_flow": null,
            "grid_area": null,
            "grid_template_columns": null,
            "flex": null,
            "_model_name": "LayoutModel",
            "justify_items": null,
            "grid_row": null,
            "max_height": null,
            "align_content": null,
            "visibility": null,
            "align_self": null,
            "height": null,
            "min_height": null,
            "padding": null,
            "grid_auto_rows": null,
            "grid_gap": null,
            "max_width": null,
            "order": null,
            "_view_module_version": "1.2.0",
            "grid_template_areas": null,
            "object_position": null,
            "object_fit": null,
            "grid_auto_columns": null,
            "margin": null,
            "display": null,
            "left": null
          }
        }
      }
    },
    "accelerator": "GPU"
  },
  "nbformat": 4,
  "nbformat_minor": 0
}